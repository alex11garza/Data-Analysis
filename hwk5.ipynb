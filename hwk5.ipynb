{
 "cells": [
  {
   "cell_type": "code",
   "execution_count": 1,
   "id": "48c458b0-eec7-42b1-a2c1-6d216d3e3c5f",
   "metadata": {},
   "outputs": [],
   "source": [
    "#Import Libraries\n",
    "import sys \n",
    "import numpy as np\n",
    "import pandas as pd\n",
    "import matplotlib.pyplot as plt\n",
    "import seaborn as sns\n",
    "from scipy import stats\n",
    "import sklearn.linear_model\n",
    "import astropy\n",
    "import plotly.express as px\n",
    "import warnings"
   ]
  },
  {
   "cell_type": "code",
   "execution_count": 2,
   "id": "9b596f9a-8646-4663-b491-4513628dc015",
   "metadata": {},
   "outputs": [],
   "source": [
    "df = pd.read_csv(\"bsc5updated.csv\")"
   ]
  },
  {
   "cell_type": "code",
   "execution_count": 3,
   "id": "eea4e89a-164d-44ce-a8fb-8c5242b8e5b2",
   "metadata": {},
   "outputs": [
    {
     "data": {
      "text/html": [
       "<div>\n",
       "<style scoped>\n",
       "    .dataframe tbody tr th:only-of-type {\n",
       "        vertical-align: middle;\n",
       "    }\n",
       "\n",
       "    .dataframe tbody tr th {\n",
       "        vertical-align: top;\n",
       "    }\n",
       "\n",
       "    .dataframe thead th {\n",
       "        text-align: right;\n",
       "    }\n",
       "</style>\n",
       "<table border=\"1\" class=\"dataframe\">\n",
       "  <thead>\n",
       "    <tr style=\"text-align: right;\">\n",
       "      <th></th>\n",
       "      <th>HR_Number</th>\n",
       "      <th>Label</th>\n",
       "      <th>HH</th>\n",
       "      <th>MM</th>\n",
       "      <th>SS</th>\n",
       "      <th>DD</th>\n",
       "      <th>Spectral_Type</th>\n",
       "      <th>Parallax</th>\n",
       "      <th>Symbol</th>\n",
       "    </tr>\n",
       "  </thead>\n",
       "  <tbody>\n",
       "    <tr>\n",
       "      <th>0</th>\n",
       "      <td>1</td>\n",
       "      <td>NaN</td>\n",
       "      <td>0.0</td>\n",
       "      <td>5.0</td>\n",
       "      <td>9.9</td>\n",
       "      <td>45.0</td>\n",
       "      <td>A1Vn</td>\n",
       "      <td>NaN</td>\n",
       "      <td>NaN</td>\n",
       "    </tr>\n",
       "    <tr>\n",
       "      <th>1</th>\n",
       "      <td>2</td>\n",
       "      <td>NaN</td>\n",
       "      <td>0.0</td>\n",
       "      <td>5.0</td>\n",
       "      <td>3.8</td>\n",
       "      <td>0.0</td>\n",
       "      <td>gG9</td>\n",
       "      <td>NaN</td>\n",
       "      <td>NaN</td>\n",
       "    </tr>\n",
       "    <tr>\n",
       "      <th>2</th>\n",
       "      <td>3</td>\n",
       "      <td>33    Psc</td>\n",
       "      <td>0.0</td>\n",
       "      <td>5.0</td>\n",
       "      <td>20.1</td>\n",
       "      <td>-5.0</td>\n",
       "      <td>K0IIIbCN</td>\n",
       "      <td>+.014</td>\n",
       "      <td>*</td>\n",
       "    </tr>\n",
       "    <tr>\n",
       "      <th>3</th>\n",
       "      <td>4</td>\n",
       "      <td>86    Peg</td>\n",
       "      <td>0.0</td>\n",
       "      <td>5.0</td>\n",
       "      <td>42.0</td>\n",
       "      <td>13.0</td>\n",
       "      <td>G5III</td>\n",
       "      <td>NaN</td>\n",
       "      <td>NaN</td>\n",
       "    </tr>\n",
       "    <tr>\n",
       "      <th>4</th>\n",
       "      <td>5</td>\n",
       "      <td>NaN</td>\n",
       "      <td>0.0</td>\n",
       "      <td>6.0</td>\n",
       "      <td>16.0</td>\n",
       "      <td>58.0</td>\n",
       "      <td>G5V</td>\n",
       "      <td>+.047</td>\n",
       "      <td>*</td>\n",
       "    </tr>\n",
       "  </tbody>\n",
       "</table>\n",
       "</div>"
      ],
      "text/plain": [
       "   HR_Number      Label   HH   MM    SS    DD Spectral_Type Parallax Symbol\n",
       "0          1        NaN  0.0  5.0   9.9  45.0          A1Vn      NaN    NaN\n",
       "1          2        NaN  0.0  5.0   3.8   0.0           gG9      NaN    NaN\n",
       "2          3  33    Psc  0.0  5.0  20.1  -5.0      K0IIIbCN    +.014      *\n",
       "3          4  86    Peg  0.0  5.0  42.0  13.0         G5III      NaN    NaN\n",
       "4          5        NaN  0.0  6.0  16.0  58.0           G5V    +.047      *"
      ]
     },
     "execution_count": 3,
     "metadata": {},
     "output_type": "execute_result"
    }
   ],
   "source": [
    "df.head()"
   ]
  },
  {
   "cell_type": "code",
   "execution_count": 4,
   "id": "2654d48a-8eed-4f52-bd29-301d308169e2",
   "metadata": {},
   "outputs": [
    {
     "data": {
      "text/html": [
       "<div>\n",
       "<style scoped>\n",
       "    .dataframe tbody tr th:only-of-type {\n",
       "        vertical-align: middle;\n",
       "    }\n",
       "\n",
       "    .dataframe tbody tr th {\n",
       "        vertical-align: top;\n",
       "    }\n",
       "\n",
       "    .dataframe thead th {\n",
       "        text-align: right;\n",
       "    }\n",
       "</style>\n",
       "<table border=\"1\" class=\"dataframe\">\n",
       "  <thead>\n",
       "    <tr style=\"text-align: right;\">\n",
       "      <th></th>\n",
       "      <th>HR_Number</th>\n",
       "      <th>Label</th>\n",
       "      <th>HH</th>\n",
       "      <th>MM</th>\n",
       "      <th>SS</th>\n",
       "      <th>DD</th>\n",
       "      <th>Spectral_Type</th>\n",
       "      <th>Parallax</th>\n",
       "      <th>Symbol</th>\n",
       "    </tr>\n",
       "  </thead>\n",
       "  <tbody>\n",
       "    <tr>\n",
       "      <th>9105</th>\n",
       "      <td>9106</td>\n",
       "      <td>NaN</td>\n",
       "      <td>0.0</td>\n",
       "      <td>4.0</td>\n",
       "      <td>30.7</td>\n",
       "      <td>-72.0</td>\n",
       "      <td>F2V</td>\n",
       "      <td>NaN</td>\n",
       "      <td>NaN</td>\n",
       "    </tr>\n",
       "    <tr>\n",
       "      <th>9106</th>\n",
       "      <td>9107</td>\n",
       "      <td>NaN</td>\n",
       "      <td>0.0</td>\n",
       "      <td>4.0</td>\n",
       "      <td>53.8</td>\n",
       "      <td>34.0</td>\n",
       "      <td>G2V</td>\n",
       "      <td>+.035</td>\n",
       "      <td>NaN</td>\n",
       "    </tr>\n",
       "    <tr>\n",
       "      <th>9107</th>\n",
       "      <td>9108</td>\n",
       "      <td>NaN</td>\n",
       "      <td>0.0</td>\n",
       "      <td>4.0</td>\n",
       "      <td>41.3</td>\n",
       "      <td>-71.0</td>\n",
       "      <td>B8IV-V</td>\n",
       "      <td>NaN</td>\n",
       "      <td>NaN</td>\n",
       "    </tr>\n",
       "    <tr>\n",
       "      <th>9108</th>\n",
       "      <td>9109</td>\n",
       "      <td>NaN</td>\n",
       "      <td>0.0</td>\n",
       "      <td>4.0</td>\n",
       "      <td>56.0</td>\n",
       "      <td>26.0</td>\n",
       "      <td>K4IIIb</td>\n",
       "      <td>NaN</td>\n",
       "      <td>NaN</td>\n",
       "    </tr>\n",
       "    <tr>\n",
       "      <th>9109</th>\n",
       "      <td>9110</td>\n",
       "      <td>NaN</td>\n",
       "      <td>0.0</td>\n",
       "      <td>5.0</td>\n",
       "      <td>6.2</td>\n",
       "      <td>61.0</td>\n",
       "      <td>B8IVpHgM</td>\n",
       "      <td>NaN</td>\n",
       "      <td>*</td>\n",
       "    </tr>\n",
       "  </tbody>\n",
       "</table>\n",
       "</div>"
      ],
      "text/plain": [
       "      HR_Number Label   HH   MM    SS    DD Spectral_Type Parallax Symbol\n",
       "9105       9106   NaN  0.0  4.0  30.7 -72.0           F2V      NaN    NaN\n",
       "9106       9107   NaN  0.0  4.0  53.8  34.0           G2V    +.035    NaN\n",
       "9107       9108   NaN  0.0  4.0  41.3 -71.0        B8IV-V      NaN    NaN\n",
       "9108       9109   NaN  0.0  4.0  56.0  26.0        K4IIIb      NaN    NaN\n",
       "9109       9110   NaN  0.0  5.0   6.2  61.0      B8IVpHgM      NaN      *"
      ]
     },
     "execution_count": 4,
     "metadata": {},
     "output_type": "execute_result"
    }
   ],
   "source": [
    "df.tail()"
   ]
  },
  {
   "cell_type": "code",
   "execution_count": 5,
   "id": "23b4f86a-6107-4e63-851b-d5ce8e95f823",
   "metadata": {},
   "outputs": [
    {
     "data": {
      "text/html": [
       "<div>\n",
       "<style scoped>\n",
       "    .dataframe tbody tr th:only-of-type {\n",
       "        vertical-align: middle;\n",
       "    }\n",
       "\n",
       "    .dataframe tbody tr th {\n",
       "        vertical-align: top;\n",
       "    }\n",
       "\n",
       "    .dataframe thead th {\n",
       "        text-align: right;\n",
       "    }\n",
       "</style>\n",
       "<table border=\"1\" class=\"dataframe\">\n",
       "  <thead>\n",
       "    <tr style=\"text-align: right;\">\n",
       "      <th></th>\n",
       "      <th>HR_Number</th>\n",
       "      <th>HH</th>\n",
       "      <th>MM</th>\n",
       "      <th>SS</th>\n",
       "      <th>DD</th>\n",
       "    </tr>\n",
       "  </thead>\n",
       "  <tbody>\n",
       "    <tr>\n",
       "      <th>count</th>\n",
       "      <td>9110.00000</td>\n",
       "      <td>9096.000000</td>\n",
       "      <td>9096.000000</td>\n",
       "      <td>9096.000000</td>\n",
       "      <td>9096.000000</td>\n",
       "    </tr>\n",
       "    <tr>\n",
       "      <th>mean</th>\n",
       "      <td>4555.50000</td>\n",
       "      <td>11.547274</td>\n",
       "      <td>29.765501</td>\n",
       "      <td>30.171284</td>\n",
       "      <td>-1.428430</td>\n",
       "    </tr>\n",
       "    <tr>\n",
       "      <th>std</th>\n",
       "      <td>2629.97481</td>\n",
       "      <td>6.790622</td>\n",
       "      <td>17.197686</td>\n",
       "      <td>17.249091</td>\n",
       "      <td>39.992178</td>\n",
       "    </tr>\n",
       "    <tr>\n",
       "      <th>min</th>\n",
       "      <td>1.00000</td>\n",
       "      <td>0.000000</td>\n",
       "      <td>0.000000</td>\n",
       "      <td>0.000000</td>\n",
       "      <td>-88.000000</td>\n",
       "    </tr>\n",
       "    <tr>\n",
       "      <th>25%</th>\n",
       "      <td>2278.25000</td>\n",
       "      <td>6.000000</td>\n",
       "      <td>15.000000</td>\n",
       "      <td>15.700000</td>\n",
       "      <td>-35.000000</td>\n",
       "    </tr>\n",
       "    <tr>\n",
       "      <th>50%</th>\n",
       "      <td>4555.50000</td>\n",
       "      <td>11.000000</td>\n",
       "      <td>30.000000</td>\n",
       "      <td>30.400000</td>\n",
       "      <td>-1.000000</td>\n",
       "    </tr>\n",
       "    <tr>\n",
       "      <th>75%</th>\n",
       "      <td>6832.75000</td>\n",
       "      <td>18.000000</td>\n",
       "      <td>45.000000</td>\n",
       "      <td>44.900000</td>\n",
       "      <td>31.000000</td>\n",
       "    </tr>\n",
       "    <tr>\n",
       "      <th>max</th>\n",
       "      <td>9110.00000</td>\n",
       "      <td>23.000000</td>\n",
       "      <td>59.000000</td>\n",
       "      <td>59.900000</td>\n",
       "      <td>89.000000</td>\n",
       "    </tr>\n",
       "  </tbody>\n",
       "</table>\n",
       "</div>"
      ],
      "text/plain": [
       "        HR_Number           HH           MM           SS           DD\n",
       "count  9110.00000  9096.000000  9096.000000  9096.000000  9096.000000\n",
       "mean   4555.50000    11.547274    29.765501    30.171284    -1.428430\n",
       "std    2629.97481     6.790622    17.197686    17.249091    39.992178\n",
       "min       1.00000     0.000000     0.000000     0.000000   -88.000000\n",
       "25%    2278.25000     6.000000    15.000000    15.700000   -35.000000\n",
       "50%    4555.50000    11.000000    30.000000    30.400000    -1.000000\n",
       "75%    6832.75000    18.000000    45.000000    44.900000    31.000000\n",
       "max    9110.00000    23.000000    59.000000    59.900000    89.000000"
      ]
     },
     "execution_count": 5,
     "metadata": {},
     "output_type": "execute_result"
    }
   ],
   "source": [
    "df.describe()"
   ]
  },
  {
   "cell_type": "code",
   "execution_count": 6,
   "id": "93c78803-56f6-4db4-a839-c0f59d8c20eb",
   "metadata": {},
   "outputs": [
    {
     "data": {
      "text/plain": [
       "(9110, 9)"
      ]
     },
     "execution_count": 6,
     "metadata": {},
     "output_type": "execute_result"
    }
   ],
   "source": [
    "df.shape"
   ]
  },
  {
   "cell_type": "code",
   "execution_count": 7,
   "id": "ecd91f16-16c6-4aae-b7f5-5fecf14b4cb4",
   "metadata": {},
   "outputs": [
    {
     "name": "stdout",
     "output_type": "stream",
     "text": [
      "<class 'pandas.core.frame.DataFrame'>\n",
      "RangeIndex: 9110 entries, 0 to 9109\n",
      "Data columns (total 9 columns):\n",
      " #   Column         Non-Null Count  Dtype  \n",
      "---  ------         --------------  -----  \n",
      " 0   HR_Number      9110 non-null   int64  \n",
      " 1   Label          3157 non-null   object \n",
      " 2   HH             9096 non-null   float64\n",
      " 3   MM             9096 non-null   float64\n",
      " 4   SS             9096 non-null   float64\n",
      " 5   DD             9096 non-null   float64\n",
      " 6   Spectral_Type  9096 non-null   object \n",
      " 7   Parallax       3289 non-null   object \n",
      " 8   Symbol         4477 non-null   object \n",
      "dtypes: float64(4), int64(1), object(4)\n",
      "memory usage: 640.7+ KB\n"
     ]
    }
   ],
   "source": [
    "df.info()"
   ]
  },
  {
   "cell_type": "code",
   "execution_count": 8,
   "id": "8401468b-a12b-46c2-8652-3ba796b2e3f5",
   "metadata": {},
   "outputs": [],
   "source": [
    "# 161 A1     ---   n_Parallax [D] D indicates a dynamical parallax, otherwise a trigonometric parallax"
   ]
  },
  {
   "cell_type": "code",
   "execution_count": 9,
   "id": "4261b79c-414f-49ed-bbcf-f7b64a9fc625",
   "metadata": {},
   "outputs": [],
   "source": [
    "#New df_trigonometric_Parallax\n",
    "df_tp = df[df['Parallax'].astype(str).str.contains('D')]"
   ]
  },
  {
   "cell_type": "code",
   "execution_count": 10,
   "id": "cf247b9d-4476-4749-a182-513c97969db2",
   "metadata": {},
   "outputs": [
    {
     "data": {
      "text/html": [
       "<div>\n",
       "<style scoped>\n",
       "    .dataframe tbody tr th:only-of-type {\n",
       "        vertical-align: middle;\n",
       "    }\n",
       "\n",
       "    .dataframe tbody tr th {\n",
       "        vertical-align: top;\n",
       "    }\n",
       "\n",
       "    .dataframe thead th {\n",
       "        text-align: right;\n",
       "    }\n",
       "</style>\n",
       "<table border=\"1\" class=\"dataframe\">\n",
       "  <thead>\n",
       "    <tr style=\"text-align: right;\">\n",
       "      <th></th>\n",
       "      <th>HR_Number</th>\n",
       "      <th>Label</th>\n",
       "      <th>HH</th>\n",
       "      <th>MM</th>\n",
       "      <th>SS</th>\n",
       "      <th>DD</th>\n",
       "      <th>Spectral_Type</th>\n",
       "      <th>Parallax</th>\n",
       "      <th>Symbol</th>\n",
       "    </tr>\n",
       "  </thead>\n",
       "  <tbody>\n",
       "    <tr>\n",
       "      <th>22</th>\n",
       "      <td>23</td>\n",
       "      <td>NaN</td>\n",
       "      <td>0.0</td>\n",
       "      <td>9.0</td>\n",
       "      <td>2.4</td>\n",
       "      <td>-54.0</td>\n",
       "      <td>G4IV</td>\n",
       "      <td>D+.009</td>\n",
       "      <td>*</td>\n",
       "    </tr>\n",
       "    <tr>\n",
       "      <th>25</th>\n",
       "      <td>26</td>\n",
       "      <td>34    Psc</td>\n",
       "      <td>0.0</td>\n",
       "      <td>10.0</td>\n",
       "      <td>2.3</td>\n",
       "      <td>11.0</td>\n",
       "      <td>B9Vn</td>\n",
       "      <td>D+.017</td>\n",
       "      <td>*</td>\n",
       "    </tr>\n",
       "    <tr>\n",
       "      <th>39</th>\n",
       "      <td>40</td>\n",
       "      <td>NaN</td>\n",
       "      <td>0.0</td>\n",
       "      <td>13.0</td>\n",
       "      <td>24.0</td>\n",
       "      <td>26.0</td>\n",
       "      <td>G0III</td>\n",
       "      <td>D+.006</td>\n",
       "      <td>*</td>\n",
       "    </tr>\n",
       "    <tr>\n",
       "      <th>49</th>\n",
       "      <td>50</td>\n",
       "      <td>35    Psc</td>\n",
       "      <td>0.0</td>\n",
       "      <td>14.0</td>\n",
       "      <td>58.8</td>\n",
       "      <td>8.0</td>\n",
       "      <td>F0IV</td>\n",
       "      <td>D+.017</td>\n",
       "      <td>*</td>\n",
       "    </tr>\n",
       "    <tr>\n",
       "      <th>54</th>\n",
       "      <td>55</td>\n",
       "      <td>NaN</td>\n",
       "      <td>0.0</td>\n",
       "      <td>16.0</td>\n",
       "      <td>14.0</td>\n",
       "      <td>76.0</td>\n",
       "      <td>B8Vnn</td>\n",
       "      <td>D+.013</td>\n",
       "      <td>*</td>\n",
       "    </tr>\n",
       "  </tbody>\n",
       "</table>\n",
       "</div>"
      ],
      "text/plain": [
       "    HR_Number      Label   HH    MM    SS    DD Spectral_Type Parallax Symbol\n",
       "22         23        NaN  0.0   9.0   2.4 -54.0          G4IV   D+.009      *\n",
       "25         26  34    Psc  0.0  10.0   2.3  11.0          B9Vn   D+.017      *\n",
       "39         40        NaN  0.0  13.0  24.0  26.0         G0III   D+.006      *\n",
       "49         50  35    Psc  0.0  14.0  58.8   8.0          F0IV   D+.017      *\n",
       "54         55        NaN  0.0  16.0  14.0  76.0         B8Vnn   D+.013      *"
      ]
     },
     "execution_count": 10,
     "metadata": {},
     "output_type": "execute_result"
    }
   ],
   "source": [
    "df_tp.head()"
   ]
  },
  {
   "cell_type": "code",
   "execution_count": 11,
   "id": "6f4b3c7d-c3be-49c3-8e43-ea86bc89b7fe",
   "metadata": {},
   "outputs": [
    {
     "data": {
      "text/html": [
       "<div>\n",
       "<style scoped>\n",
       "    .dataframe tbody tr th:only-of-type {\n",
       "        vertical-align: middle;\n",
       "    }\n",
       "\n",
       "    .dataframe tbody tr th {\n",
       "        vertical-align: top;\n",
       "    }\n",
       "\n",
       "    .dataframe thead th {\n",
       "        text-align: right;\n",
       "    }\n",
       "</style>\n",
       "<table border=\"1\" class=\"dataframe\">\n",
       "  <thead>\n",
       "    <tr style=\"text-align: right;\">\n",
       "      <th></th>\n",
       "      <th>HR_Number</th>\n",
       "      <th>Label</th>\n",
       "      <th>HH</th>\n",
       "      <th>MM</th>\n",
       "      <th>SS</th>\n",
       "      <th>DD</th>\n",
       "      <th>Spectral_Type</th>\n",
       "      <th>Parallax</th>\n",
       "      <th>Symbol</th>\n",
       "    </tr>\n",
       "  </thead>\n",
       "  <tbody>\n",
       "    <tr>\n",
       "      <th>9043</th>\n",
       "      <td>9044</td>\n",
       "      <td>NaN</td>\n",
       "      <td>23.0</td>\n",
       "      <td>54.0</td>\n",
       "      <td>21.4</td>\n",
       "      <td>-27.0</td>\n",
       "      <td>A2V+F2V</td>\n",
       "      <td>D+.006</td>\n",
       "      <td>*</td>\n",
       "    </tr>\n",
       "    <tr>\n",
       "      <th>9070</th>\n",
       "      <td>9071</td>\n",
       "      <td>8Sig Cas</td>\n",
       "      <td>23.0</td>\n",
       "      <td>59.0</td>\n",
       "      <td>0.5</td>\n",
       "      <td>55.0</td>\n",
       "      <td>B1V</td>\n",
       "      <td>D+.006</td>\n",
       "      <td>*</td>\n",
       "    </tr>\n",
       "    <tr>\n",
       "      <th>9073</th>\n",
       "      <td>9074</td>\n",
       "      <td>NaN</td>\n",
       "      <td>23.0</td>\n",
       "      <td>59.0</td>\n",
       "      <td>29.2</td>\n",
       "      <td>33.0</td>\n",
       "      <td>G0V</td>\n",
       "      <td>D+.051</td>\n",
       "      <td>*</td>\n",
       "    </tr>\n",
       "    <tr>\n",
       "      <th>9074</th>\n",
       "      <td>9075</td>\n",
       "      <td>NaN</td>\n",
       "      <td>23.0</td>\n",
       "      <td>59.0</td>\n",
       "      <td>29.2</td>\n",
       "      <td>33.0</td>\n",
       "      <td>G0V</td>\n",
       "      <td>D+.051</td>\n",
       "      <td>*</td>\n",
       "    </tr>\n",
       "    <tr>\n",
       "      <th>9093</th>\n",
       "      <td>9094</td>\n",
       "      <td>NaN</td>\n",
       "      <td>0.0</td>\n",
       "      <td>2.0</td>\n",
       "      <td>36.1</td>\n",
       "      <td>66.0</td>\n",
       "      <td>G8III</td>\n",
       "      <td>D+.010</td>\n",
       "      <td>*</td>\n",
       "    </tr>\n",
       "  </tbody>\n",
       "</table>\n",
       "</div>"
      ],
      "text/plain": [
       "      HR_Number     Label    HH    MM    SS    DD Spectral_Type Parallax  \\\n",
       "9043       9044       NaN  23.0  54.0  21.4 -27.0       A2V+F2V   D+.006   \n",
       "9070       9071  8Sig Cas  23.0  59.0   0.5  55.0           B1V   D+.006   \n",
       "9073       9074       NaN  23.0  59.0  29.2  33.0           G0V   D+.051   \n",
       "9074       9075       NaN  23.0  59.0  29.2  33.0           G0V   D+.051   \n",
       "9093       9094       NaN   0.0   2.0  36.1  66.0         G8III   D+.010   \n",
       "\n",
       "     Symbol  \n",
       "9043      *  \n",
       "9070      *  \n",
       "9073      *  \n",
       "9074      *  \n",
       "9093      *  "
      ]
     },
     "execution_count": 11,
     "metadata": {},
     "output_type": "execute_result"
    }
   ],
   "source": [
    "df_tp.tail()"
   ]
  },
  {
   "cell_type": "code",
   "execution_count": 12,
   "id": "1fac101e-3eb4-487f-8035-6f1e24b90f8b",
   "metadata": {},
   "outputs": [
    {
     "data": {
      "text/plain": [
       "3492"
      ]
     },
     "execution_count": 12,
     "metadata": {},
     "output_type": "execute_result"
    }
   ],
   "source": [
    "df_tp.size"
   ]
  },
  {
   "cell_type": "code",
   "execution_count": 13,
   "id": "c39823b6-f9ed-4b2e-ae3e-35a15d157322",
   "metadata": {},
   "outputs": [
    {
     "name": "stdout",
     "output_type": "stream",
     "text": [
      "<class 'pandas.core.frame.DataFrame'>\n",
      "Int64Index: 388 entries, 22 to 9093\n",
      "Data columns (total 9 columns):\n",
      " #   Column         Non-Null Count  Dtype  \n",
      "---  ------         --------------  -----  \n",
      " 0   HR_Number      388 non-null    int64  \n",
      " 1   Label          107 non-null    object \n",
      " 2   HH             388 non-null    float64\n",
      " 3   MM             388 non-null    float64\n",
      " 4   SS             388 non-null    float64\n",
      " 5   DD             388 non-null    float64\n",
      " 6   Spectral_Type  388 non-null    object \n",
      " 7   Parallax       388 non-null    object \n",
      " 8   Symbol         318 non-null    object \n",
      "dtypes: float64(4), int64(1), object(4)\n",
      "memory usage: 30.3+ KB\n"
     ]
    }
   ],
   "source": [
    "df_tp.info()"
   ]
  },
  {
   "cell_type": "code",
   "execution_count": 14,
   "id": "866d7e46-8118-4d4e-99b7-1f18a65c8b68",
   "metadata": {},
   "outputs": [
    {
     "data": {
      "text/html": [
       "<div>\n",
       "<style scoped>\n",
       "    .dataframe tbody tr th:only-of-type {\n",
       "        vertical-align: middle;\n",
       "    }\n",
       "\n",
       "    .dataframe tbody tr th {\n",
       "        vertical-align: top;\n",
       "    }\n",
       "\n",
       "    .dataframe thead th {\n",
       "        text-align: right;\n",
       "    }\n",
       "</style>\n",
       "<table border=\"1\" class=\"dataframe\">\n",
       "  <thead>\n",
       "    <tr style=\"text-align: right;\">\n",
       "      <th></th>\n",
       "      <th>HR_Number</th>\n",
       "      <th>HH</th>\n",
       "      <th>MM</th>\n",
       "      <th>SS</th>\n",
       "      <th>DD</th>\n",
       "    </tr>\n",
       "  </thead>\n",
       "  <tbody>\n",
       "    <tr>\n",
       "      <th>count</th>\n",
       "      <td>388.000000</td>\n",
       "      <td>388.000000</td>\n",
       "      <td>388.000000</td>\n",
       "      <td>388.000000</td>\n",
       "      <td>388.000000</td>\n",
       "    </tr>\n",
       "    <tr>\n",
       "      <th>mean</th>\n",
       "      <td>4355.708763</td>\n",
       "      <td>11.051546</td>\n",
       "      <td>29.587629</td>\n",
       "      <td>30.220103</td>\n",
       "      <td>-1.938144</td>\n",
       "    </tr>\n",
       "    <tr>\n",
       "      <th>std</th>\n",
       "      <td>2574.105515</td>\n",
       "      <td>6.626033</td>\n",
       "      <td>17.351661</td>\n",
       "      <td>17.016855</td>\n",
       "      <td>38.648035</td>\n",
       "    </tr>\n",
       "    <tr>\n",
       "      <th>min</th>\n",
       "      <td>23.000000</td>\n",
       "      <td>0.000000</td>\n",
       "      <td>0.000000</td>\n",
       "      <td>0.000000</td>\n",
       "      <td>-85.000000</td>\n",
       "    </tr>\n",
       "    <tr>\n",
       "      <th>25%</th>\n",
       "      <td>2163.250000</td>\n",
       "      <td>5.750000</td>\n",
       "      <td>15.000000</td>\n",
       "      <td>15.975000</td>\n",
       "      <td>-32.250000</td>\n",
       "    </tr>\n",
       "    <tr>\n",
       "      <th>50%</th>\n",
       "      <td>4369.500000</td>\n",
       "      <td>10.500000</td>\n",
       "      <td>29.000000</td>\n",
       "      <td>32.000000</td>\n",
       "      <td>-3.000000</td>\n",
       "    </tr>\n",
       "    <tr>\n",
       "      <th>75%</th>\n",
       "      <td>6338.500000</td>\n",
       "      <td>16.250000</td>\n",
       "      <td>45.000000</td>\n",
       "      <td>44.725000</td>\n",
       "      <td>27.000000</td>\n",
       "    </tr>\n",
       "    <tr>\n",
       "      <th>max</th>\n",
       "      <td>9094.000000</td>\n",
       "      <td>23.000000</td>\n",
       "      <td>59.000000</td>\n",
       "      <td>59.800000</td>\n",
       "      <td>79.000000</td>\n",
       "    </tr>\n",
       "  </tbody>\n",
       "</table>\n",
       "</div>"
      ],
      "text/plain": [
       "         HR_Number          HH          MM          SS          DD\n",
       "count   388.000000  388.000000  388.000000  388.000000  388.000000\n",
       "mean   4355.708763   11.051546   29.587629   30.220103   -1.938144\n",
       "std    2574.105515    6.626033   17.351661   17.016855   38.648035\n",
       "min      23.000000    0.000000    0.000000    0.000000  -85.000000\n",
       "25%    2163.250000    5.750000   15.000000   15.975000  -32.250000\n",
       "50%    4369.500000   10.500000   29.000000   32.000000   -3.000000\n",
       "75%    6338.500000   16.250000   45.000000   44.725000   27.000000\n",
       "max    9094.000000   23.000000   59.000000   59.800000   79.000000"
      ]
     },
     "execution_count": 14,
     "metadata": {},
     "output_type": "execute_result"
    }
   ],
   "source": [
    "df_tp.describe()"
   ]
  },
  {
   "cell_type": "code",
   "execution_count": 15,
   "id": "0ad6fc42-b427-4419-b7ce-d4863803a8a8",
   "metadata": {},
   "outputs": [
    {
     "data": {
      "text/plain": [
       "(388, 9)"
      ]
     },
     "execution_count": 15,
     "metadata": {},
     "output_type": "execute_result"
    }
   ],
   "source": [
    "df_tp.shape"
   ]
  },
  {
   "cell_type": "code",
   "execution_count": 27,
   "id": "efbcbe8a-13bd-4258-b0e4-3edab3c89027",
   "metadata": {},
   "outputs": [],
   "source": [
    "df_tp.loc[:, 'Parallax'] = pd.to_numeric(df_tp['Parallax'].astype(str).str.replace('D+', '', regex=True), errors='coerce')\n",
    "with np.errstate(divide='ignore', invalid='ignore'):\n",
    "    df_tp.loc[:, 'Distance'] = 1 / df_tp['Parallax']\n",
    "\n",
    "warnings.filterwarnings('ignore') # Get ride of warnings"
   ]
  },
  {
   "cell_type": "code",
   "execution_count": 17,
   "id": "115a944f-0c54-4c02-a76a-e5de554fec00",
   "metadata": {},
   "outputs": [
    {
     "data": {
      "text/html": [
       "<div>\n",
       "<style scoped>\n",
       "    .dataframe tbody tr th:only-of-type {\n",
       "        vertical-align: middle;\n",
       "    }\n",
       "\n",
       "    .dataframe tbody tr th {\n",
       "        vertical-align: top;\n",
       "    }\n",
       "\n",
       "    .dataframe thead th {\n",
       "        text-align: right;\n",
       "    }\n",
       "</style>\n",
       "<table border=\"1\" class=\"dataframe\">\n",
       "  <thead>\n",
       "    <tr style=\"text-align: right;\">\n",
       "      <th></th>\n",
       "      <th>HR_Number</th>\n",
       "      <th>Label</th>\n",
       "      <th>HH</th>\n",
       "      <th>MM</th>\n",
       "      <th>SS</th>\n",
       "      <th>DD</th>\n",
       "      <th>Spectral_Type</th>\n",
       "      <th>Parallax</th>\n",
       "      <th>Symbol</th>\n",
       "      <th>Distance</th>\n",
       "    </tr>\n",
       "  </thead>\n",
       "  <tbody>\n",
       "    <tr>\n",
       "      <th>22</th>\n",
       "      <td>23</td>\n",
       "      <td>NaN</td>\n",
       "      <td>0.0</td>\n",
       "      <td>9.0</td>\n",
       "      <td>2.4</td>\n",
       "      <td>-54.0</td>\n",
       "      <td>G4IV</td>\n",
       "      <td>0.009</td>\n",
       "      <td>*</td>\n",
       "      <td>111.111111</td>\n",
       "    </tr>\n",
       "    <tr>\n",
       "      <th>25</th>\n",
       "      <td>26</td>\n",
       "      <td>34    Psc</td>\n",
       "      <td>0.0</td>\n",
       "      <td>10.0</td>\n",
       "      <td>2.3</td>\n",
       "      <td>11.0</td>\n",
       "      <td>B9Vn</td>\n",
       "      <td>0.017</td>\n",
       "      <td>*</td>\n",
       "      <td>58.823529</td>\n",
       "    </tr>\n",
       "    <tr>\n",
       "      <th>39</th>\n",
       "      <td>40</td>\n",
       "      <td>NaN</td>\n",
       "      <td>0.0</td>\n",
       "      <td>13.0</td>\n",
       "      <td>24.0</td>\n",
       "      <td>26.0</td>\n",
       "      <td>G0III</td>\n",
       "      <td>0.006</td>\n",
       "      <td>*</td>\n",
       "      <td>166.666667</td>\n",
       "    </tr>\n",
       "    <tr>\n",
       "      <th>49</th>\n",
       "      <td>50</td>\n",
       "      <td>35    Psc</td>\n",
       "      <td>0.0</td>\n",
       "      <td>14.0</td>\n",
       "      <td>58.8</td>\n",
       "      <td>8.0</td>\n",
       "      <td>F0IV</td>\n",
       "      <td>0.017</td>\n",
       "      <td>*</td>\n",
       "      <td>58.823529</td>\n",
       "    </tr>\n",
       "    <tr>\n",
       "      <th>54</th>\n",
       "      <td>55</td>\n",
       "      <td>NaN</td>\n",
       "      <td>0.0</td>\n",
       "      <td>16.0</td>\n",
       "      <td>14.0</td>\n",
       "      <td>76.0</td>\n",
       "      <td>B8Vnn</td>\n",
       "      <td>0.013</td>\n",
       "      <td>*</td>\n",
       "      <td>76.923077</td>\n",
       "    </tr>\n",
       "  </tbody>\n",
       "</table>\n",
       "</div>"
      ],
      "text/plain": [
       "    HR_Number      Label   HH    MM    SS    DD Spectral_Type  Parallax  \\\n",
       "22         23        NaN  0.0   9.0   2.4 -54.0          G4IV     0.009   \n",
       "25         26  34    Psc  0.0  10.0   2.3  11.0          B9Vn     0.017   \n",
       "39         40        NaN  0.0  13.0  24.0  26.0         G0III     0.006   \n",
       "49         50  35    Psc  0.0  14.0  58.8   8.0          F0IV     0.017   \n",
       "54         55        NaN  0.0  16.0  14.0  76.0         B8Vnn     0.013   \n",
       "\n",
       "   Symbol    Distance  \n",
       "22      *  111.111111  \n",
       "25      *   58.823529  \n",
       "39      *  166.666667  \n",
       "49      *   58.823529  \n",
       "54      *   76.923077  "
      ]
     },
     "execution_count": 17,
     "metadata": {},
     "output_type": "execute_result"
    }
   ],
   "source": [
    "df_tp.head()"
   ]
  },
  {
   "cell_type": "markdown",
   "id": "d51deb54-b067-47ef-8f2f-b26e1d8508f9",
   "metadata": {},
   "source": [
    "#### 4) Use the RA and Dec for the J2000.0 epoch for the next set of computations."
   ]
  },
  {
   "cell_type": "markdown",
   "id": "6cb0ab89-f57b-48d9-a749-7430bb751263",
   "metadata": {},
   "source": [
    "#### 5)  Create three columns x, y, and z that will have the distances to the stars in parsecs in the equatorial frame of reference. Write a routine that will do a coordinate transformation from a spherical coordinate system to a Cartesian system. In this Cartesian system, the x-axis is pointing to the vernal equinox and the x-y plane is the plane of the celestial equator. The z-axis should be pointing to the north celestial pole. You can use the library Astropy for your work."
   ]
  },
  {
   "cell_type": "code",
   "execution_count": 18,
   "id": "8f0002b5-20c3-4b22-9377-72ac0e6b8578",
   "metadata": {},
   "outputs": [],
   "source": [
    "from astropy import units as u"
   ]
  },
  {
   "cell_type": "code",
   "execution_count": 19,
   "id": "88eda6b3-5275-483b-9eae-d05c8b8b8691",
   "metadata": {},
   "outputs": [],
   "source": [
    "df_tp[\"Distance _in_Parsec\"] = df_tp[\"Distance\"]\n",
    "\n",
    "df_tp['RA_rad'] = ((df_tp['HH'] + df_tp['MM']/60 + df_tp['SS']/3600) * 15).to_numpy() * u.deg.to(u.rad)\n",
    "\n",
    "df_tp['Dec_rad'] = (df_tp['DD']).to_numpy() * u.deg.to(u.rad)\n",
    "\n",
    "df_tp['x'] = df_tp['Distance'] * np.cos(df_tp['Dec_rad']) * np.cos(df_tp['RA_rad'])\n",
    "df_tp['y'] = df_tp['Distance'] * np.cos(df_tp['Dec_rad']) * np.sin(df_tp['RA_rad'])\n",
    "df_tp['z'] = df_tp['Distance'] * np.sin(df_tp['Dec_rad'])\n",
    "\n",
    "df_tp = df_tp.drop(columns=['RA_rad', 'Dec_rad',\"Distance\"])\n",
    "\n",
    "\n",
    "warnings.filterwarnings('ignore') #Get ride of warnings"
   ]
  },
  {
   "cell_type": "code",
   "execution_count": 20,
   "id": "d93fba42-3152-4918-9425-3f2b949fd96f",
   "metadata": {},
   "outputs": [
    {
     "data": {
      "text/html": [
       "<div>\n",
       "<style scoped>\n",
       "    .dataframe tbody tr th:only-of-type {\n",
       "        vertical-align: middle;\n",
       "    }\n",
       "\n",
       "    .dataframe tbody tr th {\n",
       "        vertical-align: top;\n",
       "    }\n",
       "\n",
       "    .dataframe thead th {\n",
       "        text-align: right;\n",
       "    }\n",
       "</style>\n",
       "<table border=\"1\" class=\"dataframe\">\n",
       "  <thead>\n",
       "    <tr style=\"text-align: right;\">\n",
       "      <th></th>\n",
       "      <th>HR_Number</th>\n",
       "      <th>Label</th>\n",
       "      <th>HH</th>\n",
       "      <th>MM</th>\n",
       "      <th>SS</th>\n",
       "      <th>DD</th>\n",
       "      <th>Spectral_Type</th>\n",
       "      <th>Parallax</th>\n",
       "      <th>Symbol</th>\n",
       "      <th>Distance _in_Parsec</th>\n",
       "      <th>x</th>\n",
       "      <th>y</th>\n",
       "      <th>z</th>\n",
       "    </tr>\n",
       "  </thead>\n",
       "  <tbody>\n",
       "    <tr>\n",
       "      <th>22</th>\n",
       "      <td>23</td>\n",
       "      <td>NaN</td>\n",
       "      <td>0.0</td>\n",
       "      <td>9.0</td>\n",
       "      <td>2.4</td>\n",
       "      <td>-54.0</td>\n",
       "      <td>G4IV</td>\n",
       "      <td>0.009</td>\n",
       "      <td>*</td>\n",
       "      <td>111.111111</td>\n",
       "      <td>65.258673</td>\n",
       "      <td>2.575428</td>\n",
       "      <td>-89.890777</td>\n",
       "    </tr>\n",
       "    <tr>\n",
       "      <th>25</th>\n",
       "      <td>26</td>\n",
       "      <td>34    Psc</td>\n",
       "      <td>0.0</td>\n",
       "      <td>10.0</td>\n",
       "      <td>2.3</td>\n",
       "      <td>11.0</td>\n",
       "      <td>B9Vn</td>\n",
       "      <td>0.017</td>\n",
       "      <td>*</td>\n",
       "      <td>58.823529</td>\n",
       "      <td>57.687395</td>\n",
       "      <td>2.528353</td>\n",
       "      <td>11.224059</td>\n",
       "    </tr>\n",
       "    <tr>\n",
       "      <th>39</th>\n",
       "      <td>40</td>\n",
       "      <td>NaN</td>\n",
       "      <td>0.0</td>\n",
       "      <td>13.0</td>\n",
       "      <td>24.0</td>\n",
       "      <td>26.0</td>\n",
       "      <td>G0III</td>\n",
       "      <td>0.006</td>\n",
       "      <td>*</td>\n",
       "      <td>166.666667</td>\n",
       "      <td>149.543032</td>\n",
       "      <td>8.753538</td>\n",
       "      <td>73.061858</td>\n",
       "    </tr>\n",
       "    <tr>\n",
       "      <th>49</th>\n",
       "      <td>50</td>\n",
       "      <td>35    Psc</td>\n",
       "      <td>0.0</td>\n",
       "      <td>14.0</td>\n",
       "      <td>58.8</td>\n",
       "      <td>8.0</td>\n",
       "      <td>F0IV</td>\n",
       "      <td>0.017</td>\n",
       "      <td>*</td>\n",
       "      <td>58.823529</td>\n",
       "      <td>58.126675</td>\n",
       "      <td>3.804729</td>\n",
       "      <td>8.186653</td>\n",
       "    </tr>\n",
       "    <tr>\n",
       "      <th>54</th>\n",
       "      <td>55</td>\n",
       "      <td>NaN</td>\n",
       "      <td>0.0</td>\n",
       "      <td>16.0</td>\n",
       "      <td>14.0</td>\n",
       "      <td>76.0</td>\n",
       "      <td>B8Vnn</td>\n",
       "      <td>0.013</td>\n",
       "      <td>*</td>\n",
       "      <td>76.923077</td>\n",
       "      <td>18.562714</td>\n",
       "      <td>1.317024</td>\n",
       "      <td>74.638133</td>\n",
       "    </tr>\n",
       "  </tbody>\n",
       "</table>\n",
       "</div>"
      ],
      "text/plain": [
       "    HR_Number      Label   HH    MM    SS    DD Spectral_Type  Parallax  \\\n",
       "22         23        NaN  0.0   9.0   2.4 -54.0          G4IV     0.009   \n",
       "25         26  34    Psc  0.0  10.0   2.3  11.0          B9Vn     0.017   \n",
       "39         40        NaN  0.0  13.0  24.0  26.0         G0III     0.006   \n",
       "49         50  35    Psc  0.0  14.0  58.8   8.0          F0IV     0.017   \n",
       "54         55        NaN  0.0  16.0  14.0  76.0         B8Vnn     0.013   \n",
       "\n",
       "   Symbol  Distance _in_Parsec           x         y          z  \n",
       "22      *           111.111111   65.258673  2.575428 -89.890777  \n",
       "25      *            58.823529   57.687395  2.528353  11.224059  \n",
       "39      *           166.666667  149.543032  8.753538  73.061858  \n",
       "49      *            58.823529   58.126675  3.804729   8.186653  \n",
       "54      *            76.923077   18.562714  1.317024  74.638133  "
      ]
     },
     "execution_count": 20,
     "metadata": {},
     "output_type": "execute_result"
    }
   ],
   "source": [
    "df_tp.head()"
   ]
  },
  {
   "cell_type": "code",
   "execution_count": 21,
   "id": "45beaf99-9a11-43b1-9923-d85d01334b8c",
   "metadata": {},
   "outputs": [],
   "source": [
    "color_select:dict = {\n",
    "    \"O\": \"deepest blue\",\n",
    "    \"B\": \"medium blue\", \n",
    "    \"A\": \"light blue\", \n",
    "    \"F\": \"green\", \n",
    "    \"G\": \"yellow\", \n",
    "    \"K\": \"orange\", \n",
    "    \"M\": \"red\",\n",
    "    \"default\": \"black\" \n",
    "}\n"
   ]
  },
  {
   "cell_type": "code",
   "execution_count": 22,
   "id": "ae7c4aeb-2ecb-4c0f-be9d-6940dfd1d6c8",
   "metadata": {},
   "outputs": [],
   "source": [
    "df_tp['Color'] = df_tp['Spectral_Type'].astype(str).str[0].apply(lambda x: color_select.get(x, color_select[\"default\"]) if x.isalpha() else color_select['default'])"
   ]
  },
  {
   "cell_type": "code",
   "execution_count": 23,
   "id": "c1453297-7597-4743-b810-b06a3f0993e1",
   "metadata": {},
   "outputs": [
    {
     "data": {
      "text/html": [
       "<div>\n",
       "<style scoped>\n",
       "    .dataframe tbody tr th:only-of-type {\n",
       "        vertical-align: middle;\n",
       "    }\n",
       "\n",
       "    .dataframe tbody tr th {\n",
       "        vertical-align: top;\n",
       "    }\n",
       "\n",
       "    .dataframe thead th {\n",
       "        text-align: right;\n",
       "    }\n",
       "</style>\n",
       "<table border=\"1\" class=\"dataframe\">\n",
       "  <thead>\n",
       "    <tr style=\"text-align: right;\">\n",
       "      <th></th>\n",
       "      <th>HR_Number</th>\n",
       "      <th>Label</th>\n",
       "      <th>HH</th>\n",
       "      <th>MM</th>\n",
       "      <th>SS</th>\n",
       "      <th>DD</th>\n",
       "      <th>Spectral_Type</th>\n",
       "      <th>Parallax</th>\n",
       "      <th>Symbol</th>\n",
       "      <th>Distance _in_Parsec</th>\n",
       "      <th>x</th>\n",
       "      <th>y</th>\n",
       "      <th>z</th>\n",
       "      <th>Color</th>\n",
       "    </tr>\n",
       "  </thead>\n",
       "  <tbody>\n",
       "    <tr>\n",
       "      <th>22</th>\n",
       "      <td>23</td>\n",
       "      <td>NaN</td>\n",
       "      <td>0.0</td>\n",
       "      <td>9.0</td>\n",
       "      <td>2.4</td>\n",
       "      <td>-54.0</td>\n",
       "      <td>G4IV</td>\n",
       "      <td>0.009</td>\n",
       "      <td>*</td>\n",
       "      <td>111.111111</td>\n",
       "      <td>65.258673</td>\n",
       "      <td>2.575428</td>\n",
       "      <td>-89.890777</td>\n",
       "      <td>yellow</td>\n",
       "    </tr>\n",
       "    <tr>\n",
       "      <th>25</th>\n",
       "      <td>26</td>\n",
       "      <td>34    Psc</td>\n",
       "      <td>0.0</td>\n",
       "      <td>10.0</td>\n",
       "      <td>2.3</td>\n",
       "      <td>11.0</td>\n",
       "      <td>B9Vn</td>\n",
       "      <td>0.017</td>\n",
       "      <td>*</td>\n",
       "      <td>58.823529</td>\n",
       "      <td>57.687395</td>\n",
       "      <td>2.528353</td>\n",
       "      <td>11.224059</td>\n",
       "      <td>medium blue</td>\n",
       "    </tr>\n",
       "    <tr>\n",
       "      <th>39</th>\n",
       "      <td>40</td>\n",
       "      <td>NaN</td>\n",
       "      <td>0.0</td>\n",
       "      <td>13.0</td>\n",
       "      <td>24.0</td>\n",
       "      <td>26.0</td>\n",
       "      <td>G0III</td>\n",
       "      <td>0.006</td>\n",
       "      <td>*</td>\n",
       "      <td>166.666667</td>\n",
       "      <td>149.543032</td>\n",
       "      <td>8.753538</td>\n",
       "      <td>73.061858</td>\n",
       "      <td>yellow</td>\n",
       "    </tr>\n",
       "    <tr>\n",
       "      <th>49</th>\n",
       "      <td>50</td>\n",
       "      <td>35    Psc</td>\n",
       "      <td>0.0</td>\n",
       "      <td>14.0</td>\n",
       "      <td>58.8</td>\n",
       "      <td>8.0</td>\n",
       "      <td>F0IV</td>\n",
       "      <td>0.017</td>\n",
       "      <td>*</td>\n",
       "      <td>58.823529</td>\n",
       "      <td>58.126675</td>\n",
       "      <td>3.804729</td>\n",
       "      <td>8.186653</td>\n",
       "      <td>green</td>\n",
       "    </tr>\n",
       "    <tr>\n",
       "      <th>54</th>\n",
       "      <td>55</td>\n",
       "      <td>NaN</td>\n",
       "      <td>0.0</td>\n",
       "      <td>16.0</td>\n",
       "      <td>14.0</td>\n",
       "      <td>76.0</td>\n",
       "      <td>B8Vnn</td>\n",
       "      <td>0.013</td>\n",
       "      <td>*</td>\n",
       "      <td>76.923077</td>\n",
       "      <td>18.562714</td>\n",
       "      <td>1.317024</td>\n",
       "      <td>74.638133</td>\n",
       "      <td>medium blue</td>\n",
       "    </tr>\n",
       "  </tbody>\n",
       "</table>\n",
       "</div>"
      ],
      "text/plain": [
       "    HR_Number      Label   HH    MM    SS    DD Spectral_Type  Parallax  \\\n",
       "22         23        NaN  0.0   9.0   2.4 -54.0          G4IV     0.009   \n",
       "25         26  34    Psc  0.0  10.0   2.3  11.0          B9Vn     0.017   \n",
       "39         40        NaN  0.0  13.0  24.0  26.0         G0III     0.006   \n",
       "49         50  35    Psc  0.0  14.0  58.8   8.0          F0IV     0.017   \n",
       "54         55        NaN  0.0  16.0  14.0  76.0         B8Vnn     0.013   \n",
       "\n",
       "   Symbol  Distance _in_Parsec           x         y          z        Color  \n",
       "22      *           111.111111   65.258673  2.575428 -89.890777       yellow  \n",
       "25      *            58.823529   57.687395  2.528353  11.224059  medium blue  \n",
       "39      *           166.666667  149.543032  8.753538  73.061858       yellow  \n",
       "49      *            58.823529   58.126675  3.804729   8.186653        green  \n",
       "54      *            76.923077   18.562714  1.317024  74.638133  medium blue  "
      ]
     },
     "execution_count": 23,
     "metadata": {},
     "output_type": "execute_result"
    }
   ],
   "source": [
    "df_tp.head()"
   ]
  },
  {
   "cell_type": "code",
   "execution_count": 24,
   "id": "fee8a041-b535-4fce-9b9f-60ff54a79177",
   "metadata": {},
   "outputs": [],
   "source": [
    "def infer_radial_velocity(spectral_type):\n",
    "    if 'G' in spectral_type:\n",
    "        return 10  # km/s\n",
    "    elif 'B' in spectral_type:\n",
    "        return -10  # km/s\n",
    "    elif 'F' in spectral_type:\n",
    "        return 5  # km/s\n",
    "    else:\n",
    "        return 0\n",
    "df_tp['Radial_Velocity'] = df_tp['Spectral_Type'].apply(infer_radial_velocity)"
   ]
  },
  {
   "cell_type": "code",
   "execution_count": 25,
   "id": "359ecc8e-74aa-4491-96bc-13913f2a8867",
   "metadata": {},
   "outputs": [
    {
     "data": {
      "text/html": [
       "<div>\n",
       "<style scoped>\n",
       "    .dataframe tbody tr th:only-of-type {\n",
       "        vertical-align: middle;\n",
       "    }\n",
       "\n",
       "    .dataframe tbody tr th {\n",
       "        vertical-align: top;\n",
       "    }\n",
       "\n",
       "    .dataframe thead th {\n",
       "        text-align: right;\n",
       "    }\n",
       "</style>\n",
       "<table border=\"1\" class=\"dataframe\">\n",
       "  <thead>\n",
       "    <tr style=\"text-align: right;\">\n",
       "      <th></th>\n",
       "      <th>HR_Number</th>\n",
       "      <th>Label</th>\n",
       "      <th>HH</th>\n",
       "      <th>MM</th>\n",
       "      <th>SS</th>\n",
       "      <th>DD</th>\n",
       "      <th>Spectral_Type</th>\n",
       "      <th>Parallax</th>\n",
       "      <th>Symbol</th>\n",
       "      <th>Distance _in_Parsec</th>\n",
       "      <th>x</th>\n",
       "      <th>y</th>\n",
       "      <th>z</th>\n",
       "      <th>Color</th>\n",
       "      <th>Radial_Velocity</th>\n",
       "    </tr>\n",
       "  </thead>\n",
       "  <tbody>\n",
       "    <tr>\n",
       "      <th>22</th>\n",
       "      <td>23</td>\n",
       "      <td>NaN</td>\n",
       "      <td>0.0</td>\n",
       "      <td>9.0</td>\n",
       "      <td>2.4</td>\n",
       "      <td>-54.0</td>\n",
       "      <td>G4IV</td>\n",
       "      <td>0.009</td>\n",
       "      <td>*</td>\n",
       "      <td>111.111111</td>\n",
       "      <td>65.258673</td>\n",
       "      <td>2.575428</td>\n",
       "      <td>-89.890777</td>\n",
       "      <td>yellow</td>\n",
       "      <td>10</td>\n",
       "    </tr>\n",
       "    <tr>\n",
       "      <th>25</th>\n",
       "      <td>26</td>\n",
       "      <td>34    Psc</td>\n",
       "      <td>0.0</td>\n",
       "      <td>10.0</td>\n",
       "      <td>2.3</td>\n",
       "      <td>11.0</td>\n",
       "      <td>B9Vn</td>\n",
       "      <td>0.017</td>\n",
       "      <td>*</td>\n",
       "      <td>58.823529</td>\n",
       "      <td>57.687395</td>\n",
       "      <td>2.528353</td>\n",
       "      <td>11.224059</td>\n",
       "      <td>medium blue</td>\n",
       "      <td>-10</td>\n",
       "    </tr>\n",
       "    <tr>\n",
       "      <th>39</th>\n",
       "      <td>40</td>\n",
       "      <td>NaN</td>\n",
       "      <td>0.0</td>\n",
       "      <td>13.0</td>\n",
       "      <td>24.0</td>\n",
       "      <td>26.0</td>\n",
       "      <td>G0III</td>\n",
       "      <td>0.006</td>\n",
       "      <td>*</td>\n",
       "      <td>166.666667</td>\n",
       "      <td>149.543032</td>\n",
       "      <td>8.753538</td>\n",
       "      <td>73.061858</td>\n",
       "      <td>yellow</td>\n",
       "      <td>10</td>\n",
       "    </tr>\n",
       "    <tr>\n",
       "      <th>49</th>\n",
       "      <td>50</td>\n",
       "      <td>35    Psc</td>\n",
       "      <td>0.0</td>\n",
       "      <td>14.0</td>\n",
       "      <td>58.8</td>\n",
       "      <td>8.0</td>\n",
       "      <td>F0IV</td>\n",
       "      <td>0.017</td>\n",
       "      <td>*</td>\n",
       "      <td>58.823529</td>\n",
       "      <td>58.126675</td>\n",
       "      <td>3.804729</td>\n",
       "      <td>8.186653</td>\n",
       "      <td>green</td>\n",
       "      <td>5</td>\n",
       "    </tr>\n",
       "    <tr>\n",
       "      <th>54</th>\n",
       "      <td>55</td>\n",
       "      <td>NaN</td>\n",
       "      <td>0.0</td>\n",
       "      <td>16.0</td>\n",
       "      <td>14.0</td>\n",
       "      <td>76.0</td>\n",
       "      <td>B8Vnn</td>\n",
       "      <td>0.013</td>\n",
       "      <td>*</td>\n",
       "      <td>76.923077</td>\n",
       "      <td>18.562714</td>\n",
       "      <td>1.317024</td>\n",
       "      <td>74.638133</td>\n",
       "      <td>medium blue</td>\n",
       "      <td>-10</td>\n",
       "    </tr>\n",
       "  </tbody>\n",
       "</table>\n",
       "</div>"
      ],
      "text/plain": [
       "    HR_Number      Label   HH    MM    SS    DD Spectral_Type  Parallax  \\\n",
       "22         23        NaN  0.0   9.0   2.4 -54.0          G4IV     0.009   \n",
       "25         26  34    Psc  0.0  10.0   2.3  11.0          B9Vn     0.017   \n",
       "39         40        NaN  0.0  13.0  24.0  26.0         G0III     0.006   \n",
       "49         50  35    Psc  0.0  14.0  58.8   8.0          F0IV     0.017   \n",
       "54         55        NaN  0.0  16.0  14.0  76.0         B8Vnn     0.013   \n",
       "\n",
       "   Symbol  Distance _in_Parsec           x         y          z        Color  \\\n",
       "22      *           111.111111   65.258673  2.575428 -89.890777       yellow   \n",
       "25      *            58.823529   57.687395  2.528353  11.224059  medium blue   \n",
       "39      *           166.666667  149.543032  8.753538  73.061858       yellow   \n",
       "49      *            58.823529   58.126675  3.804729   8.186653        green   \n",
       "54      *            76.923077   18.562714  1.317024  74.638133  medium blue   \n",
       "\n",
       "    Radial_Velocity  \n",
       "22               10  \n",
       "25              -10  \n",
       "39               10  \n",
       "49                5  \n",
       "54              -10  "
      ]
     },
     "execution_count": 25,
     "metadata": {},
     "output_type": "execute_result"
    }
   ],
   "source": [
    "df_tp.head()"
   ]
  },
  {
   "cell_type": "code",
   "execution_count": 43,
   "id": "ee673772-f047-470f-9cf4-e6ab8146ed12",
   "metadata": {},
   "outputs": [
    {
     "data": {
      "application/vnd.plotly.v1+json": {
       "config": {
        "plotlyServerURL": "https://plot.ly"
       },
       "data": [
        {
         "customdata": [
          [
           "G4IV",
           111.11111111111111,
           10
          ],
          [
           "G0III",
           166.66666666666666,
           10
          ],
          [
           "G0V",
           29.41176470588235,
           10
          ],
          [
           "G8III+A7",
           111.11111111111111,
           10
          ],
          [
           "G8III",
           125,
           10
          ],
          [
           "G5III",
           500,
           10
          ],
          [
           "G0V",
           35.714285714285715,
           10
          ],
          [
           "G6III",
           250,
           10
          ],
          [
           "G5III",
           90.90909090909092,
           10
          ],
          [
           "G5-8III+",
           111.11111111111111,
           10
          ],
          [
           "G7III",
           200,
           10
          ],
          [
           "G5III+G2",
           45.45454545454546,
           10
          ],
          [
           "G3IV",
           125,
           10
          ],
          [
           "G5III",
           500,
           10
          ],
          [
           "G5II-III",
           35.714285714285715,
           10
          ],
          [
           "G0IV",
           27.77777777777778,
           10
          ],
          [
           "G0IV",
           27.77777777777778,
           10
          ],
          [
           "G8III",
           333.3333333333333,
           10
          ],
          [
           "G9III+G7",
           166.66666666666666,
           10
          ],
          [
           "G7IV",
           166.66666666666666,
           10
          ],
          [
           "G8III",
           200,
           10
          ],
          [
           "G2III:+A",
           333.3333333333333,
           10
          ],
          [
           "G9III",
           111.11111111111111,
           10
          ],
          [
           "G8IIb",
           250,
           10
          ],
          [
           "G4III",
           333.3333333333333,
           10
          ],
          [
           "G2IV+G2I",
           41.666666666666664,
           10
          ],
          [
           "G8IV",
           55.55555555555556,
           10
          ],
          [
           "G8-K0III",
           90.90909090909092,
           10
          ],
          [
           "G0V",
           19.607843137254903,
           10
          ],
          [
           "G0V",
           19.607843137254903,
           10
          ],
          [
           "G8III",
           100,
           10
          ]
         ],
         "hovertemplate": "<b>%{hovertext}</b><br><br>Color=yellow<br>x=%{x}<br>y=%{y}<br>z=%{z}<br>Spectral_Type=%{customdata[0]}<br>Distance _in_Parsec=%{customdata[1]}<br>Radial_Velocity=%{customdata[2]}<extra></extra>",
         "hovertext": [
          23,
          40,
          108,
          385,
          1506,
          1691,
          2431,
          2524,
          2744,
          3251,
          3532,
          4216,
          4691,
          5850,
          5900,
          6105,
          6106,
          6130,
          6980,
          7075,
          7229,
          7544,
          7760,
          7921,
          8059,
          8133,
          8166,
          8280,
          9074,
          9075,
          9094
         ],
         "legendgroup": "yellow",
         "marker": {
          "color": "#636efa",
          "size": 4,
          "symbol": "circle"
         },
         "mode": "markers",
         "name": "yellow",
         "scene": "scene",
         "showlegend": true,
         "type": "scatter3d",
         "x": [
          65.2586727375458,
          149.54303153015928,
          27.42680804257111,
          104.44258752973649,
          40.5118351323603,
          104.46270013184089,
          -4.507481230344203,
          -29.730824715602086,
          -29.342563492455373,
          -53.764844159089385,
          -119.36075108606771,
          -28.311463027423564,
          -115.44906007058542,
          -273.8796310300687,
          -9.227923344892497,
          -9.817706747267724,
          -9.817545137194921,
          -65.86948563756675,
          23.67354892308298,
          15.522638625826783,
          32.96607166141656,
          149.44170254365193,
          54.87723175215931,
          137.01664570258464,
          238.9463265619353,
          13.664698368000932,
          36.201348499857275,
          10.697433589425144,
          16.44447969003219,
          16.44447969003219,
          40.671043611263144
         ],
         "y": [
          2.5754276829823817,
          8.753538348927817,
          3.4103157988828126,
          37.9133871137757,
          116.96644054482711,
          488.88791932154766,
          28.539707072407946,
          143.9072513374953,
          86.04345865670778,
          79.80351365577893,
          125.51099991701842,
          9.367232668100616,
          -10.191011675200457,
          -402.91339453315436,
          -15.288001234994598,
          -22.22294453811768,
          -22.223015933908272,
          -147.56966928651363,
          -151.57996204418615,
          -79.29657494472346,
          -118.63726314788703,
          -291.08924274010803,
          -80.20246573973526,
          -161.78855688079753,
          -230.59000501349595,
          -12.120363446247845,
          -30.152461369705282,
          -6.755779097806255,
          -0.036833051939612914,
          -0.036833051939612914,
          0.4617139552146823
         ],
         "z": [
          -89.89077715277195,
          73.06185779817957,
          -10.059415980166726,
          0,
          -17.39663762000818,
          8.726203218641755,
          -20.9923304390169,
          -202.25424859373686,
          0,
          -55.55555555555555,
          99.99999999999999,
          -34.304980919216916,
          -46.825824176989,
          112.4755271719325,
          -30.929478706587094,
          -13.466933895731586,
          -13.466933895731586,
          291.53990237979855,
          65.12185474821229,
          145.76995118989927,
          157.6021507213444,
          63.60299845884826,
          53.86773558292634,
          132.47981605830122,
          -29.051914249219386,
          37.449751929131956,
          29.439959124066938,
          -90.02436988559732,
          10.679196765000531,
          10.679196765000531,
          91.35454576426008
         ]
        },
        {
         "customdata": [
          [
           "B9Vn",
           58.8235294117647,
           -10
          ],
          [
           "B8Vnn",
           76.92307692307692,
           -10
          ],
          [
           "B5IV",
           250,
           -10
          ],
          [
           "B9IIIn",
           500,
           -10
          ],
          [
           "B9IVn",
           142.85714285714286,
           -10
          ],
          [
           "B9.5Vn",
           200,
           -10
          ],
          [
           "B6V+B9V",
           76.92307692307692,
           -10
          ],
          [
           "B9V",
           100,
           -10
          ],
          [
           "B9V",
           111.11111111111111,
           -10
          ],
          [
           "B7V",
           250,
           -10
          ],
          [
           "B7V",
           250,
           -10
          ],
          [
           "B3V+A0IV",
           9.708737864077671,
           -10
          ],
          [
           "B9VpSi",
           250,
           -10
          ],
          [
           "B9V+A1",
           166.66666666666666,
           -10
          ],
          [
           "B2.5V",
           200,
           -10
          ],
          [
           "B3V+F5V",
           90.90909090909092,
           -10
          ],
          [
           "B8V",
           55.55555555555556,
           -10
          ],
          [
           "B9.5IV",
           125,
           -10
          ],
          [
           "B8IV",
           333.3333333333333,
           -10
          ],
          [
           "B0III",
           166.66666666666666,
           -10
          ],
          [
           "B9IVn",
           500,
           -10
          ],
          [
           "B8V",
           76.92307692307692,
           -10
          ],
          [
           "B8III",
           76.92307692307692,
           -10
          ],
          [
           "B9pHgSi",
           500,
           -10
          ],
          [
           "B8.5V",
           71.42857142857143,
           -10
          ],
          [
           "B1IV+B1.",
           1000,
           -10
          ],
          [
           "B7IIIe",
           111.11111111111111,
           -10
          ],
          [
           "B4Vn",
           500,
           -10
          ],
          [
           "B9IV-V",
           142.85714285714286,
           -10
          ],
          [
           "B9Vn",
           1000,
           -10
          ],
          [
           "B5III",
           333.3333333333333,
           -10
          ],
          [
           "B8IIIHe",
           333.3333333333333,
           -10
          ],
          [
           "B9V",
           333.3333333333333,
           -10
          ],
          [
           "B4Vnpe",
           166.66666666666666,
           -10
          ],
          [
           "B2V:nne",
           111.11111111111111,
           -10
          ],
          [
           "B5V",
           83.33333333333333,
           -10
          ],
          [
           "B7III",
           500,
           -10
          ],
          [
           "B2III",
           200,
           -10
          ],
          [
           "B6V",
           250,
           -10
          ],
          [
           "B2II",
           1000,
           -10
          ],
          [
           "B9IV",
           71.42857142857143,
           -10
          ],
          [
           "B3V",
           250,
           -10
          ],
          [
           "B6V",
           100,
           -10
          ],
          [
           "B5IVn",
           100,
           -10
          ],
          [
           "B5Vn",
           166.66666666666666,
           -10
          ],
          [
           "B9IV",
           100,
           -10
          ],
          [
           "B9IV",
           100,
           -10
          ],
          [
           "B5V",
           142.85714285714286,
           -10
          ],
          [
           "B7V",
           58.8235294117647,
           -10
          ],
          [
           "B9V",
           200,
           -10
          ],
          [
           "B2IV",
           null,
           -10
          ],
          [
           "B7III",
           166.66666666666666,
           -10
          ],
          [
           "B5V",
           50,
           -10
          ],
          [
           "B9Si",
           125,
           -10
          ],
          [
           "B8Vp:Si:",
           200,
           -10
          ],
          [
           "B8V",
           166.66666666666666,
           -10
          ],
          [
           "B6Ve",
           200,
           -10
          ],
          [
           "B4IV",
           66.66666666666667,
           -10
          ],
          [
           "B7IVne",
           125,
           -10
          ],
          [
           "B3IIIe",
           125,
           -10
          ],
          [
           "B9.5V",
           500,
           -10
          ],
          [
           "B9.5IV-V",
           100,
           -10
          ],
          [
           "B6V",
           250,
           -10
          ],
          [
           "B5Vn",
           90.90909090909092,
           -10
          ],
          [
           "B5V",
           100,
           -10
          ],
          [
           "B9V",
           142.85714285714286,
           -10
          ],
          [
           "B4V",
           333.3333333333333,
           -10
          ],
          [
           "B9IIIpSi",
           100,
           -10
          ],
          [
           "B9Vn",
           83.33333333333333,
           -10
          ],
          [
           "B0.5IV",
           125,
           -10
          ],
          [
           "B1V",
           125,
           -10
          ],
          [
           "B2.5V",
           66.66666666666667,
           -10
          ],
          [
           "B8V",
           71.42857142857143,
           -10
          ],
          [
           "B9III",
           90.90909090909092,
           -10
          ],
          [
           "B8Vn",
           333.3333333333333,
           -10
          ],
          [
           "B5IIIp",
           58.8235294117647,
           -10
          ],
          [
           "B8V",
           58.8235294117647,
           -10
          ],
          [
           "B5V",
           111.11111111111111,
           -10
          ],
          [
           "B5IV",
           111.11111111111111,
           -10
          ],
          [
           "B3V",
           83.33333333333333,
           -10
          ],
          [
           "B8Ve",
           76.92307692307692,
           -10
          ],
          [
           "B5IV+F8",
           100,
           -10
          ],
          [
           "B2IV-V",
           111.11111111111111,
           -10
          ],
          [
           "B2IV",
           125,
           -10
          ],
          [
           "B3IVp",
           71.42857142857143,
           -10
          ],
          [
           "B2.5Vn",
           166.66666666666666,
           -10
          ],
          [
           "B2.5IV",
           125,
           -10
          ],
          [
           "B9V",
           47.61904761904761,
           -10
          ],
          [
           "B2IV",
           76.92307692307692,
           -10
          ],
          [
           "B2V",
           76.92307692307692,
           -10
          ],
          [
           "B9.5Vn",
           100,
           -10
          ],
          [
           "B9V",
           100,
           -10
          ],
          [
           "B9pSi*",
           166.66666666666666,
           -10
          ],
          [
           "B6V+B7V",
           125,
           -10
          ],
          [
           "B7V+B9.5",
           111.11111111111111,
           -10
          ],
          [
           "B9V+A1V",
           111.11111111111111,
           -10
          ],
          [
           "B8V",
           200,
           -10
          ],
          [
           "B9V+F7II",
           250,
           -10
          ],
          [
           "B0Ib",
           50,
           -10
          ],
          [
           "B5IV",
           166.66666666666666,
           -10
          ],
          [
           "B8V",
           500,
           -10
          ],
          [
           "B0.5IV",
           142.85714285714286,
           -10
          ],
          [
           "B9",
           500,
           -10
          ],
          [
           "B9.5VpSi",
           55.55555555555556,
           -10
          ],
          [
           "B5IV",
           250,
           -10
          ],
          [
           "B9pCrEu:",
           111.11111111111111,
           -10
          ],
          [
           "B6III",
           200,
           -10
          ],
          [
           "B6IIIpMn",
           333.3333333333333,
           -10
          ],
          [
           "B8III",
           250,
           -10
          ],
          [
           "B0II",
           500,
           -10
          ],
          [
           "B6IV-V",
           200,
           -10
          ],
          [
           "B8V",
           90.90909090909092,
           -10
          ],
          [
           "B3V",
           166.66666666666666,
           -10
          ],
          [
           "B3IV",
           166.66666666666666,
           -10
          ],
          [
           "B8V",
           250,
           -10
          ],
          [
           "B3IV",
           500,
           -10
          ],
          [
           "B1V",
           166.66666666666666,
           -10
          ]
         ],
         "hovertemplate": "<b>%{hovertext}</b><br><br>Color=medium blue<br>x=%{x}<br>y=%{y}<br>z=%{z}<br>Spectral_Type=%{customdata[0]}<br>Distance _in_Parsec=%{customdata[1]}<br>Radial_Velocity=%{customdata[2]}<extra></extra>",
         "hovertext": [
          26,
          55,
          91,
          113,
          266,
          283,
          338,
          628,
          814,
          927,
          928,
          939,
          979,
          1033,
          1163,
          1174,
          1202,
          1271,
          1402,
          1417,
          1442,
          1619,
          1778,
          1800,
          1821,
          1842,
          1847,
          1863,
          1902,
          1997,
          2128,
          2306,
          2348,
          2364,
          2370,
          2433,
          2438,
          2501,
          2522,
          2618,
          2674,
          2726,
          2948,
          2949,
          2963,
          2979,
          2980,
          3118,
          3205,
          3327,
          3359,
          3489,
          3574,
          3605,
          3661,
          3680,
          3745,
          3817,
          3971,
          4074,
          4118,
          4239,
          4262,
          4390,
          4401,
          4423,
          4456,
          4552,
          4583,
          4730,
          4731,
          4844,
          4975,
          4990,
          5141,
          5210,
          5211,
          5605,
          5606,
          5626,
          5683,
          5704,
          5708,
          5776,
          5781,
          5904,
          5948,
          6029,
          6112,
          6113,
          6184,
          6185,
          6244,
          6294,
          6477,
          6613,
          6657,
          6803,
          6848,
          7166,
          7305,
          7318,
          7440,
          7529,
          7642,
          7717,
          7889,
          7911,
          8065,
          8119,
          8357,
          8386,
          8808,
          8926,
          8962,
          9011,
          9071
         ],
         "legendgroup": "medium blue",
         "marker": {
          "color": "#EF553B",
          "size": 4,
          "symbol": "circle"
         },
         "mode": "markers",
         "name": "medium blue",
         "scene": "scene",
         "showlegend": true,
         "type": "scatter3d",
         "x": [
          57.687395082133555,
          18.56271382564984,
          153.053853971594,
          255.2670153976509,
          69.24724308211364,
          138.9560251414957,
          42.17164527391701,
          65.38301121161673,
          64.39884691233434,
          156.36282511994344,
          156.36282511994344,
          2.212946934102799,
          124.89042469535424,
          51.19234611372006,
          91.43023510645685,
          48.514203376355795,
          29.18580919638113,
          6.1497187242416365,
          128.53383155358628,
          37.561805437120796,
          175.15329705876337,
          19.25706692054471,
          12.143318892208546,
          74.94023770673687,
          8.652771603766071,
          124.98134230638243,
          12.840444504025717,
          58.49979481152614,
          12.782303147309786,
          47.65101030996183,
          -2.63548614819375,
          -32.661869920649636,
          -24.984926074695313,
          -17.62502600078362,
          -14.782808805019599,
          -12.313888727479064,
          -75.81047316007403,
          -34.17722116231463,
          -51.19921806863629,
          -223.4027667580059,
          -10.026030836998698,
          -62.859394221542466,
          -37.565363305756044,
          -37.56833225408005,
          -55.364355031181226,
          -11.141003154363897,
          -11.141186499843435,
          -47.72914063569357,
          -23.454743362994286,
          -92.6126648640458,
          null,
          -58.25893047895271,
          -21.414938777865988,
          -54.829659706051146,
          -108.9178734849912,
          -88.68762336842765,
          -138.55780835413978,
          -35.12915616253558,
          -52.94800343705309,
          -63.46733143159879,
          -399.75448936884413,
          -49.07945334515544,
          -81.95205690301287,
          -52.66347382828675,
          -43.27818962031612,
          -105.16774175065272,
          -318.4714423285501,
          -83.82692819596276,
          -17.325950627229698,
          -56.367059114583675,
          -56.36677233261337,
          -24.466279379310425,
          -34.973466826866286,
          -82.05775988765411,
          -176.9358479693811,
          -44.06370139785908,
          -44.0628510168548,
          -52.372528209965424,
          -52.372528209965424,
          -40.02828724641743,
          -33.97803683692032,
          -32.52084865778383,
          -50.65593611023302,
          -55.736344170509305,
          -30.221789885829295,
          -79.14220183242197,
          -49.20537939062494,
          -19.04475672575836,
          -28.35171543933489,
          -28.35218728997009,
          -22.015258162239956,
          -22.006059279781812,
          -39.473287527397865,
          -32.048407847063245,
          -11.321905839918545,
          -4.917428972267069,
          -4.8272860276628835,
          10.634307957042505,
          3.880208800857057,
          41.77918066387571,
          144.94977291233346,
          43.74796476495001,
          187.07197674698574,
          19.99483976759377,
          97.43739816284041,
          60.75378786568125,
          124.26684094901749,
          163.75450837464652,
          99.77596972897189,
          191.22600368873577,
          97.28850147425248,
          69.66014651694202,
          73.71053770355442,
          87.56596433962807,
          178.97155748292948,
          346.8170962784832,
          95.59517782300486
         ],
         "y": [
          2.528353362507021,
          1.3170240294346034,
          16.26218149426329,
          33.98242930896954,
          17.517423950261545,
          37.27214792477138,
          12.970670814688711,
          42.00738386272582,
          55.65546113196722,
          163.9749362653157,
          163.9749362653157,
          2.256961605428324,
          145.18569961089705,
          65.75551797239176,
          140.62448211422517,
          74.899544175701,
          47.0230099955374,
          8.992796517481992,
          300.9066696574025,
          93.0037797760034,
          442.09551776320126,
          74.46155283101152,
          75.20032714389842,
          494.35206156387954,
          64.1553915283912,
          990.7777812201036,
          105.47738322067563,
          496.489302386664,
          127.76131774213185,
          938.4836720880811,
          328.2586714277862,
          313.47588903967653,
          221.639735102699,
          140.23813852589774,
          108.06324628180737,
          76.27776875796935,
          434.91595175745056,
          169.79963943902308,
          235.991385303413,
          854.2175692060199,
          35.395869477944835,
          192.23807539693541,
          81.65262308300237,
          81.65125711387022,
          119.09535426977561,
          25.21185371868407,
          25.211772698356146,
          84.9365057813198,
          36.88934686549789,
          124.82438913583805,
          null,
          66.37994997353601,
          22.113299790864932,
          54.00179262900657,
          97.63209672228678,
          77.61052989220481,
          109.47872767580198,
          26.055537834429295,
          29.479054940888144,
          29.287946836365634,
          166.42219872797838,
          15.61567947324919,
          24.39203808412241,
          9.047662707790254,
          6.9778884026380945,
          14.506712233996685,
          35.28851224591364,
          2.594094178688119,
          0.028601542138146172,
          -6.571328879160143,
          -6.573788349831948,
          -5.009042414903719,
          -11.41251455877447,
          -27.236021708028865,
          -84.15254280355065,
          -23.38635531563576,
          -23.387957501571435,
          -54.7664338635461,
          -54.7664338635461,
          -43.24301611058736,
          -39.97114952726528,
          -39.93790916720686,
          -61.824304565110786,
          -76.11340085528333,
          -41.553497477140944,
          -128.65848774214584,
          -85.33080011576747,
          -37.48452545811253,
          -64.88422298809067,
          -64.88401680688204,
          -57.49538181499092,
          -57.49890326759625,
          -127.11823263890076,
          -113.7617403480661,
          -77.74737265223088,
          -87.41855313971627,
          -165.73722930568547,
          -240.0800168676333,
          -47.39425305488457,
          -157.58020277969996,
          -421.2632429600547,
          -124.01027348791357,
          -416.7078128747198,
          -40.25287985909303,
          -171.21919482565534,
          -93.03040509595495,
          -149.0526889986562,
          -195.92635739999227,
          -97.91986427888895,
          -172.47802806444443,
          -60.78276576778155,
          -39.87994319640761,
          -17.086879783157833,
          -11.515321459324255,
          -17.600877366984754,
          -18.853769945258158,
          -0.4136392932270818
         ],
         "z": [
          11.224058551561459,
          74.63813279046127,
          197.0026884016805,
          428.5836503510562,
          123.71791482634838,
          138.93167409179944,
          -63.01169571453783,
          62.93203910498374,
          -71.42084552072659,
          105.65456543517486,
          105.65456543517486,
          -9.179791996109872,
          160.6969024216348,
          144.33756729740642,
          108.92780700300541,
          17.34627230695862,
          -4.841985708203231,
          -124.52433726146819,
          63.60299845884826,
          133.10591834121547,
          154.5084971874737,
          1.3424928028679624,
          -10.705623150774263,
          0,
          30.187018695764248,
          52.33595624294384,
          32.48574496919298,
          -8.726203218641755,
          62.624449541296784,
          342.0201433256687,
          -57.88272588897677,
          -108.52271815238556,
          -247.71494182579806,
          -88.3198773722008,
          21.200999486282758,
          -31.217216117992667,
          234.7357813929454,
          -99.99999999999999,
          -64.70476127563019,
          -469.4715627858908,
          -61.226235764436595,
          -146.9463130731183,
          -43.837114678907746,
          -43.837114678907746,
          -102.61024588760971,
          -96.12616959383189,
          -96.12616959383189,
          -104.47910023131007,
          -39.36062390346225,
          -125.86407820996747,
          null,
          -141.34134935940432,
          -39.4005376803361,
          -98.50134420084025,
          -136.3996720124997,
          -117.8511301977579,
          -93.89431255717817,
          -50.31397201485147,
          -109.32746339242446,
          -103.62969656938022,
          -249.99999999999997,
          -85.71673007021123,
          -234.92315519647707,
          -73.5469994886316,
          -89.87940462991669,
          -95.59008662269403,
          91.87911860566638,
          -54.463903501502706,
          -81.51230006115046,
          -111.37581552354598,
          -111.37581552354598,
          -61.81225697111917,
          -61.226235764436595,
          -28.09245403408613,
          -269.6723314583158,
          -31.17172142548264,
          -31.17172142548264,
          -81.26152240213005,
          -81.26152240213005,
          -58.92556509887895,
          -56.25797704762849,
          -85.71673007021123,
          -77.18426338433304,
          -82.00737862381341,
          -49.61845503278552,
          -70.43637695678323,
          -76.95768441570729,
          -22.355788704090035,
          -30.056240653021057,
          -30.056240653021057,
          78.8010753606722,
          78.8010753606722,
          -100.30250385867471,
          -40.69601930714459,
          -78.5674201318386,
          -68.40683059173982,
          -111.83858069414939,
          68.90933895424979,
          -15.450849718747369,
          -34.651948469626554,
          226.9952498697734,
          55.81873264132483,
          -203.3683215379001,
          32.65473623847073,
          153.91536883141458,
          0,
          -48.38437911993355,
          214.26253656217975,
          207.25939313876043,
          428.5836503510562,
          163.83040885779835,
          -42.67923298053553,
          148.50108736472797,
          141.34134935940432,
          173.66459261474932,
          359.66990016932556,
          136.52534071483197
         ]
        },
        {
         "customdata": [
          [
           "F0IV",
           58.8235294117647,
           5
          ],
          [
           "F2V+F5V",
           142.85714285714286,
           5
          ],
          [
           "F6IV-V",
           166.66666666666666,
           5
          ],
          [
           "F1V",
           41.666666666666664,
           5
          ],
          [
           "F4V",
           200,
           5
          ],
          [
           "F6IV",
           125,
           5
          ],
          [
           "F3V",
           43.47826086956522,
           5
          ],
          [
           "F2V",
           40,
           5
          ],
          [
           "F6V",
           66.66666666666667,
           5
          ],
          [
           "F6IV",
           45.45454545454546,
           5
          ],
          [
           "F7III+A0",
           40,
           5
          ],
          [
           "F3V",
           47.61904761904761,
           5
          ],
          [
           "F5V",
           41.666666666666664,
           5
          ],
          [
           "F3V",
           142.85714285714286,
           5
          ],
          [
           "F7V",
           62.5,
           5
          ],
          [
           "F2V:",
           47.61904761904761,
           5
          ],
          [
           "F4IIIpSr",
           125,
           5
          ],
          [
           "F7V",
           47.61904761904761,
           5
          ],
          [
           "F0IV-V",
           83.33333333333333,
           5
          ],
          [
           "F9III+B9",
           200,
           -10
          ],
          [
           "F3V",
           52.631578947368425,
           5
          ],
          [
           "F6V",
           52.631578947368425,
           5
          ],
          [
           "F2V",
           29.41176470588235,
           5
          ],
          [
           "F0V:",
           333.3333333333333,
           5
          ],
          [
           "F0V:",
           333.3333333333333,
           5
          ],
          [
           "F0",
           200,
           5
          ],
          [
           "F0III",
           47.61904761904761,
           5
          ],
          [
           "F7V",
           47.61904761904761,
           5
          ],
          [
           "F1IV",
           41.666666666666664,
           5
          ],
          [
           "F2IV",
           200,
           5
          ],
          [
           "F2V+F4V",
           55.55555555555556,
           5
          ],
          [
           "F0Vn",
           83.33333333333333,
           5
          ],
          [
           "F2V+F1V",
           58.8235294117647,
           5
          ],
          [
           "F5V",
           50,
           5
          ],
          [
           "F7IV",
           100,
           5
          ],
          [
           "F3V",
           62.5,
           5
          ],
          [
           "F8V",
           76.92307692307692,
           5
          ],
          [
           "F8V",
           76.92307692307692,
           5
          ],
          [
           "F0V",
           83.33333333333333,
           5
          ],
          [
           "F0IV-V",
           200,
           5
          ],
          [
           "F3V",
           62.5,
           5
          ],
          [
           "F3V",
           62.5,
           5
          ],
          [
           "F2V",
           62.5,
           5
          ],
          [
           "F3V+F3V",
           125,
           5
          ],
          [
           "F3Vn",
           71.42857142857143,
           5
          ],
          [
           "F5V",
           71.42857142857143,
           5
          ],
          [
           "F7V",
           333.3333333333333,
           5
          ],
          [
           "F0V",
           200,
           5
          ],
          [
           "F0V",
           142.85714285714286,
           5
          ],
          [
           "F6V",
           31.25,
           5
          ],
          [
           "F7V",
           62.5,
           5
          ],
          [
           "F4V",
           111.11111111111111,
           5
          ],
          [
           "F8V",
           32.25806451612903,
           5
          ],
          [
           "F4III",
           83.33333333333333,
           5
          ],
          [
           "F7V",
           38.46153846153846,
           5
          ],
          [
           "F2-6V",
           100,
           5
          ],
          [
           "F9V",
           47.61904761904761,
           5
          ],
          [
           "F0V",
           58.8235294117647,
           5
          ],
          [
           "F6IV-V",
           90.90909090909092,
           5
          ],
          [
           "F6V",
           90.90909090909092,
           5
          ],
          [
           "F2IV",
           83.33333333333333,
           5
          ],
          [
           "F3V",
           83.33333333333333,
           5
          ],
          [
           "F8IV",
           1000,
           5
          ],
          [
           "F7IV+F5V",
           31.25,
           5
          ],
          [
           "F6III+A9",
           90.90909090909092,
           5
          ],
          [
           "F2V",
           100,
           5
          ],
          [
           "F2III",
           250,
           5
          ],
          [
           "F3V",
           66.66666666666667,
           5
          ],
          [
           "F1Vp",
           111.11111111111111,
           5
          ],
          [
           "F1III",
           52.631578947368425,
           5
          ],
          [
           "F6V",
           83.33333333333333,
           5
          ],
          [
           "F0V+F3V",
           66.66666666666667,
           5
          ]
         ],
         "hovertemplate": "<b>%{hovertext}</b><br><br>Color=green<br>x=%{x}<br>y=%{y}<br>z=%{z}<br>Spectral_Type=%{customdata[0]}<br>Distance _in_Parsec=%{customdata[1]}<br>Radial_Velocity=%{customdata[2]}<extra></extra>",
         "hovertext": [
          50,
          245,
          251,
          301,
          391,
          394,
          404,
          462,
          657,
          728,
          968,
          1077,
          1093,
          1279,
          1406,
          1470,
          1505,
          1782,
          1859,
          1914,
          1967,
          2186,
          2677,
          2842,
          2843,
          2898,
          3312,
          3313,
          3434,
          3472,
          3701,
          3758,
          3806,
          4157,
          4304,
          4370,
          4443,
          4444,
          4465,
          4602,
          4661,
          4677,
          4678,
          4698,
          4821,
          4822,
          4935,
          4937,
          4950,
          5113,
          5212,
          5222,
          5346,
          5393,
          5504,
          5524,
          5550,
          5610,
          5815,
          5816,
          5989,
          6052,
          6488,
          6565,
          6898,
          7599,
          7657,
          7693,
          8038,
          8352,
          8629,
          8680
         ],
         "legendgroup": "green",
         "marker": {
          "color": "#00cc96",
          "size": 4,
          "symbol": "circle"
         },
         "mode": "markers",
         "name": "green",
         "scene": "scene",
         "showlegend": true,
         "type": "scatter3d",
         "x": [
          58.1266751167162,
          101.81479325113514,
          148.1728374984278,
          40.05564350263996,
          99.05012817396265,
          110.6130409764877,
          40.34483533797775,
          31.951496097191598,
          50.13310240928622,
          32.62365198038167,
          19.213137904377206,
          14.07768405518237,
          21.25095731478239,
          64.94153028151233,
          20.96074387124673,
          14.902446828218709,
          40.51608812537405,
          7.478673534492418,
          4.479440192036071,
          16.123216482842718,
          3.9026148612268674,
          -2.0856889187964485,
          -6.877656487900922,
          -96.25430139160964,
          -96.25610635935685,
          -59.45479745474458,
          -25.977183861416393,
          -25.977945134540544,
          -21.596500526051663,
          -132.0159918669749,
          -33.65722112418866,
          -65.88892254909614,
          -13.998671464560944,
          -41.960211557007355,
          -15.096452319765362,
          -43.39910107500814,
          -66.7865097606698,
          -66.78662786860953,
          -73.85383193854656,
          -186.68357771560656,
          -57.395177745044755,
          -62.218689025682686,
          -62.21850942839776,
          -110.92234220996902,
          -68.47267208486608,
          -68.47249079361559,
          -301.183960663739,
          -192.01126765392982,
          -40.10751651238285,
          -13.807942959102197,
          -47.30046657294734,
          -80.07295258143222,
          -25.089834863581036,
          -66.03611795455379,
          -26.873839558380137,
          -67.78598361335312,
          -33.44904242389382,
          -40.68714051479077,
          -52.064004147988456,
          -52.06347006135181,
          -39.627475152692575,
          -33.783630245745584,
          -123.14751860297764,
          -0.6598214686867051,
          9.875768626409483,
          47.959617452384805,
          115.93487570135652,
          34.85360647780883,
          78.00390424335815,
          21.825246841877224,
          78.29927704669032,
          53.91874347075196
         ],
         "y": [
          3.8047292976671323,
          23.4441945985086,
          35.03112559462545,
          11.45110207404334,
          37.704763265932634,
          41.63639247685092,
          15.556316663753034,
          14.249116061626916,
          33.72404447062622,
          25.155356677432906,
          21.41903193959486,
          19.201881045323276,
          28.705047761891876,
          121.75250795575515,
          49.90325356491291,
          40.12147567318353,
          116.96496741561141,
          47.02811008651748,
          30.894161223820802,
          172.45301357253052,
          52.19756908860697,
          48.75455841164975,
          23.393393641545604,
          248.20123177262127,
          248.20053178502553,
          133.64227076227718,
          34.89447302704573,
          34.89390628450554,
          25.882245638894215,
          150.0768433056056,
          27.995313918263907,
          50.99979554667039,
          9.990993127404893,
          16.090913281981845,
          4.100554338291759,
          8.34523971382652,
          8.120989453724041,
          8.120018082455779,
          7.665164389597998,
          -3.484009306670056,
          -3.958939430889049,
          -4.938148723616113,
          -4.940411055725757,
          -10.040233174058843,
          -12.46417027188262,
          -12.46516616521049,
          -86.03372601590526,
          -54.97373010171674,
          -11.657687805642192,
          -6.234767076588388,
          -25.154075376520694,
          -43.2712054799971,
          -17.010521956592164,
          -48.27879173743826,
          -23.81396754550443,
          -61.243068647517255,
          -31.572719583600026,
          -42.17202917631162,
          -73.44199510754785,
          -73.44237372572843,
          -72.78895019936901,
          -66.84760284133482,
          -778.3287457506391,
          -9.634212803587943,
          -90.3571511294609,
          -87.12412465838572,
          -196.77254901236944,
          -55.865080889698945,
          -77.95967047642641,
          -13.218924001925577,
          -28.18947430819061,
          -17.004394394779027
         ],
         "z": [
          8.186652997650908,
          -97.4283371517855,
          -67.78944051263336,
          0.7271836015534796,
          169.6096192312852,
          -40.69601930714459,
          -4.544715794245803,
          -19.392384809853482,
          28.174550782713297,
          19.209920988213614,
          -27.78633481835989,
          41.23930494211612,
          -21.45991978791892,
          36.974149300360104,
          31.249999999999996,
          20.87481651376559,
          -17.39663762000818,
          0,
          -77.26532121389894,
          99.99999999999999,
          -5.501498066718604,
          -19.716136495574318,
          -16.44685010208079,
          -200.60500771734942,
          -200.60500771734942,
          136.3996720124997,
          19.368411575038103,
          19.368411575038103,
          -24.491052178853046,
          -6.979899340500194,
          34.20341529586991,
          -1.4543672031069592,
          56.253220939002084,
          -21.918557339453873,
          -98.76883405951378,
          -44.194173824159215,
          -37.2930477112567,
          -37.2930477112567,
          37.832541644962234,
          71.67358990906006,
          -24.42069553057961,
          -3.27099726518399,
          -3.27099726518399,
          56.74881246744335,
          -16.067932453133213,
          -16.067932453133213,
          -114.00671444188957,
          -10.467191248588767,
          136.6149651375765,
          -27.331865848106116,
          -32.18987968187839,
          -63.73071515011623,
          11.03290784921512,
          -15.900749614712065,
          -13.78338267481924,
          40.67366430758002,
          12.324716433453368,
          5.126808396921068,
          -12.652100087278678,
          -12.652100087278678,
          -8.710705272304455,
          36.53092889908979,
          615.6614753256583,
          -29.720516134223548,
          -1.5865824033894103,
          -10.452846326765346,
          101.68416076895005,
          10.428964336015392,
          13.541038156127497,
          -46.03261616523136,
          -4.361329686911986,
          -35.32795094888033
         ]
        },
        {
         "customdata": [
          [
           "A0V",
           200,
           0
          ],
          [
           "A5m",
           76.92307692307692,
           0
          ],
          [
           "A2V",
           111.11111111111111,
           0
          ],
          [
           "A2Vn",
           200,
           0
          ],
          [
           "A1Vn",
           62.5,
           0
          ],
          [
           "A0Vn",
           62.5,
           0
          ],
          [
           "A5m",
           125,
           0
          ],
          [
           "A0V",
           100,
           0
          ],
          [
           "A3V",
           125,
           0
          ],
          [
           "A5III",
           250,
           0
          ],
          [
           "A1Vn",
           100,
           0
          ],
          [
           "A9V",
           76.92307692307692,
           0
          ],
          [
           "A3V",
           200,
           0
          ],
          [
           "A2V",
           250,
           0
          ],
          [
           "A2V",
           111.11111111111111,
           0
          ],
          [
           "A2V+A5V",
           55.55555555555556,
           0
          ],
          [
           "A1Vp:",
           200,
           0
          ],
          [
           "ApEuCrSr",
           66.66666666666667,
           0
          ],
          [
           "A3V",
           142.85714285714286,
           0
          ],
          [
           "A1pSi",
           500,
           0
          ],
          [
           "A2IV",
           52.631578947368425,
           0
          ],
          [
           "A2",
           52.631578947368425,
           0
          ],
          [
           "A7IV",
           200,
           0
          ],
          [
           "A1V",
           100,
           0
          ],
          [
           "A5m",
           125,
           0
          ],
          [
           "A5m",
           125,
           0
          ],
          [
           "A5V",
           250,
           0
          ],
          [
           "A9IVDel",
           142.85714285714286,
           0
          ],
          [
           "A0V",
           250,
           0
          ],
          [
           "A0Vn",
           333.3333333333333,
           0
          ],
          [
           "A4V",
           100,
           0
          ],
          [
           "A8V",
           100,
           0
          ],
          [
           "A3V",
           100,
           0
          ],
          [
           "A3V",
           200,
           0
          ],
          [
           "A4.5V",
           83.33333333333333,
           0
          ],
          [
           "A0V",
           90.90909090909092,
           0
          ],
          [
           "A3V",
           90.90909090909092,
           0
          ],
          [
           "A3V+F/G",
           333.3333333333333,
           10
          ],
          [
           "A1",
           500,
           0
          ],
          [
           "A6Vn",
           333.3333333333333,
           0
          ],
          [
           "A3V s",
           90.90909090909092,
           0
          ],
          [
           "A0IV-V",
           200,
           0
          ],
          [
           "A8m",
           66.66666666666667,
           0
          ],
          [
           "A0V",
           142.85714285714286,
           0
          ],
          [
           "A0IV+G:",
           111.11111111111111,
           10
          ],
          [
           "A2Vpn:Eu",
           111.11111111111111,
           0
          ],
          [
           "A6V",
           100,
           0
          ],
          [
           "A3V",
           100,
           0
          ],
          [
           "A2V:",
           200,
           0
          ],
          [
           "A5m",
           66.66666666666667,
           0
          ],
          [
           "A0V",
           76.92307692307692,
           0
          ],
          [
           "A3V",
           45.45454545454546,
           0
          ],
          [
           "A4m",
           90.90909090909092,
           0
          ],
          [
           "A7m",
           250,
           0
          ],
          [
           "A2m",
           250,
           0
          ],
          [
           "A8V",
           200,
           0
          ],
          [
           "A2V",
           1000,
           0
          ],
          [
           "A0V",
           1000,
           0
          ],
          [
           "ApSrEuCr",
           47.61904761904761,
           0
          ],
          [
           "A0IV",
           142.85714285714286,
           0
          ],
          [
           "A9IV",
           71.42857142857143,
           0
          ],
          [
           "A5V",
           83.33333333333333,
           0
          ],
          [
           "A0",
           166.66666666666666,
           0
          ],
          [
           "A2V",
           200,
           0
          ],
          [
           "A0III",
           83.33333333333333,
           0
          ],
          [
           "A2IV",
           90.90909090909092,
           0
          ],
          [
           "A1V",
           66.66666666666667,
           0
          ],
          [
           "A2Vn",
           66.66666666666667,
           0
          ],
          [
           "A8IVpeSr",
           250,
           0
          ],
          [
           "A0V",
           47.61904761904761,
           0
          ],
          [
           "A5IV",
           250,
           0
          ],
          [
           "A3Vn",
           333.3333333333333,
           0
          ],
          [
           "A1pCrEuS",
           333.3333333333333,
           0
          ],
          [
           "A0V",
           166.66666666666666,
           0
          ],
          [
           "A0V",
           250,
           0
          ],
          [
           "A7V+F4V",
           90.90909090909092,
           5
          ],
          [
           "A5m",
           83.33333333333333,
           0
          ],
          [
           "A3V",
           200,
           0
          ],
          [
           "A2pSrEu:",
           142.85714285714286,
           0
          ],
          [
           "A1V",
           55.55555555555556,
           0
          ],
          [
           "A1V",
           83.33333333333333,
           0
          ],
          [
           "A2V",
           200,
           0
          ],
          [
           "ApSi",
           333.3333333333333,
           0
          ],
          [
           "A4V+A6V",
           125,
           0
          ],
          [
           "A3V",
           66.66666666666667,
           0
          ],
          [
           "A3m",
           76.92307692307692,
           0
          ],
          [
           "A0V+A0V",
           111.11111111111111,
           0
          ],
          [
           "A4Vn",
           45.45454545454546,
           0
          ],
          [
           "A1Vnn",
           100,
           0
          ],
          [
           "A2V",
           83.33333333333333,
           0
          ],
          [
           "A5III+F7",
           125,
           5
          ],
          [
           "A1V",
           76.92307692307692,
           0
          ],
          [
           "A0V",
           111.11111111111111,
           0
          ],
          [
           "A3V",
           55.55555555555556,
           0
          ],
          [
           "A4V",
           100,
           0
          ],
          [
           "A1V+F3V",
           125,
           5
          ],
          [
           "A2Vnn",
           83.33333333333333,
           0
          ],
          [
           "A1V",
           250,
           0
          ],
          [
           "A3V",
           250,
           0
          ],
          [
           "A5V",
           47.61904761904761,
           0
          ],
          [
           "A5V",
           47.61904761904761,
           0
          ],
          [
           "A3IV",
           111.11111111111111,
           0
          ],
          [
           "A3V",
           83.33333333333333,
           0
          ],
          [
           "A3V",
           83.33333333333333,
           0
          ],
          [
           "A2V",
           125,
           0
          ],
          [
           "A4V",
           125,
           0
          ],
          [
           "A0V+A4V",
           250,
           0
          ],
          [
           "A8V+F2V",
           111.11111111111111,
           5
          ],
          [
           "A1V+A1V",
           166.66666666666666,
           0
          ],
          [
           "A2Vm",
           111.11111111111111,
           0
          ],
          [
           "A5V",
           38.46153846153846,
           0
          ],
          [
           "A3V",
           333.3333333333333,
           0
          ],
          [
           "A2II-III",
           43.47826086956522,
           0
          ],
          [
           "A1m",
           90.90909090909092,
           0
          ],
          [
           "A1V",
           333.3333333333333,
           0
          ],
          [
           "A2IV s",
           200,
           0
          ],
          [
           "Am",
           111.11111111111111,
           0
          ],
          [
           "A2V",
           100,
           0
          ],
          [
           "A2-3IV-V",
           111.11111111111111,
           0
          ],
          [
           "A2-3IV-V",
           111.11111111111111,
           0
          ],
          [
           "A3V",
           333.3333333333333,
           0
          ],
          [
           "A0IIIpSi",
           166.66666666666666,
           0
          ],
          [
           "A1m",
           100,
           0
          ],
          [
           "A2V+K0II",
           166.66666666666666,
           0
          ],
          [
           "A9IIIp",
           76.92307692307692,
           0
          ],
          [
           "A0V",
           166.66666666666666,
           0
          ],
          [
           "A5V",
           250,
           0
          ],
          [
           "A1V+G:",
           500,
           10
          ],
          [
           "A3V s",
           125,
           0
          ],
          [
           "A8V+F6V",
           71.42857142857143,
           5
          ],
          [
           "A4Vn",
           90.90909090909092,
           0
          ],
          [
           "A8V+F0V",
           125,
           5
          ],
          [
           "A3Ia",
           1000,
           0
          ],
          [
           "A2V+F2V",
           166.66666666666666,
           5
          ]
         ],
         "hovertemplate": "<b>%{hovertext}</b><br><br>Color=light blue<br>x=%{x}<br>y=%{y}<br>z=%{z}<br>Spectral_Type=%{customdata[0]}<br>Distance _in_Parsec=%{customdata[1]}<br>Radial_Velocity=%{customdata[2]}<extra></extra>",
         "hovertext": [
          81,
          250,
          277,
          282,
          310,
          311,
          379,
          380,
          526,
          579,
          629,
          820,
          967,
          1043,
          1065,
          1188,
          1229,
          1357,
          1359,
          1371,
          1389,
          1410,
          1486,
          1589,
          1642,
          1670,
          1701,
          1706,
          1818,
          1826,
          1976,
          2175,
          2176,
          2257,
          2280,
          2424,
          2470,
          2482,
          2528,
          2570,
          2644,
          2754,
          2772,
          3164,
          3267,
          3278,
          3310,
          3311,
          3328,
          3337,
          3443,
          3455,
          3523,
          3552,
          3553,
          3686,
          3780,
          3781,
          3831,
          4002,
          4028,
          4043,
          4073,
          4148,
          4218,
          4229,
          4259,
          4260,
          4369,
          4428,
          4481,
          4560,
          4561,
          4628,
          4675,
          4719,
          4917,
          5031,
          5106,
          5144,
          5234,
          5397,
          5474,
          5577,
          5633,
          5887,
          6097,
          6162,
          6186,
          6216,
          6236,
          6246,
          6291,
          6298,
          6329,
          6367,
          6435,
          6627,
          6689,
          6749,
          6750,
          6758,
          6781,
          6782,
          6792,
          6798,
          6904,
          6909,
          7048,
          7059,
          7500,
          7638,
          7695,
          7723,
          7784,
          7818,
          7849,
          7917,
          7959,
          7960,
          8058,
          8180,
          8361,
          8396,
          8510,
          8533,
          8645,
          8652,
          8724,
          8739,
          8798,
          8966,
          9018,
          9044
         ],
         "legendgroup": "light blue",
         "marker": {
          "color": "#ab63fa",
          "size": 4,
          "symbol": "circle"
         },
         "mode": "markers",
         "name": "light blue",
         "scene": "scene",
         "showlegend": true,
         "type": "scatter3d",
         "x": [
          196.1424753466974,
          46.06000456416921,
          100.39128407016916,
          138.95656722821545,
          55.96892287745709,
          55.967963187714325,
          93.98892308999663,
          38.396047917813625,
          75.74391354185254,
          62.787974585856496,
          65.3802616947341,
          46.99965924406499,
          55.02634584979245,
          78.29985798698074,
          59.80527351557315,
          26.994876134885068,
          78.99950491561388,
          14.56638299823508,
          51.08359301593844,
          151.72680097023937,
          20.17243390251482,
          18.989450934545324,
          33.8326126544782,
          6.590834350826466,
          27.82398400531215,
          24.00484637246897,
          50.34016988675988,
          23.424262680850113,
          23.56678152212852,
          44.967860913764696,
          2.235726762020529,
          -3.3877583765662593,
          -3.3882443579219594,
          -9.899685212921279,
          -7.776078014583132,
          -11.315599751891794,
          -9.381775574949044,
          -48.17584286580886,
          -98.34476525288622,
          -77.71858678280896,
          -15.817269397369827,
          -28.070715342354998,
          -12.064894450349858,
          -66.32546949052687,
          -50.32833662211131,
          -64.25067964801505,
          -53.70790350415319,
          -53.708951682203384,
          -92.61811126732636,
          -40.209460865493874,
          -24.622182401265047,
          -15.973105724739003,
          -61.41523294504438,
          -171.9737945968409,
          -171.9750954179579,
          -124.77857447423568,
          -681.7556310857486,
          -681.7820787508846,
          -25.812416418458834,
          -47.415465831388694,
          -61.4293757813483,
          -38.580336880614354,
          -140.50484004959475,
          -184.5990085125782,
          -76.51427751164138,
          -86.40524293062336,
          -58.51534461933937,
          -58.51595856925403,
          -243.77577978505707,
          -43.12110870949694,
          -109.12512745332884,
          -231.49976081307182,
          -231.50172428847017,
          -138.04032072338143,
          -201.64533609132982,
          -81.92339039269645,
          -47.511920886859535,
          -187.61636555128507,
          -127.48681391007983,
          -47.54167961632426,
          -42.806476150620014,
          -152.2589882401507,
          -219.63159013938795,
          -79.21598960452425,
          -43.3746238251663,
          -24.08933293085427,
          -37.922434190417995,
          -12.06782993511811,
          -22.004386695174546,
          -24.08526871500552,
          -23.961104381606525,
          -22.670363571157466,
          -27.848365433342007,
          -11.693993845541147,
          -24.800607098534336,
          -27.994144842752185,
          -13.876618951752796,
          -13.41502812005155,
          -3.194229225581873,
          1.0377242418077264,
          1.0377242418077264,
          2.7130431352789106,
          2.556797192098539,
          2.556797192098539,
          2.541937220179594,
          5.797582760973397,
          24.226119784115422,
          12.05382115020505,
          32.72757373493868,
          22.377608402680938,
          8.143747770432071,
          121.92108913440019,
          10.221013818744524,
          45.74038922193569,
          148.81867375212954,
          60.94020158637713,
          61.98725538951533,
          56.39565550705433,
          35.51517866779875,
          35.51656785611402,
          238.9446496577796,
          97.89585517594882,
          35.80304236723392,
          139.5922789606459,
          55.556601997714544,
          151.92059801931543,
          233.74606980850703,
          321.97035533793127,
          118.07591721155448,
          67.66304857320243,
          75.07839063190657,
          86.48402761807876,
          468.9147413256517,
          148.45606960762723
         ],
         "y": [
          17.943850773687554,
          11.01410949428327,
          26.110214982458853,
          37.27012688736735,
          16.49422350999878,
          16.49747962202681,
          33.64519547725953,
          13.419779152380597,
          39.12016245158485,
          37.41986244043111,
          42.01166308082652,
          41.97029697015832,
          64.1587801371585,
          102.21617241004265,
          78.89532807712428,
          42.50226731355978,
          136.37271037521123,
          29.98218800321017,
          108.37399165008071,
          339.18289428536053,
          46.11253568422048,
          44.17257064592056,
          97.29297541577307,
          26.76416301283931,
          114.86801089348003,
          107.72632876413905,
          244.84041872231575,
          118.86362150694836,
          152.1004522386395,
          329.82520135633115,
          46.89389095065424,
          66.82724576730466,
          66.82722112906345,
          102.53080013814021,
          82.91874876248137,
          72.67130338748413,
          45.87208907975611,
          258.214540703689,
          446.0601225644498,
          322.8419406738383,
          53.6876907607845,
          86.35004281596517,
          32.1463902265859,
          108.64079540566804,
          73.08463038415452,
          90.62984525017796,
          72.06780472455688,
          72.06702356714224,
          124.82034802718803,
          53.12466921973187,
          29.547217713809136,
          18.913890721627247,
          66.10512112899784,
          178.87636908794988,
          178.87511845449373,
          106.16360119499993,
          519.5623551373002,
          519.5276493961298,
          18.68135460320096,
          24.812359588993555,
          29.87212690785858,
          18.806122284882758,
          64.32813825835254,
          71.75263043916553,
          24.996403963831547,
          27.538740204307395,
          16.88589853463112,
          16.88377084549695,
          46.31533910393245,
          5.745286143335342,
          10.113627161800787,
          4.9553376402992795,
          4.862743989144926,
          -6.052115041343485,
          -15.682458571019765,
          -8.77135445581633,
          -11.910664169138968,
          -68.9302573803628,
          -55.8798866416978,
          -22.339752764749658,
          -23.80865697337021,
          -112.1490774470307,
          -187.33739067836208,
          -78.29048010142007,
          -46.24586222899274,
          -36.96471297654784,
          -85.12020036532267,
          -29.789684991566073,
          -57.49954337358591,
          -70.23562534819932,
          -76.69249695238031,
          -71.44080402922388,
          -98.41403701366401,
          -42.799844325940064,
          -95.87094641879635,
          -121.8054542728268,
          -78.47460959554282,
          -238.69952065909825,
          -249.97959296641483,
          -34.81090273132162,
          -34.81090273132162,
          -108.64919877633682,
          -74.85585124980257,
          -74.85585124980257,
          -81.96797364774949,
          -118.04754146818213,
          -221.43031466884898,
          -99.13588845201615,
          -162.77493745910618,
          -108.83437717248141,
          -17.42130470024227,
          -215.63381095746595,
          -16.886321100931657,
          -69.31847303857481,
          -212.03586344788067,
          -83.04733936071584,
          -79.361479488473,
          -66.85152474772492,
          -38.20606685137129,
          -38.204775457777096,
          -230.5917426741211,
          -78.98259405600076,
          -22.4544897251609,
          -78.62143679310665,
          -26.22096473582915,
          -67.54808630382291,
          -81.56103755561863,
          -112.31888116229884,
          -33.37965905238035,
          -18.384700189643294,
          -17.519066324182283,
          -7.76921160524678,
          -22.858557087528887,
          -3.656274765646841
         ],
         "z": [
          34.729635533386066,
          60.61621181590169,
          39.81866106058892,
          138.93167409179944,
          22.397996846581268,
          22.397996846581268,
          75.22687789400604,
          -91.35454576426008,
          91.41921270239631,
          239.07618899075885,
          62.93203910498374,
          44.12126433469585,
          181.26155740732997,
          214.2918251755281,
          50.44338885994965,
          23.47879231892775,
          123.13229506513166,
          -57.735026918962575,
          -77.80557643071816,
          334.5653031794291,
          15.38798445909141,
          -21.407191740831593,
          171.43346014042245,
          96.12616959383189,
          40.69601930714459,
          58.68394534823635,
          4.363101609320878,
          75.702752033315,
          -197.0026884016805,
          -17.445318747647946,
          88.29475928589268,
          74.31448254773943,
          74.31448254773943,
          171.43346014042245,
          2.9082913918750806,
          -53.435022935679385,
          77.9243000638284,
          -205.22049177521941,
          -203.3683215379001,
          -29.051914249219386,
          71.63734123697473,
          -178.20130483767358,
          57.14448671347416,
          64.85578567707812,
          -66.86833590578314,
          -1.939156270809279,
          43.837114678907746,
          43.837114678907746,
          -125.86407820996747,
          -2.3266331135000646,
          -66.61733875264912,
          -38.12138945206473,
          -11.079031218649773,
          -30.46733585128687,
          -30.46733585128687,
          114.71528727020922,
          -515.0380749100542,
          -515.0380749100542,
          -35.387848832256864,
          -132.45483636668394,
          20.8836931944812,
          -71.4306083918427,
          -62.434432235985334,
          27.834620192013087,
          -21.568253758543392,
          -6.341497613102301,
          27.11577620505335,
          27.11577620505335,
          -30.46733585128687,
          -19.368411575038103,
          224.69851157479172,
          239.779933446217,
          239.779933446217,
          -93.19881724512447,
          -146.9463130731183,
          38.41984197642723,
          67.41808286457895,
          6.979899340500194,
          -32.13586490626643,
          18.087119692064263,
          -67.41808286457895,
          -65.11363089143134,
          -166.66666666666663,
          -56.74881246744335,
          20.601132958329828,
          63.01169571453783,
          -60.51544833500301,
          32.141217326661256,
          78.8010753606722,
          -37.832541644962234,
          -95.75555538987226,
          17.303927257220383,
          -43.41456983214153,
          -33.43416795289157,
          13.917310096006544,
          -2.181550804660439,
          -24.36430872689473,
          73.09292618068419,
          0,
          -32.476112383928495,
          -32.476112383928495,
          23.10129897975104,
          36.53092889908979,
          36.53092889908979,
          94.3386975278465,
          -40.69601930714459,
          113.4976249348867,
          -48.707905198786385,
          14.525957124609693,
          0,
          33.30866937632456,
          223.04353545295274,
          38.73941409514643,
          36.97605846143639,
          209.77346368327912,
          171.43346014042245,
          46.9575846378555,
          48.480962024633705,
          -98.10528809543632,
          -98.10528809543632,
          -29.051914249219386,
          -109.34317149841787,
          90.63077870366499,
          -45.93955930283319,
          46.29346331938832,
          -11.626078957354217,
          -34.79327524001636,
          365.67685080958523,
          23.8511244220681,
          13.629213955467486,
          48.174478566655,
          -89.91747504233139,
          882.9475928589269,
          -75.66508328992447
         ]
        },
        {
         "customdata": [
          [
           "K2III",
           142.85714285714286,
           0
          ],
          [
           "K1IV",
           45.45454545454546,
           0
          ],
          [
           "K5IIIb",
           166.66666666666666,
           0
          ],
          [
           "K3:+B2II",
           500,
           -10
          ],
          [
           "K1III",
           333.3333333333333,
           0
          ],
          [
           "K2III+A5",
           166.66666666666666,
           0
          ],
          [
           "K0III",
           333.3333333333333,
           0
          ],
          [
           "K1III",
           333.3333333333333,
           0
          ],
          [
           "K1III-IV",
           100,
           0
          ],
          [
           "K5III",
           200,
           0
          ],
          [
           "K3III+K0",
           333.3333333333333,
           0
          ],
          [
           "K0III",
           333.3333333333333,
           0
          ],
          [
           "K1III",
           83.33333333333333,
           0
          ],
          [
           "K0III",
           166.66666666666666,
           0
          ],
          [
           "K2III",
           111.11111111111111,
           0
          ],
          [
           "K0III",
           125,
           0
          ],
          [
           "K3III",
           333.3333333333333,
           0
          ],
          [
           "K0III",
           250,
           0
          ],
          [
           "K1II",
           250,
           0
          ],
          [
           "K5III+K3",
           200,
           0
          ],
          [
           "K1III",
           250,
           0
          ],
          [
           "K3III",
           62.5,
           0
          ],
          [
           "K0III",
           71.42857142857143,
           0
          ],
          [
           "K0IV",
           100,
           0
          ],
          [
           "K0III-IV",
           83.33333333333333,
           0
          ],
          [
           "K1III",
           333.3333333333333,
           0
          ],
          [
           "K1III",
           333.3333333333333,
           0
          ]
         ],
         "hovertemplate": "<b>%{hovertext}</b><br><br>Color=orange<br>x=%{x}<br>y=%{y}<br>z=%{z}<br>Spectral_Type=%{customdata[0]}<br>Distance _in_Parsec=%{customdata[1]}<br>Radial_Velocity=%{customdata[2]}<extra></extra>",
         "hovertext": [
          247,
          258,
          1280,
          1669,
          2055,
          2099,
          2896,
          3050,
          3127,
          3425,
          4193,
          4231,
          4945,
          5428,
          6043,
          6512,
          6658,
          6665,
          6780,
          7099,
          7265,
          7535,
          7802,
          8619,
          8716,
          8760,
          8956
         ],
         "legendgroup": "orange",
         "marker": {
          "color": "#FFA15A",
          "size": 4,
          "symbol": "circle"
         },
         "mode": "markers",
         "name": "orange",
         "scene": "scene",
         "showlegend": true,
         "type": "scatter3d",
         "x": [
          127.07438814909558,
          40.64349554690694,
          74.83245505233332,
          85.8922679870687,
          8.256399723760914,
          0.791943181304288,
          -116.43010367076877,
          -154.72213859140462,
          -46.37668685225665,
          -120.71187637049913,
          -314.0960173889489,
          -54.83210429941201,
          -56.508357202278624,
          -113.28832373121513,
          -42.42791162950009,
          -16.3668059725845,
          -7.971151121905266,
          -8.45390674123452,
          9.533533438488712,
          43.267713399731704,
          70.88560977509042,
          23.770481594593456,
          30.998908784409892,
          82.93473994771227,
          79.82785138387649,
          261.2487810862577,
          284.2960458319297
         ],
         "y": [
          29.732891540825424,
          9.93913499758644,
          140.7245653383251,
          389.9707524637745,
          262.54045922533476,
          163.02267655462447,
          264.15405409069035,
          294.7334928280229,
          79.5141167900563,
          145.56393088690544,
          109.15191305616986,
          18.543200760301023,
          -16.704124895423515,
          -89.43762653103408,
          -82.9664500862764,
          -123.4440692486425,
          -276.2308703192719,
          -241.3334318511926,
          -216.29635165711238,
          -192.1503510089868,
          -225.50070150007,
          -47.37386252812314,
          -43.08993276124748,
          -30.295105663441305,
          -23.198430117090094,
          -66.87481390709311,
          -28.514336183575033
         ],
         "z": [
          -58.105234725114315,
          17.760505840421537,
          48.72861745378946,
          300.90751157602415,
          -205.22049177521941,
          34.651948469626554,
          166.66666666666663,
          17.445318747647946,
          39.07311284892738,
          -65.11363089143134,
          23.252157914708434,
          -328.2692510040693,
          58.92556509887895,
          -83.33333333333331,
          60.51544833500301,
          -10.89446784345727,
          -186.39763449024895,
          64.70476127563019,
          -124.99999999999999,
          34.729635533386066,
          -81.39203861428918,
          33.119954014575306,
          47.795043311347015,
          -46.947156278589084,
          -5.8130394786771085,
          -195.92841743082437,
          -171.67935830335136
         ]
        },
        {
         "customdata": [
          [
           "M1III+F7",
           125,
           5
          ],
          [
           "M1III+F7",
           250,
           5
          ],
          [
           "M2II-III",
           333.3333333333333,
           0
          ],
          [
           "M0.5IIb",
           500,
           0
          ]
         ],
         "hovertemplate": "<b>%{hovertext}</b><br><br>Color=red<br>x=%{x}<br>y=%{y}<br>z=%{z}<br>Spectral_Type=%{customdata[0]}<br>Distance _in_Parsec=%{customdata[1]}<br>Radial_Velocity=%{customdata[2]}<extra></extra>",
         "hovertext": [
          881,
          4666,
          5133,
          5594
         ],
         "legendgroup": "red",
         "marker": {
          "color": "#19d3f3",
          "size": 4,
          "symbol": "circle"
         },
         "mode": "markers",
         "name": "red",
         "scene": "scene",
         "showlegend": true,
         "type": "scatter3d",
         "x": [
          16.408214312868637,
          -191.0371867301421,
          -195.08030806122954,
          -350.7423910931629
         ],
         "y": [
          17.310304424242425,
          -13.464725705501094,
          -88.61212095867701,
          -356.34221626163065
         ],
         "z": [
          122.70339793095799,
          160.6969024216348,
          255.348147706326,
          0
         ]
        },
        {
         "customdata": [
          [
           "gG6",
           111.11111111111111,
           10
          ],
          [
           "dF5",
           76.92307692307692,
           5
          ]
         ],
         "hovertemplate": "<b>%{hovertext}</b><br><br>Color=black<br>x=%{x}<br>y=%{y}<br>z=%{z}<br>Spectral_Type=%{customdata[0]}<br>Distance _in_Parsec=%{customdata[1]}<br>Radial_Velocity=%{customdata[2]}<extra></extra>",
         "hovertext": [
          2021,
          3029
         ],
         "legendgroup": "black",
         "marker": {
          "color": "#FF6692",
          "size": 4,
          "symbol": "circle"
         },
         "mode": "markers",
         "name": "black",
         "scene": "scene",
         "showlegend": true,
         "type": "scatter3d",
         "x": [
          4.886696539432974,
          -34.14311936084429
         ],
         "y": [
          107.69983048354408,
          67.04941829671829
         ],
         "z": [
          -26.880210622185302,
          -15.993206985981487
         ]
        },
        {
         "customdata": [
          [
           "O5III(f)",
           142.85714285714286,
           0
          ]
         ],
         "hovertemplate": "<b>%{hovertext}</b><br><br>Color=deepest blue<br>x=%{x}<br>y=%{y}<br>z=%{z}<br>Spectral_Type=%{customdata[0]}<br>Distance _in_Parsec=%{customdata[1]}<br>Radial_Velocity=%{customdata[2]}<extra></extra>",
         "hovertext": [
          6187
         ],
         "legendgroup": "deepest blue",
         "marker": {
          "color": "#B6E880",
          "size": 4,
          "symbol": "circle"
         },
         "mode": "markers",
         "name": "deepest blue",
         "scene": "scene",
         "showlegend": true,
         "type": "scatter3d",
         "x": [
          -32.168638579788244
         ],
         "y": [
          -90.01468409352503
         ],
         "z": [
          -106.1635464967706
         ]
        }
       ],
       "layout": {
        "autosize": true,
        "legend": {
         "title": {
          "text": "Color"
         },
         "tracegroupgap": 0
        },
        "margin": {
         "t": 60
        },
        "scene": {
         "aspectmode": "auto",
         "aspectratio": {
          "x": 0.8119981516978202,
          "y": 1.248383766248043,
          "z": 0.9864994484411216
         },
         "domain": {
          "x": [
           0,
           1
          ],
          "y": [
           0,
           1
          ]
         },
         "xaxis": {
          "title": {
           "text": "x"
          },
          "type": "linear"
         },
         "yaxis": {
          "title": {
           "text": "y"
          },
          "type": "linear"
         },
         "zaxis": {
          "title": {
           "text": "z"
          },
          "type": "linear"
         }
        },
        "template": {
         "data": {
          "bar": [
           {
            "error_x": {
             "color": "#2a3f5f"
            },
            "error_y": {
             "color": "#2a3f5f"
            },
            "marker": {
             "line": {
              "color": "#E5ECF6",
              "width": 0.5
             },
             "pattern": {
              "fillmode": "overlay",
              "size": 10,
              "solidity": 0.2
             }
            },
            "type": "bar"
           }
          ],
          "barpolar": [
           {
            "marker": {
             "line": {
              "color": "#E5ECF6",
              "width": 0.5
             },
             "pattern": {
              "fillmode": "overlay",
              "size": 10,
              "solidity": 0.2
             }
            },
            "type": "barpolar"
           }
          ],
          "carpet": [
           {
            "aaxis": {
             "endlinecolor": "#2a3f5f",
             "gridcolor": "white",
             "linecolor": "white",
             "minorgridcolor": "white",
             "startlinecolor": "#2a3f5f"
            },
            "baxis": {
             "endlinecolor": "#2a3f5f",
             "gridcolor": "white",
             "linecolor": "white",
             "minorgridcolor": "white",
             "startlinecolor": "#2a3f5f"
            },
            "type": "carpet"
           }
          ],
          "choropleth": [
           {
            "colorbar": {
             "outlinewidth": 0,
             "ticks": ""
            },
            "type": "choropleth"
           }
          ],
          "contour": [
           {
            "colorbar": {
             "outlinewidth": 0,
             "ticks": ""
            },
            "colorscale": [
             [
              0,
              "#0d0887"
             ],
             [
              0.1111111111111111,
              "#46039f"
             ],
             [
              0.2222222222222222,
              "#7201a8"
             ],
             [
              0.3333333333333333,
              "#9c179e"
             ],
             [
              0.4444444444444444,
              "#bd3786"
             ],
             [
              0.5555555555555556,
              "#d8576b"
             ],
             [
              0.6666666666666666,
              "#ed7953"
             ],
             [
              0.7777777777777778,
              "#fb9f3a"
             ],
             [
              0.8888888888888888,
              "#fdca26"
             ],
             [
              1,
              "#f0f921"
             ]
            ],
            "type": "contour"
           }
          ],
          "contourcarpet": [
           {
            "colorbar": {
             "outlinewidth": 0,
             "ticks": ""
            },
            "type": "contourcarpet"
           }
          ],
          "heatmap": [
           {
            "colorbar": {
             "outlinewidth": 0,
             "ticks": ""
            },
            "colorscale": [
             [
              0,
              "#0d0887"
             ],
             [
              0.1111111111111111,
              "#46039f"
             ],
             [
              0.2222222222222222,
              "#7201a8"
             ],
             [
              0.3333333333333333,
              "#9c179e"
             ],
             [
              0.4444444444444444,
              "#bd3786"
             ],
             [
              0.5555555555555556,
              "#d8576b"
             ],
             [
              0.6666666666666666,
              "#ed7953"
             ],
             [
              0.7777777777777778,
              "#fb9f3a"
             ],
             [
              0.8888888888888888,
              "#fdca26"
             ],
             [
              1,
              "#f0f921"
             ]
            ],
            "type": "heatmap"
           }
          ],
          "heatmapgl": [
           {
            "colorbar": {
             "outlinewidth": 0,
             "ticks": ""
            },
            "colorscale": [
             [
              0,
              "#0d0887"
             ],
             [
              0.1111111111111111,
              "#46039f"
             ],
             [
              0.2222222222222222,
              "#7201a8"
             ],
             [
              0.3333333333333333,
              "#9c179e"
             ],
             [
              0.4444444444444444,
              "#bd3786"
             ],
             [
              0.5555555555555556,
              "#d8576b"
             ],
             [
              0.6666666666666666,
              "#ed7953"
             ],
             [
              0.7777777777777778,
              "#fb9f3a"
             ],
             [
              0.8888888888888888,
              "#fdca26"
             ],
             [
              1,
              "#f0f921"
             ]
            ],
            "type": "heatmapgl"
           }
          ],
          "histogram": [
           {
            "marker": {
             "pattern": {
              "fillmode": "overlay",
              "size": 10,
              "solidity": 0.2
             }
            },
            "type": "histogram"
           }
          ],
          "histogram2d": [
           {
            "colorbar": {
             "outlinewidth": 0,
             "ticks": ""
            },
            "colorscale": [
             [
              0,
              "#0d0887"
             ],
             [
              0.1111111111111111,
              "#46039f"
             ],
             [
              0.2222222222222222,
              "#7201a8"
             ],
             [
              0.3333333333333333,
              "#9c179e"
             ],
             [
              0.4444444444444444,
              "#bd3786"
             ],
             [
              0.5555555555555556,
              "#d8576b"
             ],
             [
              0.6666666666666666,
              "#ed7953"
             ],
             [
              0.7777777777777778,
              "#fb9f3a"
             ],
             [
              0.8888888888888888,
              "#fdca26"
             ],
             [
              1,
              "#f0f921"
             ]
            ],
            "type": "histogram2d"
           }
          ],
          "histogram2dcontour": [
           {
            "colorbar": {
             "outlinewidth": 0,
             "ticks": ""
            },
            "colorscale": [
             [
              0,
              "#0d0887"
             ],
             [
              0.1111111111111111,
              "#46039f"
             ],
             [
              0.2222222222222222,
              "#7201a8"
             ],
             [
              0.3333333333333333,
              "#9c179e"
             ],
             [
              0.4444444444444444,
              "#bd3786"
             ],
             [
              0.5555555555555556,
              "#d8576b"
             ],
             [
              0.6666666666666666,
              "#ed7953"
             ],
             [
              0.7777777777777778,
              "#fb9f3a"
             ],
             [
              0.8888888888888888,
              "#fdca26"
             ],
             [
              1,
              "#f0f921"
             ]
            ],
            "type": "histogram2dcontour"
           }
          ],
          "mesh3d": [
           {
            "colorbar": {
             "outlinewidth": 0,
             "ticks": ""
            },
            "type": "mesh3d"
           }
          ],
          "parcoords": [
           {
            "line": {
             "colorbar": {
              "outlinewidth": 0,
              "ticks": ""
             }
            },
            "type": "parcoords"
           }
          ],
          "pie": [
           {
            "automargin": true,
            "type": "pie"
           }
          ],
          "scatter": [
           {
            "fillpattern": {
             "fillmode": "overlay",
             "size": 10,
             "solidity": 0.2
            },
            "type": "scatter"
           }
          ],
          "scatter3d": [
           {
            "line": {
             "colorbar": {
              "outlinewidth": 0,
              "ticks": ""
             }
            },
            "marker": {
             "colorbar": {
              "outlinewidth": 0,
              "ticks": ""
             }
            },
            "type": "scatter3d"
           }
          ],
          "scattercarpet": [
           {
            "marker": {
             "colorbar": {
              "outlinewidth": 0,
              "ticks": ""
             }
            },
            "type": "scattercarpet"
           }
          ],
          "scattergeo": [
           {
            "marker": {
             "colorbar": {
              "outlinewidth": 0,
              "ticks": ""
             }
            },
            "type": "scattergeo"
           }
          ],
          "scattergl": [
           {
            "marker": {
             "colorbar": {
              "outlinewidth": 0,
              "ticks": ""
             }
            },
            "type": "scattergl"
           }
          ],
          "scattermapbox": [
           {
            "marker": {
             "colorbar": {
              "outlinewidth": 0,
              "ticks": ""
             }
            },
            "type": "scattermapbox"
           }
          ],
          "scatterpolar": [
           {
            "marker": {
             "colorbar": {
              "outlinewidth": 0,
              "ticks": ""
             }
            },
            "type": "scatterpolar"
           }
          ],
          "scatterpolargl": [
           {
            "marker": {
             "colorbar": {
              "outlinewidth": 0,
              "ticks": ""
             }
            },
            "type": "scatterpolargl"
           }
          ],
          "scatterternary": [
           {
            "marker": {
             "colorbar": {
              "outlinewidth": 0,
              "ticks": ""
             }
            },
            "type": "scatterternary"
           }
          ],
          "surface": [
           {
            "colorbar": {
             "outlinewidth": 0,
             "ticks": ""
            },
            "colorscale": [
             [
              0,
              "#0d0887"
             ],
             [
              0.1111111111111111,
              "#46039f"
             ],
             [
              0.2222222222222222,
              "#7201a8"
             ],
             [
              0.3333333333333333,
              "#9c179e"
             ],
             [
              0.4444444444444444,
              "#bd3786"
             ],
             [
              0.5555555555555556,
              "#d8576b"
             ],
             [
              0.6666666666666666,
              "#ed7953"
             ],
             [
              0.7777777777777778,
              "#fb9f3a"
             ],
             [
              0.8888888888888888,
              "#fdca26"
             ],
             [
              1,
              "#f0f921"
             ]
            ],
            "type": "surface"
           }
          ],
          "table": [
           {
            "cells": {
             "fill": {
              "color": "#EBF0F8"
             },
             "line": {
              "color": "white"
             }
            },
            "header": {
             "fill": {
              "color": "#C8D4E3"
             },
             "line": {
              "color": "white"
             }
            },
            "type": "table"
           }
          ]
         },
         "layout": {
          "annotationdefaults": {
           "arrowcolor": "#2a3f5f",
           "arrowhead": 0,
           "arrowwidth": 1
          },
          "autotypenumbers": "strict",
          "coloraxis": {
           "colorbar": {
            "outlinewidth": 0,
            "ticks": ""
           }
          },
          "colorscale": {
           "diverging": [
            [
             0,
             "#8e0152"
            ],
            [
             0.1,
             "#c51b7d"
            ],
            [
             0.2,
             "#de77ae"
            ],
            [
             0.3,
             "#f1b6da"
            ],
            [
             0.4,
             "#fde0ef"
            ],
            [
             0.5,
             "#f7f7f7"
            ],
            [
             0.6,
             "#e6f5d0"
            ],
            [
             0.7,
             "#b8e186"
            ],
            [
             0.8,
             "#7fbc41"
            ],
            [
             0.9,
             "#4d9221"
            ],
            [
             1,
             "#276419"
            ]
           ],
           "sequential": [
            [
             0,
             "#0d0887"
            ],
            [
             0.1111111111111111,
             "#46039f"
            ],
            [
             0.2222222222222222,
             "#7201a8"
            ],
            [
             0.3333333333333333,
             "#9c179e"
            ],
            [
             0.4444444444444444,
             "#bd3786"
            ],
            [
             0.5555555555555556,
             "#d8576b"
            ],
            [
             0.6666666666666666,
             "#ed7953"
            ],
            [
             0.7777777777777778,
             "#fb9f3a"
            ],
            [
             0.8888888888888888,
             "#fdca26"
            ],
            [
             1,
             "#f0f921"
            ]
           ],
           "sequentialminus": [
            [
             0,
             "#0d0887"
            ],
            [
             0.1111111111111111,
             "#46039f"
            ],
            [
             0.2222222222222222,
             "#7201a8"
            ],
            [
             0.3333333333333333,
             "#9c179e"
            ],
            [
             0.4444444444444444,
             "#bd3786"
            ],
            [
             0.5555555555555556,
             "#d8576b"
            ],
            [
             0.6666666666666666,
             "#ed7953"
            ],
            [
             0.7777777777777778,
             "#fb9f3a"
            ],
            [
             0.8888888888888888,
             "#fdca26"
            ],
            [
             1,
             "#f0f921"
            ]
           ]
          },
          "colorway": [
           "#636efa",
           "#EF553B",
           "#00cc96",
           "#ab63fa",
           "#FFA15A",
           "#19d3f3",
           "#FF6692",
           "#B6E880",
           "#FF97FF",
           "#FECB52"
          ],
          "font": {
           "color": "#2a3f5f"
          },
          "geo": {
           "bgcolor": "white",
           "lakecolor": "white",
           "landcolor": "#E5ECF6",
           "showlakes": true,
           "showland": true,
           "subunitcolor": "white"
          },
          "hoverlabel": {
           "align": "left"
          },
          "hovermode": "closest",
          "mapbox": {
           "style": "light"
          },
          "paper_bgcolor": "white",
          "plot_bgcolor": "#E5ECF6",
          "polar": {
           "angularaxis": {
            "gridcolor": "white",
            "linecolor": "white",
            "ticks": ""
           },
           "bgcolor": "#E5ECF6",
           "radialaxis": {
            "gridcolor": "white",
            "linecolor": "white",
            "ticks": ""
           }
          },
          "scene": {
           "xaxis": {
            "backgroundcolor": "#E5ECF6",
            "gridcolor": "white",
            "gridwidth": 2,
            "linecolor": "white",
            "showbackground": true,
            "ticks": "",
            "zerolinecolor": "white"
           },
           "yaxis": {
            "backgroundcolor": "#E5ECF6",
            "gridcolor": "white",
            "gridwidth": 2,
            "linecolor": "white",
            "showbackground": true,
            "ticks": "",
            "zerolinecolor": "white"
           },
           "zaxis": {
            "backgroundcolor": "#E5ECF6",
            "gridcolor": "white",
            "gridwidth": 2,
            "linecolor": "white",
            "showbackground": true,
            "ticks": "",
            "zerolinecolor": "white"
           }
          },
          "shapedefaults": {
           "line": {
            "color": "#2a3f5f"
           }
          },
          "ternary": {
           "aaxis": {
            "gridcolor": "white",
            "linecolor": "white",
            "ticks": ""
           },
           "baxis": {
            "gridcolor": "white",
            "linecolor": "white",
            "ticks": ""
           },
           "bgcolor": "#E5ECF6",
           "caxis": {
            "gridcolor": "white",
            "linecolor": "white",
            "ticks": ""
           }
          },
          "title": {
           "x": 0.05
          },
          "xaxis": {
           "automargin": true,
           "gridcolor": "white",
           "linecolor": "white",
           "ticks": "",
           "title": {
            "standoff": 15
           },
           "zerolinecolor": "white",
           "zerolinewidth": 2
          },
          "yaxis": {
           "automargin": true,
           "gridcolor": "white",
           "linecolor": "white",
           "ticks": "",
           "title": {
            "standoff": 15
           },
           "zerolinecolor": "white",
           "zerolinewidth": 2
          }
         }
        }
       }
      },
      "text/html": [
       "<div>                            <div id=\"27100658-7a78-4387-a0f9-5bce726e272b\" class=\"plotly-graph-div\" style=\"height:525px; width:100%;\"></div>            <script type=\"text/javascript\">                require([\"plotly\"], function(Plotly) {                    window.PLOTLYENV=window.PLOTLYENV || {};                                    if (document.getElementById(\"27100658-7a78-4387-a0f9-5bce726e272b\")) {                    Plotly.newPlot(                        \"27100658-7a78-4387-a0f9-5bce726e272b\",                        [{\"customdata\":[[\"G4IV\",111.11111111111111,10],[\"G0III\",166.66666666666666,10],[\"G0V\",29.41176470588235,10],[\"G8III+A7\",111.11111111111111,10],[\"G8III\",125.0,10],[\"G5III\",500.0,10],[\"G0V\",35.714285714285715,10],[\"G6III\",250.0,10],[\"G5III\",90.90909090909092,10],[\"G5-8III+\",111.11111111111111,10],[\"G7III\",200.0,10],[\"G5III+G2\",45.45454545454546,10],[\"G3IV\",125.0,10],[\"G5III\",500.0,10],[\"G5II-III\",35.714285714285715,10],[\"G0IV\",27.77777777777778,10],[\"G0IV\",27.77777777777778,10],[\"G8III\",333.3333333333333,10],[\"G9III+G7\",166.66666666666666,10],[\"G7IV\",166.66666666666666,10],[\"G8III\",200.0,10],[\"G2III:+A\",333.3333333333333,10],[\"G9III\",111.11111111111111,10],[\"G8IIb\",250.0,10],[\"G4III\",333.3333333333333,10],[\"G2IV+G2I\",41.666666666666664,10],[\"G8IV\",55.55555555555556,10],[\"G8-K0III\",90.90909090909092,10],[\"G0V\",19.607843137254903,10],[\"G0V\",19.607843137254903,10],[\"G8III\",100.0,10]],\"hovertemplate\":\"\\u003cb\\u003e%{hovertext}\\u003c\\u002fb\\u003e\\u003cbr\\u003e\\u003cbr\\u003eColor=yellow\\u003cbr\\u003ex=%{x}\\u003cbr\\u003ey=%{y}\\u003cbr\\u003ez=%{z}\\u003cbr\\u003eSpectral_Type=%{customdata[0]}\\u003cbr\\u003eDistance _in_Parsec=%{customdata[1]}\\u003cbr\\u003eRadial_Velocity=%{customdata[2]}\\u003cextra\\u003e\\u003c\\u002fextra\\u003e\",\"hovertext\":[23.0,40.0,108.0,385.0,1506.0,1691.0,2431.0,2524.0,2744.0,3251.0,3532.0,4216.0,4691.0,5850.0,5900.0,6105.0,6106.0,6130.0,6980.0,7075.0,7229.0,7544.0,7760.0,7921.0,8059.0,8133.0,8166.0,8280.0,9074.0,9075.0,9094.0],\"legendgroup\":\"yellow\",\"marker\":{\"color\":\"#636efa\",\"symbol\":\"circle\",\"size\":4},\"mode\":\"markers\",\"name\":\"yellow\",\"scene\":\"scene\",\"showlegend\":true,\"x\":[65.2586727375458,149.54303153015928,27.42680804257111,104.44258752973649,40.5118351323603,104.46270013184089,-4.507481230344203,-29.730824715602086,-29.342563492455373,-53.764844159089385,-119.36075108606771,-28.311463027423564,-115.44906007058542,-273.8796310300687,-9.227923344892497,-9.817706747267724,-9.817545137194921,-65.86948563756675,23.67354892308298,15.522638625826783,32.96607166141656,149.44170254365193,54.87723175215931,137.01664570258464,238.9463265619353,13.664698368000932,36.201348499857275,10.697433589425144,16.44447969003219,16.44447969003219,40.671043611263144],\"y\":[2.5754276829823817,8.753538348927817,3.4103157988828126,37.9133871137757,116.96644054482711,488.88791932154766,28.539707072407946,143.9072513374953,86.04345865670778,79.80351365577893,125.51099991701842,9.367232668100616,-10.191011675200457,-402.91339453315436,-15.288001234994598,-22.22294453811768,-22.223015933908272,-147.56966928651363,-151.57996204418615,-79.29657494472346,-118.63726314788703,-291.08924274010803,-80.20246573973526,-161.78855688079753,-230.59000501349595,-12.120363446247845,-30.152461369705282,-6.755779097806255,-0.036833051939612914,-0.036833051939612914,0.4617139552146823],\"z\":[-89.89077715277195,73.06185779817957,-10.059415980166726,0.0,-17.39663762000818,8.726203218641755,-20.9923304390169,-202.25424859373686,0.0,-55.55555555555555,99.99999999999999,-34.304980919216916,-46.825824176989,112.4755271719325,-30.929478706587094,-13.466933895731586,-13.466933895731586,291.53990237979855,65.12185474821229,145.76995118989927,157.6021507213444,63.60299845884826,53.86773558292634,132.47981605830122,-29.051914249219386,37.449751929131956,29.439959124066938,-90.02436988559732,10.679196765000531,10.679196765000531,91.35454576426008],\"type\":\"scatter3d\"},{\"customdata\":[[\"B9Vn\",58.8235294117647,-10],[\"B8Vnn\",76.92307692307692,-10],[\"B5IV\",250.0,-10],[\"B9IIIn\",500.0,-10],[\"B9IVn\",142.85714285714286,-10],[\"B9.5Vn\",200.0,-10],[\"B6V+B9V\",76.92307692307692,-10],[\"B9V\",100.0,-10],[\"B9V\",111.11111111111111,-10],[\"B7V\",250.0,-10],[\"B7V\",250.0,-10],[\"B3V+A0IV\",9.708737864077671,-10],[\"B9VpSi\",250.0,-10],[\"B9V+A1\",166.66666666666666,-10],[\"B2.5V\",200.0,-10],[\"B3V+F5V\",90.90909090909092,-10],[\"B8V\",55.55555555555556,-10],[\"B9.5IV\",125.0,-10],[\"B8IV\",333.3333333333333,-10],[\"B0III\",166.66666666666666,-10],[\"B9IVn\",500.0,-10],[\"B8V\",76.92307692307692,-10],[\"B8III\",76.92307692307692,-10],[\"B9pHgSi\",500.0,-10],[\"B8.5V\",71.42857142857143,-10],[\"B1IV+B1.\",1000.0,-10],[\"B7IIIe\",111.11111111111111,-10],[\"B4Vn\",500.0,-10],[\"B9IV-V\",142.85714285714286,-10],[\"B9Vn\",1000.0,-10],[\"B5III\",333.3333333333333,-10],[\"B8IIIHe\",333.3333333333333,-10],[\"B9V\",333.3333333333333,-10],[\"B4Vnpe\",166.66666666666666,-10],[\"B2V:nne\",111.11111111111111,-10],[\"B5V\",83.33333333333333,-10],[\"B7III\",500.0,-10],[\"B2III\",200.0,-10],[\"B6V\",250.0,-10],[\"B2II\",1000.0,-10],[\"B9IV\",71.42857142857143,-10],[\"B3V\",250.0,-10],[\"B6V\",100.0,-10],[\"B5IVn\",100.0,-10],[\"B5Vn\",166.66666666666666,-10],[\"B9IV\",100.0,-10],[\"B9IV\",100.0,-10],[\"B5V\",142.85714285714286,-10],[\"B7V\",58.8235294117647,-10],[\"B9V\",200.0,-10],[\"B2IV\",null,-10],[\"B7III\",166.66666666666666,-10],[\"B5V\",50.0,-10],[\"B9Si\",125.0,-10],[\"B8Vp:Si:\",200.0,-10],[\"B8V\",166.66666666666666,-10],[\"B6Ve\",200.0,-10],[\"B4IV\",66.66666666666667,-10],[\"B7IVne\",125.0,-10],[\"B3IIIe\",125.0,-10],[\"B9.5V\",500.0,-10],[\"B9.5IV-V\",100.0,-10],[\"B6V\",250.0,-10],[\"B5Vn\",90.90909090909092,-10],[\"B5V\",100.0,-10],[\"B9V\",142.85714285714286,-10],[\"B4V\",333.3333333333333,-10],[\"B9IIIpSi\",100.0,-10],[\"B9Vn\",83.33333333333333,-10],[\"B0.5IV\",125.0,-10],[\"B1V\",125.0,-10],[\"B2.5V\",66.66666666666667,-10],[\"B8V\",71.42857142857143,-10],[\"B9III\",90.90909090909092,-10],[\"B8Vn\",333.3333333333333,-10],[\"B5IIIp\",58.8235294117647,-10],[\"B8V\",58.8235294117647,-10],[\"B5V\",111.11111111111111,-10],[\"B5IV\",111.11111111111111,-10],[\"B3V\",83.33333333333333,-10],[\"B8Ve\",76.92307692307692,-10],[\"B5IV+F8\",100.0,-10],[\"B2IV-V\",111.11111111111111,-10],[\"B2IV\",125.0,-10],[\"B3IVp\",71.42857142857143,-10],[\"B2.5Vn\",166.66666666666666,-10],[\"B2.5IV\",125.0,-10],[\"B9V\",47.61904761904761,-10],[\"B2IV\",76.92307692307692,-10],[\"B2V\",76.92307692307692,-10],[\"B9.5Vn\",100.0,-10],[\"B9V\",100.0,-10],[\"B9pSi*\",166.66666666666666,-10],[\"B6V+B7V\",125.0,-10],[\"B7V+B9.5\",111.11111111111111,-10],[\"B9V+A1V\",111.11111111111111,-10],[\"B8V\",200.0,-10],[\"B9V+F7II\",250.0,-10],[\"B0Ib\",50.0,-10],[\"B5IV\",166.66666666666666,-10],[\"B8V\",500.0,-10],[\"B0.5IV\",142.85714285714286,-10],[\"B9\",500.0,-10],[\"B9.5VpSi\",55.55555555555556,-10],[\"B5IV\",250.0,-10],[\"B9pCrEu:\",111.11111111111111,-10],[\"B6III\",200.0,-10],[\"B6IIIpMn\",333.3333333333333,-10],[\"B8III\",250.0,-10],[\"B0II\",500.0,-10],[\"B6IV-V\",200.0,-10],[\"B8V\",90.90909090909092,-10],[\"B3V\",166.66666666666666,-10],[\"B3IV\",166.66666666666666,-10],[\"B8V\",250.0,-10],[\"B3IV\",500.0,-10],[\"B1V\",166.66666666666666,-10]],\"hovertemplate\":\"\\u003cb\\u003e%{hovertext}\\u003c\\u002fb\\u003e\\u003cbr\\u003e\\u003cbr\\u003eColor=medium blue\\u003cbr\\u003ex=%{x}\\u003cbr\\u003ey=%{y}\\u003cbr\\u003ez=%{z}\\u003cbr\\u003eSpectral_Type=%{customdata[0]}\\u003cbr\\u003eDistance _in_Parsec=%{customdata[1]}\\u003cbr\\u003eRadial_Velocity=%{customdata[2]}\\u003cextra\\u003e\\u003c\\u002fextra\\u003e\",\"hovertext\":[26.0,55.0,91.0,113.0,266.0,283.0,338.0,628.0,814.0,927.0,928.0,939.0,979.0,1033.0,1163.0,1174.0,1202.0,1271.0,1402.0,1417.0,1442.0,1619.0,1778.0,1800.0,1821.0,1842.0,1847.0,1863.0,1902.0,1997.0,2128.0,2306.0,2348.0,2364.0,2370.0,2433.0,2438.0,2501.0,2522.0,2618.0,2674.0,2726.0,2948.0,2949.0,2963.0,2979.0,2980.0,3118.0,3205.0,3327.0,3359.0,3489.0,3574.0,3605.0,3661.0,3680.0,3745.0,3817.0,3971.0,4074.0,4118.0,4239.0,4262.0,4390.0,4401.0,4423.0,4456.0,4552.0,4583.0,4730.0,4731.0,4844.0,4975.0,4990.0,5141.0,5210.0,5211.0,5605.0,5606.0,5626.0,5683.0,5704.0,5708.0,5776.0,5781.0,5904.0,5948.0,6029.0,6112.0,6113.0,6184.0,6185.0,6244.0,6294.0,6477.0,6613.0,6657.0,6803.0,6848.0,7166.0,7305.0,7318.0,7440.0,7529.0,7642.0,7717.0,7889.0,7911.0,8065.0,8119.0,8357.0,8386.0,8808.0,8926.0,8962.0,9011.0,9071.0],\"legendgroup\":\"medium blue\",\"marker\":{\"color\":\"#EF553B\",\"symbol\":\"circle\",\"size\":4},\"mode\":\"markers\",\"name\":\"medium blue\",\"scene\":\"scene\",\"showlegend\":true,\"x\":[57.687395082133555,18.56271382564984,153.053853971594,255.2670153976509,69.24724308211364,138.9560251414957,42.17164527391701,65.38301121161673,64.39884691233434,156.36282511994344,156.36282511994344,2.212946934102799,124.89042469535424,51.19234611372006,91.43023510645685,48.514203376355795,29.18580919638113,6.1497187242416365,128.53383155358628,37.561805437120796,175.15329705876337,19.25706692054471,12.143318892208546,74.94023770673687,8.652771603766071,124.98134230638243,12.840444504025717,58.49979481152614,12.782303147309786,47.65101030996183,-2.63548614819375,-32.661869920649636,-24.984926074695313,-17.62502600078362,-14.782808805019599,-12.313888727479064,-75.81047316007403,-34.17722116231463,-51.19921806863629,-223.4027667580059,-10.026030836998698,-62.859394221542466,-37.565363305756044,-37.56833225408005,-55.364355031181226,-11.141003154363897,-11.141186499843435,-47.72914063569357,-23.454743362994286,-92.6126648640458,null,-58.25893047895271,-21.414938777865988,-54.829659706051146,-108.9178734849912,-88.68762336842765,-138.55780835413978,-35.12915616253558,-52.94800343705309,-63.46733143159879,-399.75448936884413,-49.07945334515544,-81.95205690301287,-52.66347382828675,-43.27818962031612,-105.16774175065272,-318.4714423285501,-83.82692819596276,-17.325950627229698,-56.367059114583675,-56.36677233261337,-24.466279379310425,-34.973466826866286,-82.05775988765411,-176.9358479693811,-44.06370139785908,-44.0628510168548,-52.372528209965424,-52.372528209965424,-40.02828724641743,-33.97803683692032,-32.52084865778383,-50.65593611023302,-55.736344170509305,-30.221789885829295,-79.14220183242197,-49.20537939062494,-19.04475672575836,-28.35171543933489,-28.35218728997009,-22.015258162239956,-22.006059279781812,-39.473287527397865,-32.048407847063245,-11.321905839918545,-4.917428972267069,-4.8272860276628835,10.634307957042505,3.880208800857057,41.77918066387571,144.94977291233346,43.74796476495001,187.07197674698574,19.99483976759377,97.43739816284041,60.75378786568125,124.26684094901749,163.75450837464652,99.77596972897189,191.22600368873577,97.28850147425248,69.66014651694202,73.71053770355442,87.56596433962807,178.97155748292948,346.8170962784832,95.59517782300486],\"y\":[2.528353362507021,1.3170240294346034,16.26218149426329,33.98242930896954,17.517423950261545,37.27214792477138,12.970670814688711,42.00738386272582,55.65546113196722,163.9749362653157,163.9749362653157,2.256961605428324,145.18569961089705,65.75551797239176,140.62448211422517,74.899544175701,47.0230099955374,8.992796517481992,300.9066696574025,93.0037797760034,442.09551776320126,74.46155283101152,75.20032714389842,494.35206156387954,64.1553915283912,990.7777812201036,105.47738322067563,496.489302386664,127.76131774213185,938.4836720880811,328.2586714277862,313.47588903967653,221.639735102699,140.23813852589774,108.06324628180737,76.27776875796935,434.91595175745056,169.79963943902308,235.991385303413,854.2175692060199,35.395869477944835,192.23807539693541,81.65262308300237,81.65125711387022,119.09535426977561,25.21185371868407,25.211772698356146,84.9365057813198,36.88934686549789,124.82438913583805,null,66.37994997353601,22.113299790864932,54.00179262900657,97.63209672228678,77.61052989220481,109.47872767580198,26.055537834429295,29.479054940888144,29.287946836365634,166.42219872797838,15.61567947324919,24.39203808412241,9.047662707790254,6.9778884026380945,14.506712233996685,35.28851224591364,2.594094178688119,0.028601542138146172,-6.571328879160143,-6.573788349831948,-5.009042414903719,-11.41251455877447,-27.236021708028865,-84.15254280355065,-23.38635531563576,-23.387957501571435,-54.7664338635461,-54.7664338635461,-43.24301611058736,-39.97114952726528,-39.93790916720686,-61.824304565110786,-76.11340085528333,-41.553497477140944,-128.65848774214584,-85.33080011576747,-37.48452545811253,-64.88422298809067,-64.88401680688204,-57.49538181499092,-57.49890326759625,-127.11823263890076,-113.7617403480661,-77.74737265223088,-87.41855313971627,-165.73722930568547,-240.0800168676333,-47.39425305488457,-157.58020277969996,-421.2632429600547,-124.01027348791357,-416.7078128747198,-40.25287985909303,-171.21919482565534,-93.03040509595495,-149.0526889986562,-195.92635739999227,-97.91986427888895,-172.47802806444443,-60.78276576778155,-39.87994319640761,-17.086879783157833,-11.515321459324255,-17.600877366984754,-18.853769945258158,-0.4136392932270818],\"z\":[11.224058551561459,74.63813279046127,197.0026884016805,428.5836503510562,123.71791482634838,138.93167409179944,-63.01169571453783,62.93203910498374,-71.42084552072659,105.65456543517486,105.65456543517486,-9.179791996109872,160.6969024216348,144.33756729740642,108.92780700300541,17.34627230695862,-4.841985708203231,-124.52433726146819,63.60299845884826,133.10591834121547,154.5084971874737,1.3424928028679624,-10.705623150774263,0.0,30.187018695764248,52.33595624294384,32.48574496919298,-8.726203218641755,62.624449541296784,342.0201433256687,-57.88272588897677,-108.52271815238556,-247.71494182579806,-88.3198773722008,21.200999486282758,-31.217216117992667,234.7357813929454,-99.99999999999999,-64.70476127563019,-469.4715627858908,-61.226235764436595,-146.9463130731183,-43.837114678907746,-43.837114678907746,-102.61024588760971,-96.12616959383189,-96.12616959383189,-104.47910023131007,-39.36062390346225,-125.86407820996747,null,-141.34134935940432,-39.4005376803361,-98.50134420084025,-136.3996720124997,-117.8511301977579,-93.89431255717817,-50.31397201485147,-109.32746339242446,-103.62969656938022,-249.99999999999997,-85.71673007021123,-234.92315519647707,-73.5469994886316,-89.87940462991669,-95.59008662269403,91.87911860566638,-54.463903501502706,-81.51230006115046,-111.37581552354598,-111.37581552354598,-61.81225697111917,-61.226235764436595,-28.09245403408613,-269.6723314583158,-31.17172142548264,-31.17172142548264,-81.26152240213005,-81.26152240213005,-58.92556509887895,-56.25797704762849,-85.71673007021123,-77.18426338433304,-82.00737862381341,-49.61845503278552,-70.43637695678323,-76.95768441570729,-22.355788704090035,-30.056240653021057,-30.056240653021057,78.8010753606722,78.8010753606722,-100.30250385867471,-40.69601930714459,-78.5674201318386,-68.40683059173982,-111.83858069414939,68.90933895424979,-15.450849718747369,-34.651948469626554,226.9952498697734,55.81873264132483,-203.3683215379001,32.65473623847073,153.91536883141458,0.0,-48.38437911993355,214.26253656217975,207.25939313876043,428.5836503510562,163.83040885779835,-42.67923298053553,148.50108736472797,141.34134935940432,173.66459261474932,359.66990016932556,136.52534071483197],\"type\":\"scatter3d\"},{\"customdata\":[[\"F0IV\",58.8235294117647,5],[\"F2V+F5V\",142.85714285714286,5],[\"F6IV-V\",166.66666666666666,5],[\"F1V\",41.666666666666664,5],[\"F4V\",200.0,5],[\"F6IV\",125.0,5],[\"F3V\",43.47826086956522,5],[\"F2V\",40.0,5],[\"F6V\",66.66666666666667,5],[\"F6IV\",45.45454545454546,5],[\"F7III+A0\",40.0,5],[\"F3V\",47.61904761904761,5],[\"F5V\",41.666666666666664,5],[\"F3V\",142.85714285714286,5],[\"F7V\",62.5,5],[\"F2V:\",47.61904761904761,5],[\"F4IIIpSr\",125.0,5],[\"F7V\",47.61904761904761,5],[\"F0IV-V\",83.33333333333333,5],[\"F9III+B9\",200.0,-10],[\"F3V\",52.631578947368425,5],[\"F6V\",52.631578947368425,5],[\"F2V\",29.41176470588235,5],[\"F0V:\",333.3333333333333,5],[\"F0V:\",333.3333333333333,5],[\"F0\",200.0,5],[\"F0III\",47.61904761904761,5],[\"F7V\",47.61904761904761,5],[\"F1IV\",41.666666666666664,5],[\"F2IV\",200.0,5],[\"F2V+F4V\",55.55555555555556,5],[\"F0Vn\",83.33333333333333,5],[\"F2V+F1V\",58.8235294117647,5],[\"F5V\",50.0,5],[\"F7IV\",100.0,5],[\"F3V\",62.5,5],[\"F8V\",76.92307692307692,5],[\"F8V\",76.92307692307692,5],[\"F0V\",83.33333333333333,5],[\"F0IV-V\",200.0,5],[\"F3V\",62.5,5],[\"F3V\",62.5,5],[\"F2V\",62.5,5],[\"F3V+F3V\",125.0,5],[\"F3Vn\",71.42857142857143,5],[\"F5V\",71.42857142857143,5],[\"F7V\",333.3333333333333,5],[\"F0V\",200.0,5],[\"F0V\",142.85714285714286,5],[\"F6V\",31.25,5],[\"F7V\",62.5,5],[\"F4V\",111.11111111111111,5],[\"F8V\",32.25806451612903,5],[\"F4III\",83.33333333333333,5],[\"F7V\",38.46153846153846,5],[\"F2-6V\",100.0,5],[\"F9V\",47.61904761904761,5],[\"F0V\",58.8235294117647,5],[\"F6IV-V\",90.90909090909092,5],[\"F6V\",90.90909090909092,5],[\"F2IV\",83.33333333333333,5],[\"F3V\",83.33333333333333,5],[\"F8IV\",1000.0,5],[\"F7IV+F5V\",31.25,5],[\"F6III+A9\",90.90909090909092,5],[\"F2V\",100.0,5],[\"F2III\",250.0,5],[\"F3V\",66.66666666666667,5],[\"F1Vp\",111.11111111111111,5],[\"F1III\",52.631578947368425,5],[\"F6V\",83.33333333333333,5],[\"F0V+F3V\",66.66666666666667,5]],\"hovertemplate\":\"\\u003cb\\u003e%{hovertext}\\u003c\\u002fb\\u003e\\u003cbr\\u003e\\u003cbr\\u003eColor=green\\u003cbr\\u003ex=%{x}\\u003cbr\\u003ey=%{y}\\u003cbr\\u003ez=%{z}\\u003cbr\\u003eSpectral_Type=%{customdata[0]}\\u003cbr\\u003eDistance _in_Parsec=%{customdata[1]}\\u003cbr\\u003eRadial_Velocity=%{customdata[2]}\\u003cextra\\u003e\\u003c\\u002fextra\\u003e\",\"hovertext\":[50.0,245.0,251.0,301.0,391.0,394.0,404.0,462.0,657.0,728.0,968.0,1077.0,1093.0,1279.0,1406.0,1470.0,1505.0,1782.0,1859.0,1914.0,1967.0,2186.0,2677.0,2842.0,2843.0,2898.0,3312.0,3313.0,3434.0,3472.0,3701.0,3758.0,3806.0,4157.0,4304.0,4370.0,4443.0,4444.0,4465.0,4602.0,4661.0,4677.0,4678.0,4698.0,4821.0,4822.0,4935.0,4937.0,4950.0,5113.0,5212.0,5222.0,5346.0,5393.0,5504.0,5524.0,5550.0,5610.0,5815.0,5816.0,5989.0,6052.0,6488.0,6565.0,6898.0,7599.0,7657.0,7693.0,8038.0,8352.0,8629.0,8680.0],\"legendgroup\":\"green\",\"marker\":{\"color\":\"#00cc96\",\"symbol\":\"circle\",\"size\":4},\"mode\":\"markers\",\"name\":\"green\",\"scene\":\"scene\",\"showlegend\":true,\"x\":[58.1266751167162,101.81479325113514,148.1728374984278,40.05564350263996,99.05012817396265,110.6130409764877,40.34483533797775,31.951496097191598,50.13310240928622,32.62365198038167,19.213137904377206,14.07768405518237,21.25095731478239,64.94153028151233,20.96074387124673,14.902446828218709,40.51608812537405,7.478673534492418,4.479440192036071,16.123216482842718,3.9026148612268674,-2.0856889187964485,-6.877656487900922,-96.25430139160964,-96.25610635935685,-59.45479745474458,-25.977183861416393,-25.977945134540544,-21.596500526051663,-132.0159918669749,-33.65722112418866,-65.88892254909614,-13.998671464560944,-41.960211557007355,-15.096452319765362,-43.39910107500814,-66.7865097606698,-66.78662786860953,-73.85383193854656,-186.68357771560656,-57.395177745044755,-62.218689025682686,-62.21850942839776,-110.92234220996902,-68.47267208486608,-68.47249079361559,-301.183960663739,-192.01126765392982,-40.10751651238285,-13.807942959102197,-47.30046657294734,-80.07295258143222,-25.089834863581036,-66.03611795455379,-26.873839558380137,-67.78598361335312,-33.44904242389382,-40.68714051479077,-52.064004147988456,-52.06347006135181,-39.627475152692575,-33.783630245745584,-123.14751860297764,-0.6598214686867051,9.875768626409483,47.959617452384805,115.93487570135652,34.85360647780883,78.00390424335815,21.825246841877224,78.29927704669032,53.91874347075196],\"y\":[3.8047292976671323,23.4441945985086,35.03112559462545,11.45110207404334,37.704763265932634,41.63639247685092,15.556316663753034,14.249116061626916,33.72404447062622,25.155356677432906,21.41903193959486,19.201881045323276,28.705047761891876,121.75250795575515,49.90325356491291,40.12147567318353,116.96496741561141,47.02811008651748,30.894161223820802,172.45301357253052,52.19756908860697,48.75455841164975,23.393393641545604,248.20123177262127,248.20053178502553,133.64227076227718,34.89447302704573,34.89390628450554,25.882245638894215,150.0768433056056,27.995313918263907,50.99979554667039,9.990993127404893,16.090913281981845,4.100554338291759,8.34523971382652,8.120989453724041,8.120018082455779,7.665164389597998,-3.484009306670056,-3.958939430889049,-4.938148723616113,-4.940411055725757,-10.040233174058843,-12.46417027188262,-12.46516616521049,-86.03372601590526,-54.97373010171674,-11.657687805642192,-6.234767076588388,-25.154075376520694,-43.2712054799971,-17.010521956592164,-48.27879173743826,-23.81396754550443,-61.243068647517255,-31.572719583600026,-42.17202917631162,-73.44199510754785,-73.44237372572843,-72.78895019936901,-66.84760284133482,-778.3287457506391,-9.634212803587943,-90.3571511294609,-87.12412465838572,-196.77254901236944,-55.865080889698945,-77.95967047642641,-13.218924001925577,-28.18947430819061,-17.004394394779027],\"z\":[8.186652997650908,-97.4283371517855,-67.78944051263336,0.7271836015534796,169.6096192312852,-40.69601930714459,-4.544715794245803,-19.392384809853482,28.174550782713297,19.209920988213614,-27.78633481835989,41.23930494211612,-21.45991978791892,36.974149300360104,31.249999999999996,20.87481651376559,-17.39663762000818,0.0,-77.26532121389894,99.99999999999999,-5.501498066718604,-19.716136495574318,-16.44685010208079,-200.60500771734942,-200.60500771734942,136.3996720124997,19.368411575038103,19.368411575038103,-24.491052178853046,-6.979899340500194,34.20341529586991,-1.4543672031069592,56.253220939002084,-21.918557339453873,-98.76883405951378,-44.194173824159215,-37.2930477112567,-37.2930477112567,37.832541644962234,71.67358990906006,-24.42069553057961,-3.27099726518399,-3.27099726518399,56.74881246744335,-16.067932453133213,-16.067932453133213,-114.00671444188957,-10.467191248588767,136.6149651375765,-27.331865848106116,-32.18987968187839,-63.73071515011623,11.03290784921512,-15.900749614712065,-13.78338267481924,40.67366430758002,12.324716433453368,5.126808396921068,-12.652100087278678,-12.652100087278678,-8.710705272304455,36.53092889908979,615.6614753256583,-29.720516134223548,-1.5865824033894103,-10.452846326765346,101.68416076895005,10.428964336015392,13.541038156127497,-46.03261616523136,-4.361329686911986,-35.32795094888033],\"type\":\"scatter3d\"},{\"customdata\":[[\"A0V\",200.0,0],[\"A5m\",76.92307692307692,0],[\"A2V\",111.11111111111111,0],[\"A2Vn\",200.0,0],[\"A1Vn\",62.5,0],[\"A0Vn\",62.5,0],[\"A5m\",125.0,0],[\"A0V\",100.0,0],[\"A3V\",125.0,0],[\"A5III\",250.0,0],[\"A1Vn\",100.0,0],[\"A9V\",76.92307692307692,0],[\"A3V\",200.0,0],[\"A2V\",250.0,0],[\"A2V\",111.11111111111111,0],[\"A2V+A5V\",55.55555555555556,0],[\"A1Vp:\",200.0,0],[\"ApEuCrSr\",66.66666666666667,0],[\"A3V\",142.85714285714286,0],[\"A1pSi\",500.0,0],[\"A2IV\",52.631578947368425,0],[\"A2\",52.631578947368425,0],[\"A7IV\",200.0,0],[\"A1V\",100.0,0],[\"A5m\",125.0,0],[\"A5m\",125.0,0],[\"A5V\",250.0,0],[\"A9IVDel\",142.85714285714286,0],[\"A0V\",250.0,0],[\"A0Vn\",333.3333333333333,0],[\"A4V\",100.0,0],[\"A8V\",100.0,0],[\"A3V\",100.0,0],[\"A3V\",200.0,0],[\"A4.5V\",83.33333333333333,0],[\"A0V\",90.90909090909092,0],[\"A3V\",90.90909090909092,0],[\"A3V+F\\u002fG\",333.3333333333333,10],[\"A1\",500.0,0],[\"A6Vn\",333.3333333333333,0],[\"A3V s\",90.90909090909092,0],[\"A0IV-V\",200.0,0],[\"A8m\",66.66666666666667,0],[\"A0V\",142.85714285714286,0],[\"A0IV+G:\",111.11111111111111,10],[\"A2Vpn:Eu\",111.11111111111111,0],[\"A6V\",100.0,0],[\"A3V\",100.0,0],[\"A2V:\",200.0,0],[\"A5m\",66.66666666666667,0],[\"A0V\",76.92307692307692,0],[\"A3V\",45.45454545454546,0],[\"A4m\",90.90909090909092,0],[\"A7m\",250.0,0],[\"A2m\",250.0,0],[\"A8V\",200.0,0],[\"A2V\",1000.0,0],[\"A0V\",1000.0,0],[\"ApSrEuCr\",47.61904761904761,0],[\"A0IV\",142.85714285714286,0],[\"A9IV\",71.42857142857143,0],[\"A5V\",83.33333333333333,0],[\"A0\",166.66666666666666,0],[\"A2V\",200.0,0],[\"A0III\",83.33333333333333,0],[\"A2IV\",90.90909090909092,0],[\"A1V\",66.66666666666667,0],[\"A2Vn\",66.66666666666667,0],[\"A8IVpeSr\",250.0,0],[\"A0V\",47.61904761904761,0],[\"A5IV\",250.0,0],[\"A3Vn\",333.3333333333333,0],[\"A1pCrEuS\",333.3333333333333,0],[\"A0V\",166.66666666666666,0],[\"A0V\",250.0,0],[\"A7V+F4V\",90.90909090909092,5],[\"A5m\",83.33333333333333,0],[\"A3V\",200.0,0],[\"A2pSrEu:\",142.85714285714286,0],[\"A1V\",55.55555555555556,0],[\"A1V\",83.33333333333333,0],[\"A2V\",200.0,0],[\"ApSi\",333.3333333333333,0],[\"A4V+A6V\",125.0,0],[\"A3V\",66.66666666666667,0],[\"A3m\",76.92307692307692,0],[\"A0V+A0V\",111.11111111111111,0],[\"A4Vn\",45.45454545454546,0],[\"A1Vnn\",100.0,0],[\"A2V\",83.33333333333333,0],[\"A5III+F7\",125.0,5],[\"A1V\",76.92307692307692,0],[\"A0V\",111.11111111111111,0],[\"A3V\",55.55555555555556,0],[\"A4V\",100.0,0],[\"A1V+F3V\",125.0,5],[\"A2Vnn\",83.33333333333333,0],[\"A1V\",250.0,0],[\"A3V\",250.0,0],[\"A5V\",47.61904761904761,0],[\"A5V\",47.61904761904761,0],[\"A3IV\",111.11111111111111,0],[\"A3V\",83.33333333333333,0],[\"A3V\",83.33333333333333,0],[\"A2V\",125.0,0],[\"A4V\",125.0,0],[\"A0V+A4V\",250.0,0],[\"A8V+F2V\",111.11111111111111,5],[\"A1V+A1V\",166.66666666666666,0],[\"A2Vm\",111.11111111111111,0],[\"A5V\",38.46153846153846,0],[\"A3V\",333.3333333333333,0],[\"A2II-III\",43.47826086956522,0],[\"A1m\",90.90909090909092,0],[\"A1V\",333.3333333333333,0],[\"A2IV s\",200.0,0],[\"Am\",111.11111111111111,0],[\"A2V\",100.0,0],[\"A2-3IV-V\",111.11111111111111,0],[\"A2-3IV-V\",111.11111111111111,0],[\"A3V\",333.3333333333333,0],[\"A0IIIpSi\",166.66666666666666,0],[\"A1m\",100.0,0],[\"A2V+K0II\",166.66666666666666,0],[\"A9IIIp\",76.92307692307692,0],[\"A0V\",166.66666666666666,0],[\"A5V\",250.0,0],[\"A1V+G:\",500.0,10],[\"A3V s\",125.0,0],[\"A8V+F6V\",71.42857142857143,5],[\"A4Vn\",90.90909090909092,0],[\"A8V+F0V\",125.0,5],[\"A3Ia\",1000.0,0],[\"A2V+F2V\",166.66666666666666,5]],\"hovertemplate\":\"\\u003cb\\u003e%{hovertext}\\u003c\\u002fb\\u003e\\u003cbr\\u003e\\u003cbr\\u003eColor=light blue\\u003cbr\\u003ex=%{x}\\u003cbr\\u003ey=%{y}\\u003cbr\\u003ez=%{z}\\u003cbr\\u003eSpectral_Type=%{customdata[0]}\\u003cbr\\u003eDistance _in_Parsec=%{customdata[1]}\\u003cbr\\u003eRadial_Velocity=%{customdata[2]}\\u003cextra\\u003e\\u003c\\u002fextra\\u003e\",\"hovertext\":[81.0,250.0,277.0,282.0,310.0,311.0,379.0,380.0,526.0,579.0,629.0,820.0,967.0,1043.0,1065.0,1188.0,1229.0,1357.0,1359.0,1371.0,1389.0,1410.0,1486.0,1589.0,1642.0,1670.0,1701.0,1706.0,1818.0,1826.0,1976.0,2175.0,2176.0,2257.0,2280.0,2424.0,2470.0,2482.0,2528.0,2570.0,2644.0,2754.0,2772.0,3164.0,3267.0,3278.0,3310.0,3311.0,3328.0,3337.0,3443.0,3455.0,3523.0,3552.0,3553.0,3686.0,3780.0,3781.0,3831.0,4002.0,4028.0,4043.0,4073.0,4148.0,4218.0,4229.0,4259.0,4260.0,4369.0,4428.0,4481.0,4560.0,4561.0,4628.0,4675.0,4719.0,4917.0,5031.0,5106.0,5144.0,5234.0,5397.0,5474.0,5577.0,5633.0,5887.0,6097.0,6162.0,6186.0,6216.0,6236.0,6246.0,6291.0,6298.0,6329.0,6367.0,6435.0,6627.0,6689.0,6749.0,6750.0,6758.0,6781.0,6782.0,6792.0,6798.0,6904.0,6909.0,7048.0,7059.0,7500.0,7638.0,7695.0,7723.0,7784.0,7818.0,7849.0,7917.0,7959.0,7960.0,8058.0,8180.0,8361.0,8396.0,8510.0,8533.0,8645.0,8652.0,8724.0,8739.0,8798.0,8966.0,9018.0,9044.0],\"legendgroup\":\"light blue\",\"marker\":{\"color\":\"#ab63fa\",\"symbol\":\"circle\",\"size\":4},\"mode\":\"markers\",\"name\":\"light blue\",\"scene\":\"scene\",\"showlegend\":true,\"x\":[196.1424753466974,46.06000456416921,100.39128407016916,138.95656722821545,55.96892287745709,55.967963187714325,93.98892308999663,38.396047917813625,75.74391354185254,62.787974585856496,65.3802616947341,46.99965924406499,55.02634584979245,78.29985798698074,59.80527351557315,26.994876134885068,78.99950491561388,14.56638299823508,51.08359301593844,151.72680097023937,20.17243390251482,18.989450934545324,33.8326126544782,6.590834350826466,27.82398400531215,24.00484637246897,50.34016988675988,23.424262680850113,23.56678152212852,44.967860913764696,2.235726762020529,-3.3877583765662593,-3.3882443579219594,-9.899685212921279,-7.776078014583132,-11.315599751891794,-9.381775574949044,-48.17584286580886,-98.34476525288622,-77.71858678280896,-15.817269397369827,-28.070715342354998,-12.064894450349858,-66.32546949052687,-50.32833662211131,-64.25067964801505,-53.70790350415319,-53.708951682203384,-92.61811126732636,-40.209460865493874,-24.622182401265047,-15.973105724739003,-61.41523294504438,-171.9737945968409,-171.9750954179579,-124.77857447423568,-681.7556310857486,-681.7820787508846,-25.812416418458834,-47.415465831388694,-61.4293757813483,-38.580336880614354,-140.50484004959475,-184.5990085125782,-76.51427751164138,-86.40524293062336,-58.51534461933937,-58.51595856925403,-243.77577978505707,-43.12110870949694,-109.12512745332884,-231.49976081307182,-231.50172428847017,-138.04032072338143,-201.64533609132982,-81.92339039269645,-47.511920886859535,-187.61636555128507,-127.48681391007983,-47.54167961632426,-42.806476150620014,-152.2589882401507,-219.63159013938795,-79.21598960452425,-43.3746238251663,-24.08933293085427,-37.922434190417995,-12.06782993511811,-22.004386695174546,-24.08526871500552,-23.961104381606525,-22.670363571157466,-27.848365433342007,-11.693993845541147,-24.800607098534336,-27.994144842752185,-13.876618951752796,-13.41502812005155,-3.194229225581873,1.0377242418077264,1.0377242418077264,2.7130431352789106,2.556797192098539,2.556797192098539,2.541937220179594,5.797582760973397,24.226119784115422,12.05382115020505,32.72757373493868,22.377608402680938,8.143747770432071,121.92108913440019,10.221013818744524,45.74038922193569,148.81867375212954,60.94020158637713,61.98725538951533,56.39565550705433,35.51517866779875,35.51656785611402,238.9446496577796,97.89585517594882,35.80304236723392,139.5922789606459,55.556601997714544,151.92059801931543,233.74606980850703,321.97035533793127,118.07591721155448,67.66304857320243,75.07839063190657,86.48402761807876,468.9147413256517,148.45606960762723],\"y\":[17.943850773687554,11.01410949428327,26.110214982458853,37.27012688736735,16.49422350999878,16.49747962202681,33.64519547725953,13.419779152380597,39.12016245158485,37.41986244043111,42.01166308082652,41.97029697015832,64.1587801371585,102.21617241004265,78.89532807712428,42.50226731355978,136.37271037521123,29.98218800321017,108.37399165008071,339.18289428536053,46.11253568422048,44.17257064592056,97.29297541577307,26.76416301283931,114.86801089348003,107.72632876413905,244.84041872231575,118.86362150694836,152.1004522386395,329.82520135633115,46.89389095065424,66.82724576730466,66.82722112906345,102.53080013814021,82.91874876248137,72.67130338748413,45.87208907975611,258.214540703689,446.0601225644498,322.8419406738383,53.6876907607845,86.35004281596517,32.1463902265859,108.64079540566804,73.08463038415452,90.62984525017796,72.06780472455688,72.06702356714224,124.82034802718803,53.12466921973187,29.547217713809136,18.913890721627247,66.10512112899784,178.87636908794988,178.87511845449373,106.16360119499993,519.5623551373002,519.5276493961298,18.68135460320096,24.812359588993555,29.87212690785858,18.806122284882758,64.32813825835254,71.75263043916553,24.996403963831547,27.538740204307395,16.88589853463112,16.88377084549695,46.31533910393245,5.745286143335342,10.113627161800787,4.9553376402992795,4.862743989144926,-6.052115041343485,-15.682458571019765,-8.77135445581633,-11.910664169138968,-68.9302573803628,-55.8798866416978,-22.339752764749658,-23.80865697337021,-112.1490774470307,-187.33739067836208,-78.29048010142007,-46.24586222899274,-36.96471297654784,-85.12020036532267,-29.789684991566073,-57.49954337358591,-70.23562534819932,-76.69249695238031,-71.44080402922388,-98.41403701366401,-42.799844325940064,-95.87094641879635,-121.8054542728268,-78.47460959554282,-238.69952065909825,-249.97959296641483,-34.81090273132162,-34.81090273132162,-108.64919877633682,-74.85585124980257,-74.85585124980257,-81.96797364774949,-118.04754146818213,-221.43031466884898,-99.13588845201615,-162.77493745910618,-108.83437717248141,-17.42130470024227,-215.63381095746595,-16.886321100931657,-69.31847303857481,-212.03586344788067,-83.04733936071584,-79.361479488473,-66.85152474772492,-38.20606685137129,-38.204775457777096,-230.5917426741211,-78.98259405600076,-22.4544897251609,-78.62143679310665,-26.22096473582915,-67.54808630382291,-81.56103755561863,-112.31888116229884,-33.37965905238035,-18.384700189643294,-17.519066324182283,-7.76921160524678,-22.858557087528887,-3.656274765646841],\"z\":[34.729635533386066,60.61621181590169,39.81866106058892,138.93167409179944,22.397996846581268,22.397996846581268,75.22687789400604,-91.35454576426008,91.41921270239631,239.07618899075885,62.93203910498374,44.12126433469585,181.26155740732997,214.2918251755281,50.44338885994965,23.47879231892775,123.13229506513166,-57.735026918962575,-77.80557643071816,334.5653031794291,15.38798445909141,-21.407191740831593,171.43346014042245,96.12616959383189,40.69601930714459,58.68394534823635,4.363101609320878,75.702752033315,-197.0026884016805,-17.445318747647946,88.29475928589268,74.31448254773943,74.31448254773943,171.43346014042245,2.9082913918750806,-53.435022935679385,77.9243000638284,-205.22049177521941,-203.3683215379001,-29.051914249219386,71.63734123697473,-178.20130483767358,57.14448671347416,64.85578567707812,-66.86833590578314,-1.939156270809279,43.837114678907746,43.837114678907746,-125.86407820996747,-2.3266331135000646,-66.61733875264912,-38.12138945206473,-11.079031218649773,-30.46733585128687,-30.46733585128687,114.71528727020922,-515.0380749100542,-515.0380749100542,-35.387848832256864,-132.45483636668394,20.8836931944812,-71.4306083918427,-62.434432235985334,27.834620192013087,-21.568253758543392,-6.341497613102301,27.11577620505335,27.11577620505335,-30.46733585128687,-19.368411575038103,224.69851157479172,239.779933446217,239.779933446217,-93.19881724512447,-146.9463130731183,38.41984197642723,67.41808286457895,6.979899340500194,-32.13586490626643,18.087119692064263,-67.41808286457895,-65.11363089143134,-166.66666666666663,-56.74881246744335,20.601132958329828,63.01169571453783,-60.51544833500301,32.141217326661256,78.8010753606722,-37.832541644962234,-95.75555538987226,17.303927257220383,-43.41456983214153,-33.43416795289157,13.917310096006544,-2.181550804660439,-24.36430872689473,73.09292618068419,0.0,-32.476112383928495,-32.476112383928495,23.10129897975104,36.53092889908979,36.53092889908979,94.3386975278465,-40.69601930714459,113.4976249348867,-48.707905198786385,14.525957124609693,0.0,33.30866937632456,223.04353545295274,38.73941409514643,36.97605846143639,209.77346368327912,171.43346014042245,46.9575846378555,48.480962024633705,-98.10528809543632,-98.10528809543632,-29.051914249219386,-109.34317149841787,90.63077870366499,-45.93955930283319,46.29346331938832,-11.626078957354217,-34.79327524001636,365.67685080958523,23.8511244220681,13.629213955467486,48.174478566655,-89.91747504233139,882.9475928589269,-75.66508328992447],\"type\":\"scatter3d\"},{\"customdata\":[[\"K2III\",142.85714285714286,0],[\"K1IV\",45.45454545454546,0],[\"K5IIIb\",166.66666666666666,0],[\"K3:+B2II\",500.0,-10],[\"K1III\",333.3333333333333,0],[\"K2III+A5\",166.66666666666666,0],[\"K0III\",333.3333333333333,0],[\"K1III\",333.3333333333333,0],[\"K1III-IV\",100.0,0],[\"K5III\",200.0,0],[\"K3III+K0\",333.3333333333333,0],[\"K0III\",333.3333333333333,0],[\"K1III\",83.33333333333333,0],[\"K0III\",166.66666666666666,0],[\"K2III\",111.11111111111111,0],[\"K0III\",125.0,0],[\"K3III\",333.3333333333333,0],[\"K0III\",250.0,0],[\"K1II\",250.0,0],[\"K5III+K3\",200.0,0],[\"K1III\",250.0,0],[\"K3III\",62.5,0],[\"K0III\",71.42857142857143,0],[\"K0IV\",100.0,0],[\"K0III-IV\",83.33333333333333,0],[\"K1III\",333.3333333333333,0],[\"K1III\",333.3333333333333,0]],\"hovertemplate\":\"\\u003cb\\u003e%{hovertext}\\u003c\\u002fb\\u003e\\u003cbr\\u003e\\u003cbr\\u003eColor=orange\\u003cbr\\u003ex=%{x}\\u003cbr\\u003ey=%{y}\\u003cbr\\u003ez=%{z}\\u003cbr\\u003eSpectral_Type=%{customdata[0]}\\u003cbr\\u003eDistance _in_Parsec=%{customdata[1]}\\u003cbr\\u003eRadial_Velocity=%{customdata[2]}\\u003cextra\\u003e\\u003c\\u002fextra\\u003e\",\"hovertext\":[247.0,258.0,1280.0,1669.0,2055.0,2099.0,2896.0,3050.0,3127.0,3425.0,4193.0,4231.0,4945.0,5428.0,6043.0,6512.0,6658.0,6665.0,6780.0,7099.0,7265.0,7535.0,7802.0,8619.0,8716.0,8760.0,8956.0],\"legendgroup\":\"orange\",\"marker\":{\"color\":\"#FFA15A\",\"symbol\":\"circle\",\"size\":4},\"mode\":\"markers\",\"name\":\"orange\",\"scene\":\"scene\",\"showlegend\":true,\"x\":[127.07438814909558,40.64349554690694,74.83245505233332,85.8922679870687,8.256399723760914,0.791943181304288,-116.43010367076877,-154.72213859140462,-46.37668685225665,-120.71187637049913,-314.0960173889489,-54.83210429941201,-56.508357202278624,-113.28832373121513,-42.42791162950009,-16.3668059725845,-7.971151121905266,-8.45390674123452,9.533533438488712,43.267713399731704,70.88560977509042,23.770481594593456,30.998908784409892,82.93473994771227,79.82785138387649,261.2487810862577,284.2960458319297],\"y\":[29.732891540825424,9.93913499758644,140.7245653383251,389.9707524637745,262.54045922533476,163.02267655462447,264.15405409069035,294.7334928280229,79.5141167900563,145.56393088690544,109.15191305616986,18.543200760301023,-16.704124895423515,-89.43762653103408,-82.9664500862764,-123.4440692486425,-276.2308703192719,-241.3334318511926,-216.29635165711238,-192.1503510089868,-225.50070150007,-47.37386252812314,-43.08993276124748,-30.295105663441305,-23.198430117090094,-66.87481390709311,-28.514336183575033],\"z\":[-58.105234725114315,17.760505840421537,48.72861745378946,300.90751157602415,-205.22049177521941,34.651948469626554,166.66666666666663,17.445318747647946,39.07311284892738,-65.11363089143134,23.252157914708434,-328.2692510040693,58.92556509887895,-83.33333333333331,60.51544833500301,-10.89446784345727,-186.39763449024895,64.70476127563019,-124.99999999999999,34.729635533386066,-81.39203861428918,33.119954014575306,47.795043311347015,-46.947156278589084,-5.8130394786771085,-195.92841743082437,-171.67935830335136],\"type\":\"scatter3d\"},{\"customdata\":[[\"M1III+F7\",125.0,5],[\"M1III+F7\",250.0,5],[\"M2II-III\",333.3333333333333,0],[\"M0.5IIb\",500.0,0]],\"hovertemplate\":\"\\u003cb\\u003e%{hovertext}\\u003c\\u002fb\\u003e\\u003cbr\\u003e\\u003cbr\\u003eColor=red\\u003cbr\\u003ex=%{x}\\u003cbr\\u003ey=%{y}\\u003cbr\\u003ez=%{z}\\u003cbr\\u003eSpectral_Type=%{customdata[0]}\\u003cbr\\u003eDistance _in_Parsec=%{customdata[1]}\\u003cbr\\u003eRadial_Velocity=%{customdata[2]}\\u003cextra\\u003e\\u003c\\u002fextra\\u003e\",\"hovertext\":[881.0,4666.0,5133.0,5594.0],\"legendgroup\":\"red\",\"marker\":{\"color\":\"#19d3f3\",\"symbol\":\"circle\",\"size\":4},\"mode\":\"markers\",\"name\":\"red\",\"scene\":\"scene\",\"showlegend\":true,\"x\":[16.408214312868637,-191.0371867301421,-195.08030806122954,-350.7423910931629],\"y\":[17.310304424242425,-13.464725705501094,-88.61212095867701,-356.34221626163065],\"z\":[122.70339793095799,160.6969024216348,255.348147706326,0.0],\"type\":\"scatter3d\"},{\"customdata\":[[\"gG6\",111.11111111111111,10],[\"dF5\",76.92307692307692,5]],\"hovertemplate\":\"\\u003cb\\u003e%{hovertext}\\u003c\\u002fb\\u003e\\u003cbr\\u003e\\u003cbr\\u003eColor=black\\u003cbr\\u003ex=%{x}\\u003cbr\\u003ey=%{y}\\u003cbr\\u003ez=%{z}\\u003cbr\\u003eSpectral_Type=%{customdata[0]}\\u003cbr\\u003eDistance _in_Parsec=%{customdata[1]}\\u003cbr\\u003eRadial_Velocity=%{customdata[2]}\\u003cextra\\u003e\\u003c\\u002fextra\\u003e\",\"hovertext\":[2021.0,3029.0],\"legendgroup\":\"black\",\"marker\":{\"color\":\"#FF6692\",\"symbol\":\"circle\",\"size\":4},\"mode\":\"markers\",\"name\":\"black\",\"scene\":\"scene\",\"showlegend\":true,\"x\":[4.886696539432974,-34.14311936084429],\"y\":[107.69983048354408,67.04941829671829],\"z\":[-26.880210622185302,-15.993206985981487],\"type\":\"scatter3d\"},{\"customdata\":[[\"O5III(f)\",142.85714285714286,0]],\"hovertemplate\":\"\\u003cb\\u003e%{hovertext}\\u003c\\u002fb\\u003e\\u003cbr\\u003e\\u003cbr\\u003eColor=deepest blue\\u003cbr\\u003ex=%{x}\\u003cbr\\u003ey=%{y}\\u003cbr\\u003ez=%{z}\\u003cbr\\u003eSpectral_Type=%{customdata[0]}\\u003cbr\\u003eDistance _in_Parsec=%{customdata[1]}\\u003cbr\\u003eRadial_Velocity=%{customdata[2]}\\u003cextra\\u003e\\u003c\\u002fextra\\u003e\",\"hovertext\":[6187.0],\"legendgroup\":\"deepest blue\",\"marker\":{\"color\":\"#B6E880\",\"symbol\":\"circle\",\"size\":4},\"mode\":\"markers\",\"name\":\"deepest blue\",\"scene\":\"scene\",\"showlegend\":true,\"x\":[-32.168638579788244],\"y\":[-90.01468409352503],\"z\":[-106.1635464967706],\"type\":\"scatter3d\"}],                        {\"template\":{\"data\":{\"histogram2dcontour\":[{\"type\":\"histogram2dcontour\",\"colorbar\":{\"outlinewidth\":0,\"ticks\":\"\"},\"colorscale\":[[0.0,\"#0d0887\"],[0.1111111111111111,\"#46039f\"],[0.2222222222222222,\"#7201a8\"],[0.3333333333333333,\"#9c179e\"],[0.4444444444444444,\"#bd3786\"],[0.5555555555555556,\"#d8576b\"],[0.6666666666666666,\"#ed7953\"],[0.7777777777777778,\"#fb9f3a\"],[0.8888888888888888,\"#fdca26\"],[1.0,\"#f0f921\"]]}],\"choropleth\":[{\"type\":\"choropleth\",\"colorbar\":{\"outlinewidth\":0,\"ticks\":\"\"}}],\"histogram2d\":[{\"type\":\"histogram2d\",\"colorbar\":{\"outlinewidth\":0,\"ticks\":\"\"},\"colorscale\":[[0.0,\"#0d0887\"],[0.1111111111111111,\"#46039f\"],[0.2222222222222222,\"#7201a8\"],[0.3333333333333333,\"#9c179e\"],[0.4444444444444444,\"#bd3786\"],[0.5555555555555556,\"#d8576b\"],[0.6666666666666666,\"#ed7953\"],[0.7777777777777778,\"#fb9f3a\"],[0.8888888888888888,\"#fdca26\"],[1.0,\"#f0f921\"]]}],\"heatmap\":[{\"type\":\"heatmap\",\"colorbar\":{\"outlinewidth\":0,\"ticks\":\"\"},\"colorscale\":[[0.0,\"#0d0887\"],[0.1111111111111111,\"#46039f\"],[0.2222222222222222,\"#7201a8\"],[0.3333333333333333,\"#9c179e\"],[0.4444444444444444,\"#bd3786\"],[0.5555555555555556,\"#d8576b\"],[0.6666666666666666,\"#ed7953\"],[0.7777777777777778,\"#fb9f3a\"],[0.8888888888888888,\"#fdca26\"],[1.0,\"#f0f921\"]]}],\"heatmapgl\":[{\"type\":\"heatmapgl\",\"colorbar\":{\"outlinewidth\":0,\"ticks\":\"\"},\"colorscale\":[[0.0,\"#0d0887\"],[0.1111111111111111,\"#46039f\"],[0.2222222222222222,\"#7201a8\"],[0.3333333333333333,\"#9c179e\"],[0.4444444444444444,\"#bd3786\"],[0.5555555555555556,\"#d8576b\"],[0.6666666666666666,\"#ed7953\"],[0.7777777777777778,\"#fb9f3a\"],[0.8888888888888888,\"#fdca26\"],[1.0,\"#f0f921\"]]}],\"contourcarpet\":[{\"type\":\"contourcarpet\",\"colorbar\":{\"outlinewidth\":0,\"ticks\":\"\"}}],\"contour\":[{\"type\":\"contour\",\"colorbar\":{\"outlinewidth\":0,\"ticks\":\"\"},\"colorscale\":[[0.0,\"#0d0887\"],[0.1111111111111111,\"#46039f\"],[0.2222222222222222,\"#7201a8\"],[0.3333333333333333,\"#9c179e\"],[0.4444444444444444,\"#bd3786\"],[0.5555555555555556,\"#d8576b\"],[0.6666666666666666,\"#ed7953\"],[0.7777777777777778,\"#fb9f3a\"],[0.8888888888888888,\"#fdca26\"],[1.0,\"#f0f921\"]]}],\"surface\":[{\"type\":\"surface\",\"colorbar\":{\"outlinewidth\":0,\"ticks\":\"\"},\"colorscale\":[[0.0,\"#0d0887\"],[0.1111111111111111,\"#46039f\"],[0.2222222222222222,\"#7201a8\"],[0.3333333333333333,\"#9c179e\"],[0.4444444444444444,\"#bd3786\"],[0.5555555555555556,\"#d8576b\"],[0.6666666666666666,\"#ed7953\"],[0.7777777777777778,\"#fb9f3a\"],[0.8888888888888888,\"#fdca26\"],[1.0,\"#f0f921\"]]}],\"mesh3d\":[{\"type\":\"mesh3d\",\"colorbar\":{\"outlinewidth\":0,\"ticks\":\"\"}}],\"scatter\":[{\"fillpattern\":{\"fillmode\":\"overlay\",\"size\":10,\"solidity\":0.2},\"type\":\"scatter\"}],\"parcoords\":[{\"type\":\"parcoords\",\"line\":{\"colorbar\":{\"outlinewidth\":0,\"ticks\":\"\"}}}],\"scatterpolargl\":[{\"type\":\"scatterpolargl\",\"marker\":{\"colorbar\":{\"outlinewidth\":0,\"ticks\":\"\"}}}],\"bar\":[{\"error_x\":{\"color\":\"#2a3f5f\"},\"error_y\":{\"color\":\"#2a3f5f\"},\"marker\":{\"line\":{\"color\":\"#E5ECF6\",\"width\":0.5},\"pattern\":{\"fillmode\":\"overlay\",\"size\":10,\"solidity\":0.2}},\"type\":\"bar\"}],\"scattergeo\":[{\"type\":\"scattergeo\",\"marker\":{\"colorbar\":{\"outlinewidth\":0,\"ticks\":\"\"}}}],\"scatterpolar\":[{\"type\":\"scatterpolar\",\"marker\":{\"colorbar\":{\"outlinewidth\":0,\"ticks\":\"\"}}}],\"histogram\":[{\"marker\":{\"pattern\":{\"fillmode\":\"overlay\",\"size\":10,\"solidity\":0.2}},\"type\":\"histogram\"}],\"scattergl\":[{\"type\":\"scattergl\",\"marker\":{\"colorbar\":{\"outlinewidth\":0,\"ticks\":\"\"}}}],\"scatter3d\":[{\"type\":\"scatter3d\",\"line\":{\"colorbar\":{\"outlinewidth\":0,\"ticks\":\"\"}},\"marker\":{\"colorbar\":{\"outlinewidth\":0,\"ticks\":\"\"}}}],\"scattermapbox\":[{\"type\":\"scattermapbox\",\"marker\":{\"colorbar\":{\"outlinewidth\":0,\"ticks\":\"\"}}}],\"scatterternary\":[{\"type\":\"scatterternary\",\"marker\":{\"colorbar\":{\"outlinewidth\":0,\"ticks\":\"\"}}}],\"scattercarpet\":[{\"type\":\"scattercarpet\",\"marker\":{\"colorbar\":{\"outlinewidth\":0,\"ticks\":\"\"}}}],\"carpet\":[{\"aaxis\":{\"endlinecolor\":\"#2a3f5f\",\"gridcolor\":\"white\",\"linecolor\":\"white\",\"minorgridcolor\":\"white\",\"startlinecolor\":\"#2a3f5f\"},\"baxis\":{\"endlinecolor\":\"#2a3f5f\",\"gridcolor\":\"white\",\"linecolor\":\"white\",\"minorgridcolor\":\"white\",\"startlinecolor\":\"#2a3f5f\"},\"type\":\"carpet\"}],\"table\":[{\"cells\":{\"fill\":{\"color\":\"#EBF0F8\"},\"line\":{\"color\":\"white\"}},\"header\":{\"fill\":{\"color\":\"#C8D4E3\"},\"line\":{\"color\":\"white\"}},\"type\":\"table\"}],\"barpolar\":[{\"marker\":{\"line\":{\"color\":\"#E5ECF6\",\"width\":0.5},\"pattern\":{\"fillmode\":\"overlay\",\"size\":10,\"solidity\":0.2}},\"type\":\"barpolar\"}],\"pie\":[{\"automargin\":true,\"type\":\"pie\"}]},\"layout\":{\"autotypenumbers\":\"strict\",\"colorway\":[\"#636efa\",\"#EF553B\",\"#00cc96\",\"#ab63fa\",\"#FFA15A\",\"#19d3f3\",\"#FF6692\",\"#B6E880\",\"#FF97FF\",\"#FECB52\"],\"font\":{\"color\":\"#2a3f5f\"},\"hovermode\":\"closest\",\"hoverlabel\":{\"align\":\"left\"},\"paper_bgcolor\":\"white\",\"plot_bgcolor\":\"#E5ECF6\",\"polar\":{\"bgcolor\":\"#E5ECF6\",\"angularaxis\":{\"gridcolor\":\"white\",\"linecolor\":\"white\",\"ticks\":\"\"},\"radialaxis\":{\"gridcolor\":\"white\",\"linecolor\":\"white\",\"ticks\":\"\"}},\"ternary\":{\"bgcolor\":\"#E5ECF6\",\"aaxis\":{\"gridcolor\":\"white\",\"linecolor\":\"white\",\"ticks\":\"\"},\"baxis\":{\"gridcolor\":\"white\",\"linecolor\":\"white\",\"ticks\":\"\"},\"caxis\":{\"gridcolor\":\"white\",\"linecolor\":\"white\",\"ticks\":\"\"}},\"coloraxis\":{\"colorbar\":{\"outlinewidth\":0,\"ticks\":\"\"}},\"colorscale\":{\"sequential\":[[0.0,\"#0d0887\"],[0.1111111111111111,\"#46039f\"],[0.2222222222222222,\"#7201a8\"],[0.3333333333333333,\"#9c179e\"],[0.4444444444444444,\"#bd3786\"],[0.5555555555555556,\"#d8576b\"],[0.6666666666666666,\"#ed7953\"],[0.7777777777777778,\"#fb9f3a\"],[0.8888888888888888,\"#fdca26\"],[1.0,\"#f0f921\"]],\"sequentialminus\":[[0.0,\"#0d0887\"],[0.1111111111111111,\"#46039f\"],[0.2222222222222222,\"#7201a8\"],[0.3333333333333333,\"#9c179e\"],[0.4444444444444444,\"#bd3786\"],[0.5555555555555556,\"#d8576b\"],[0.6666666666666666,\"#ed7953\"],[0.7777777777777778,\"#fb9f3a\"],[0.8888888888888888,\"#fdca26\"],[1.0,\"#f0f921\"]],\"diverging\":[[0,\"#8e0152\"],[0.1,\"#c51b7d\"],[0.2,\"#de77ae\"],[0.3,\"#f1b6da\"],[0.4,\"#fde0ef\"],[0.5,\"#f7f7f7\"],[0.6,\"#e6f5d0\"],[0.7,\"#b8e186\"],[0.8,\"#7fbc41\"],[0.9,\"#4d9221\"],[1,\"#276419\"]]},\"xaxis\":{\"gridcolor\":\"white\",\"linecolor\":\"white\",\"ticks\":\"\",\"title\":{\"standoff\":15},\"zerolinecolor\":\"white\",\"automargin\":true,\"zerolinewidth\":2},\"yaxis\":{\"gridcolor\":\"white\",\"linecolor\":\"white\",\"ticks\":\"\",\"title\":{\"standoff\":15},\"zerolinecolor\":\"white\",\"automargin\":true,\"zerolinewidth\":2},\"scene\":{\"xaxis\":{\"backgroundcolor\":\"#E5ECF6\",\"gridcolor\":\"white\",\"linecolor\":\"white\",\"showbackground\":true,\"ticks\":\"\",\"zerolinecolor\":\"white\",\"gridwidth\":2},\"yaxis\":{\"backgroundcolor\":\"#E5ECF6\",\"gridcolor\":\"white\",\"linecolor\":\"white\",\"showbackground\":true,\"ticks\":\"\",\"zerolinecolor\":\"white\",\"gridwidth\":2},\"zaxis\":{\"backgroundcolor\":\"#E5ECF6\",\"gridcolor\":\"white\",\"linecolor\":\"white\",\"showbackground\":true,\"ticks\":\"\",\"zerolinecolor\":\"white\",\"gridwidth\":2}},\"shapedefaults\":{\"line\":{\"color\":\"#2a3f5f\"}},\"annotationdefaults\":{\"arrowcolor\":\"#2a3f5f\",\"arrowhead\":0,\"arrowwidth\":1},\"geo\":{\"bgcolor\":\"white\",\"landcolor\":\"#E5ECF6\",\"subunitcolor\":\"white\",\"showland\":true,\"showlakes\":true,\"lakecolor\":\"white\"},\"title\":{\"x\":0.05},\"mapbox\":{\"style\":\"light\"}}},\"scene\":{\"domain\":{\"x\":[0.0,1.0],\"y\":[0.0,1.0]},\"xaxis\":{\"title\":{\"text\":\"x\"}},\"yaxis\":{\"title\":{\"text\":\"y\"}},\"zaxis\":{\"title\":{\"text\":\"z\"}}},\"legend\":{\"title\":{\"text\":\"Color\"},\"tracegroupgap\":0},\"margin\":{\"t\":60}},                        {\"responsive\": true}                    ).then(function(){\n",
       "                            \n",
       "var gd = document.getElementById('27100658-7a78-4387-a0f9-5bce726e272b');\n",
       "var x = new MutationObserver(function (mutations, observer) {{\n",
       "        var display = window.getComputedStyle(gd).display;\n",
       "        if (!display || display === 'none') {{\n",
       "            console.log([gd, 'removed!']);\n",
       "            Plotly.purge(gd);\n",
       "            observer.disconnect();\n",
       "        }}\n",
       "}});\n",
       "\n",
       "// Listen for the removal of the full notebook cells\n",
       "var notebookContainer = gd.closest('#notebook-container');\n",
       "if (notebookContainer) {{\n",
       "    x.observe(notebookContainer, {childList: true});\n",
       "}}\n",
       "\n",
       "// Listen for the clearing of the current output cell\n",
       "var outputEl = gd.closest('.output');\n",
       "if (outputEl) {{\n",
       "    x.observe(outputEl, {childList: true});\n",
       "}}\n",
       "\n",
       "                        })                };                });            </script>        </div>"
      ]
     },
     "metadata": {},
     "output_type": "display_data"
    }
   ],
   "source": [
    "fig = px.scatter_3d(df_tp, \n",
    "                    x='x', \n",
    "                    y='y', \n",
    "                    z='z', \n",
    "                    color='Color', \n",
    "                    hover_name='HR_Number', \n",
    "                    hover_data=['Spectral_Type', 'Distance _in_Parsec', 'Radial_Velocity']\n",
    ")\n",
    "fig.update_traces(marker=dict(size=int(4)))            \n",
    "fig.show()\n"
   ]
  }
 ],
 "metadata": {
  "kernelspec": {
   "display_name": "Python 3 (ipykernel)",
   "language": "python",
   "name": "python3"
  },
  "language_info": {
   "codemirror_mode": {
    "name": "ipython",
    "version": 3
   },
   "file_extension": ".py",
   "mimetype": "text/x-python",
   "name": "python",
   "nbconvert_exporter": "python",
   "pygments_lexer": "ipython3",
   "version": "3.11.5"
  }
 },
 "nbformat": 4,
 "nbformat_minor": 5
}
